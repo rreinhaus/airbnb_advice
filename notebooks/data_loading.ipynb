{
 "cells": [
  {
   "cell_type": "code",
   "execution_count": 1,
   "metadata": {
    "ExecuteTime": {
     "end_time": "2022-02-19T17:15:38.572111Z",
     "start_time": "2022-02-19T17:15:35.313720Z"
    }
   },
   "outputs": [
    {
     "name": "stderr",
     "output_type": "stream",
     "text": [
      "/Users/nfrate/.pyenv/versions/3.8.12/envs/airbnb_advice/lib/python3.8/site-packages/xgboost/compat.py:36: FutureWarning: pandas.Int64Index is deprecated and will be removed from pandas in a future version. Use pandas.Index with the appropriate dtype instead.\n",
      "  from pandas import MultiIndex, Int64Index\n"
     ]
    }
   ],
   "source": [
    "import csv_to_sqlite \n",
    "import sqlite3\n",
    "import pandas as pd\n",
    "import numpy as np\n",
    "import ast\n",
    "import seaborn as sns\n",
    "import matplotlib.pyplot as plt\n",
    "from sklearn.model_selection import train_test_split\n",
    "from sklearn.pipeline import Pipeline\n",
    "from sklearn.preprocessing import OneHotEncoder\n",
    "from sklearn.compose import ColumnTransformer\n",
    "from sklearn.pipeline import make_pipeline\n",
    "from sklearn.impute import KNNImputer\n",
    "from sklearn.preprocessing import StandardScaler, MinMaxScaler, RobustScaler\n",
    "from sklearn.linear_model import LinearRegression\n",
    "from sklearn.metrics import mean_squared_error, mean_absolute_error\n",
    "from sklearn.model_selection import GridSearchCV\n",
    "from xgboost import XGBRegressor\n",
    "from sklearn.neighbors import KNeighborsRegressor\n",
    "from sklearn.linear_model import SGDRegressor\n",
    "from sklearn.ensemble import RandomForestRegressor\n",
    "import statsmodels.formula.api as smf\n",
    " # visualizing pipelines in HTML\n",
    "from sklearn import set_config; set_config(display='diagram')\n",
    "\n",
    "pd.set_option('display.max_columns', None)"
   ]
  },
  {
   "cell_type": "markdown",
   "metadata": {},
   "source": [
    "## Data preparation"
   ]
  },
  {
   "cell_type": "code",
   "execution_count": 2,
   "metadata": {
    "ExecuteTime": {
     "end_time": "2022-02-19T17:15:44.461868Z",
     "start_time": "2022-02-19T17:15:38.575528Z"
    },
    "scrolled": false
   },
   "outputs": [],
   "source": [
    "# Load data\n",
    "df = pd.read_csv('../raw_data/listings.csv')\n",
    "\n",
    "# No needed columns\n",
    "columns_todrop = ['id',\n",
    "                  'listing_url',\n",
    "                  'scrape_id',\n",
    "                  'name',\n",
    "                  'description',\n",
    "                  'neighborhood_overview',\n",
    "                  'picture_url',\n",
    "                  'host_id',\n",
    "                  'host_url',\n",
    "                  'host_name',\n",
    "                  'host_location',\n",
    "                  'host_about',\n",
    "                  'host_thumbnail_url',\n",
    "                  'host_picture_url',\n",
    "                  'host_verifications',\n",
    "                  'neighbourhood',\n",
    "                  'neighbourhood_group_cleansed',\n",
    "                  'calendar_last_scraped',\n",
    "                  'bathrooms',\n",
    "                  'calendar_updated',\n",
    "                  'license',\n",
    "                  'host_response_time',\n",
    "                  'host_response_rate',\n",
    "                  'host_acceptance_rate',\n",
    "                  'bathrooms_text',\n",
    "                  'host_neighbourhood',\n",
    "                  'last_review'\n",
    "                 ]\n",
    "df = df.drop(columns=columns_todrop)\n",
    "\n",
    "# Converting Amenities from str to list\n",
    "df['amenities'] = df['amenities'].apply(lambda x: ast.literal_eval(x))\n",
    "df['total_amenities'] = df['amenities'].apply(lambda x: len(x))\n",
    "\n",
    "# Droping null - subset: host since \n",
    "df.dropna(subset=['host_since'],inplace=True)\n",
    "\n",
    "# Formating to datetime\n",
    "df[['host_since','first_review','last_scraped']] = df[['host_since','first_review','last_scraped']].apply(pd.to_datetime)\n",
    "\n",
    "# Calculating Host Tenure\n",
    "df['host_tenure'] = (df['last_scraped'] - df['host_since']).dt.days\n",
    "\n",
    "# Formating Price\n",
    "df['price'] = df['price'].apply(lambda x: x.replace('$', '').replace(',', '')\n",
    "                                if isinstance(x, str) else x).astype(float)\n",
    "\n",
    "# Reseting Index\n",
    "df.reset_index(drop=True,inplace=True)\n"
   ]
  },
  {
   "cell_type": "markdown",
   "metadata": {},
   "source": [
    "## Basic Model"
   ]
  },
  {
   "cell_type": "code",
   "execution_count": 3,
   "metadata": {
    "ExecuteTime": {
     "end_time": "2022-02-19T17:15:44.515536Z",
     "start_time": "2022-02-19T17:15:44.464363Z"
    }
   },
   "outputs": [
    {
     "data": {
      "text/html": [
       "<div>\n",
       "<style scoped>\n",
       "    .dataframe tbody tr th:only-of-type {\n",
       "        vertical-align: middle;\n",
       "    }\n",
       "\n",
       "    .dataframe tbody tr th {\n",
       "        vertical-align: top;\n",
       "    }\n",
       "\n",
       "    .dataframe thead th {\n",
       "        text-align: right;\n",
       "    }\n",
       "</style>\n",
       "<table border=\"1\" class=\"dataframe\">\n",
       "  <thead>\n",
       "    <tr style=\"text-align: right;\">\n",
       "      <th></th>\n",
       "      <th>latitude</th>\n",
       "      <th>longitude</th>\n",
       "      <th>room_type</th>\n",
       "      <th>accommodates</th>\n",
       "      <th>bedrooms</th>\n",
       "      <th>beds</th>\n",
       "      <th>minimum_nights</th>\n",
       "      <th>neighbourhood_cleansed</th>\n",
       "      <th>price</th>\n",
       "    </tr>\n",
       "  </thead>\n",
       "  <tbody>\n",
       "    <tr>\n",
       "      <th>0</th>\n",
       "      <td>51.56861</td>\n",
       "      <td>-0.11270</td>\n",
       "      <td>Private room</td>\n",
       "      <td>2</td>\n",
       "      <td>1.0</td>\n",
       "      <td>NaN</td>\n",
       "      <td>1</td>\n",
       "      <td>Islington</td>\n",
       "      <td>65.0</td>\n",
       "    </tr>\n",
       "    <tr>\n",
       "      <th>1</th>\n",
       "      <td>51.48780</td>\n",
       "      <td>-0.16813</td>\n",
       "      <td>Entire home/apt</td>\n",
       "      <td>2</td>\n",
       "      <td>1.0</td>\n",
       "      <td>1.0</td>\n",
       "      <td>3</td>\n",
       "      <td>Kensington and Chelsea</td>\n",
       "      <td>75.0</td>\n",
       "    </tr>\n",
       "    <tr>\n",
       "      <th>2</th>\n",
       "      <td>51.52195</td>\n",
       "      <td>-0.14094</td>\n",
       "      <td>Entire home/apt</td>\n",
       "      <td>6</td>\n",
       "      <td>3.0</td>\n",
       "      <td>3.0</td>\n",
       "      <td>4</td>\n",
       "      <td>Westminster</td>\n",
       "      <td>265.0</td>\n",
       "    </tr>\n",
       "    <tr>\n",
       "      <th>3</th>\n",
       "      <td>51.47935</td>\n",
       "      <td>-0.19743</td>\n",
       "      <td>Private room</td>\n",
       "      <td>2</td>\n",
       "      <td>1.0</td>\n",
       "      <td>1.0</td>\n",
       "      <td>3</td>\n",
       "      <td>Hammersmith and Fulham</td>\n",
       "      <td>150.0</td>\n",
       "    </tr>\n",
       "    <tr>\n",
       "      <th>4</th>\n",
       "      <td>51.57438</td>\n",
       "      <td>-0.21081</td>\n",
       "      <td>Private room</td>\n",
       "      <td>2</td>\n",
       "      <td>1.0</td>\n",
       "      <td>NaN</td>\n",
       "      <td>10</td>\n",
       "      <td>Barnet</td>\n",
       "      <td>29.0</td>\n",
       "    </tr>\n",
       "  </tbody>\n",
       "</table>\n",
       "</div>"
      ],
      "text/plain": [
       "   latitude  longitude        room_type  accommodates  bedrooms  beds  \\\n",
       "0  51.56861   -0.11270     Private room             2       1.0   NaN   \n",
       "1  51.48780   -0.16813  Entire home/apt             2       1.0   1.0   \n",
       "2  51.52195   -0.14094  Entire home/apt             6       3.0   3.0   \n",
       "3  51.47935   -0.19743     Private room             2       1.0   1.0   \n",
       "4  51.57438   -0.21081     Private room             2       1.0   NaN   \n",
       "\n",
       "   minimum_nights  neighbourhood_cleansed  price  \n",
       "0               1               Islington   65.0  \n",
       "1               3  Kensington and Chelsea   75.0  \n",
       "2               4             Westminster  265.0  \n",
       "3               3  Hammersmith and Fulham  150.0  \n",
       "4              10                  Barnet   29.0  "
      ]
     },
     "execution_count": 3,
     "metadata": {},
     "output_type": "execute_result"
    }
   ],
   "source": [
    "# Set of columns for a basic model\n",
    "reg_columns = [\n",
    "    'latitude',\n",
    "    'longitude',\n",
    "    'room_type',\n",
    "    'accommodates',\n",
    "    'bedrooms',\n",
    "    'beds',\n",
    "    'minimum_nights',\n",
    "    'neighbourhood_cleansed',\n",
    "    'price'\n",
    "    \n",
    "]\n",
    "df_reg = df[reg_columns]\n",
    "df_reg.head(5)"
   ]
  },
  {
   "cell_type": "code",
   "execution_count": 4,
   "metadata": {
    "ExecuteTime": {
     "end_time": "2022-02-19T17:15:44.560933Z",
     "start_time": "2022-02-19T17:15:44.519992Z"
    }
   },
   "outputs": [
    {
     "data": {
      "text/plain": [
       "latitude                  0.000000\n",
       "longitude                 0.000000\n",
       "room_type                 0.000000\n",
       "accommodates              0.000000\n",
       "bedrooms                  6.024151\n",
       "beds                      5.466943\n",
       "minimum_nights            0.000000\n",
       "neighbourhood_cleansed    0.000000\n",
       "price                     0.000000\n",
       "dtype: float64"
      ]
     },
     "execution_count": 4,
     "metadata": {},
     "output_type": "execute_result"
    }
   ],
   "source": [
    "# Total percent Nulls values\n",
    "df_reg.isnull().sum()/len(df_reg)*100"
   ]
  },
  {
   "cell_type": "markdown",
   "metadata": {
    "ExecuteTime": {
     "end_time": "2022-02-19T12:49:06.825895Z",
     "start_time": "2022-02-19T12:49:06.820266Z"
    }
   },
   "source": [
    "### Basic Model Pipeline"
   ]
  },
  {
   "cell_type": "code",
   "execution_count": 5,
   "metadata": {
    "ExecuteTime": {
     "end_time": "2022-02-19T17:15:44.572312Z",
     "start_time": "2022-02-19T17:15:44.564037Z"
    }
   },
   "outputs": [],
   "source": [
    "X = df_reg.drop(columns='price')\n",
    "y = df_reg['price']"
   ]
  },
  {
   "cell_type": "code",
   "execution_count": 6,
   "metadata": {
    "ExecuteTime": {
     "end_time": "2022-02-19T17:15:44.593617Z",
     "start_time": "2022-02-19T17:15:44.575233Z"
    }
   },
   "outputs": [],
   "source": [
    "X_train, X_test, y_train, y_test = train_test_split(X, y, test_size=0.3, random_state=42)"
   ]
  },
  {
   "cell_type": "code",
   "execution_count": 7,
   "metadata": {
    "ExecuteTime": {
     "end_time": "2022-02-19T17:15:44.631344Z",
     "start_time": "2022-02-19T17:15:44.596087Z"
    }
   },
   "outputs": [
    {
     "data": {
      "text/html": [
       "<style>#sk-6d0b0377-0a5d-413e-abe6-6d724140dd8f {color: black;background-color: white;}#sk-6d0b0377-0a5d-413e-abe6-6d724140dd8f pre{padding: 0;}#sk-6d0b0377-0a5d-413e-abe6-6d724140dd8f div.sk-toggleable {background-color: white;}#sk-6d0b0377-0a5d-413e-abe6-6d724140dd8f label.sk-toggleable__label {cursor: pointer;display: block;width: 100%;margin-bottom: 0;padding: 0.3em;box-sizing: border-box;text-align: center;}#sk-6d0b0377-0a5d-413e-abe6-6d724140dd8f label.sk-toggleable__label-arrow:before {content: \"▸\";float: left;margin-right: 0.25em;color: #696969;}#sk-6d0b0377-0a5d-413e-abe6-6d724140dd8f label.sk-toggleable__label-arrow:hover:before {color: black;}#sk-6d0b0377-0a5d-413e-abe6-6d724140dd8f div.sk-estimator:hover label.sk-toggleable__label-arrow:before {color: black;}#sk-6d0b0377-0a5d-413e-abe6-6d724140dd8f div.sk-toggleable__content {max-height: 0;max-width: 0;overflow: hidden;text-align: left;background-color: #f0f8ff;}#sk-6d0b0377-0a5d-413e-abe6-6d724140dd8f div.sk-toggleable__content pre {margin: 0.2em;color: black;border-radius: 0.25em;background-color: #f0f8ff;}#sk-6d0b0377-0a5d-413e-abe6-6d724140dd8f input.sk-toggleable__control:checked~div.sk-toggleable__content {max-height: 200px;max-width: 100%;overflow: auto;}#sk-6d0b0377-0a5d-413e-abe6-6d724140dd8f input.sk-toggleable__control:checked~label.sk-toggleable__label-arrow:before {content: \"▾\";}#sk-6d0b0377-0a5d-413e-abe6-6d724140dd8f div.sk-estimator input.sk-toggleable__control:checked~label.sk-toggleable__label {background-color: #d4ebff;}#sk-6d0b0377-0a5d-413e-abe6-6d724140dd8f div.sk-label input.sk-toggleable__control:checked~label.sk-toggleable__label {background-color: #d4ebff;}#sk-6d0b0377-0a5d-413e-abe6-6d724140dd8f input.sk-hidden--visually {border: 0;clip: rect(1px 1px 1px 1px);clip: rect(1px, 1px, 1px, 1px);height: 1px;margin: -1px;overflow: hidden;padding: 0;position: absolute;width: 1px;}#sk-6d0b0377-0a5d-413e-abe6-6d724140dd8f div.sk-estimator {font-family: monospace;background-color: #f0f8ff;border: 1px dotted black;border-radius: 0.25em;box-sizing: border-box;margin-bottom: 0.5em;}#sk-6d0b0377-0a5d-413e-abe6-6d724140dd8f div.sk-estimator:hover {background-color: #d4ebff;}#sk-6d0b0377-0a5d-413e-abe6-6d724140dd8f div.sk-parallel-item::after {content: \"\";width: 100%;border-bottom: 1px solid gray;flex-grow: 1;}#sk-6d0b0377-0a5d-413e-abe6-6d724140dd8f div.sk-label:hover label.sk-toggleable__label {background-color: #d4ebff;}#sk-6d0b0377-0a5d-413e-abe6-6d724140dd8f div.sk-serial::before {content: \"\";position: absolute;border-left: 1px solid gray;box-sizing: border-box;top: 2em;bottom: 0;left: 50%;}#sk-6d0b0377-0a5d-413e-abe6-6d724140dd8f div.sk-serial {display: flex;flex-direction: column;align-items: center;background-color: white;padding-right: 0.2em;padding-left: 0.2em;}#sk-6d0b0377-0a5d-413e-abe6-6d724140dd8f div.sk-item {z-index: 1;}#sk-6d0b0377-0a5d-413e-abe6-6d724140dd8f div.sk-parallel {display: flex;align-items: stretch;justify-content: center;background-color: white;}#sk-6d0b0377-0a5d-413e-abe6-6d724140dd8f div.sk-parallel::before {content: \"\";position: absolute;border-left: 1px solid gray;box-sizing: border-box;top: 2em;bottom: 0;left: 50%;}#sk-6d0b0377-0a5d-413e-abe6-6d724140dd8f div.sk-parallel-item {display: flex;flex-direction: column;position: relative;background-color: white;}#sk-6d0b0377-0a5d-413e-abe6-6d724140dd8f div.sk-parallel-item:first-child::after {align-self: flex-end;width: 50%;}#sk-6d0b0377-0a5d-413e-abe6-6d724140dd8f div.sk-parallel-item:last-child::after {align-self: flex-start;width: 50%;}#sk-6d0b0377-0a5d-413e-abe6-6d724140dd8f div.sk-parallel-item:only-child::after {width: 0;}#sk-6d0b0377-0a5d-413e-abe6-6d724140dd8f div.sk-dashed-wrapped {border: 1px dashed gray;margin: 0 0.4em 0.5em 0.4em;box-sizing: border-box;padding-bottom: 0.4em;background-color: white;position: relative;}#sk-6d0b0377-0a5d-413e-abe6-6d724140dd8f div.sk-label label {font-family: monospace;font-weight: bold;background-color: white;display: inline-block;line-height: 1.2em;}#sk-6d0b0377-0a5d-413e-abe6-6d724140dd8f div.sk-label-container {position: relative;z-index: 2;text-align: center;}#sk-6d0b0377-0a5d-413e-abe6-6d724140dd8f div.sk-container {/* jupyter's `normalize.less` sets `[hidden] { display: none; }` but bootstrap.min.css set `[hidden] { display: none !important; }` so we also need the `!important` here to be able to override the default hidden behavior on the sphinx rendered scikit-learn.org. See: https://github.com/scikit-learn/scikit-learn/issues/21755 */display: inline-block !important;position: relative;}#sk-6d0b0377-0a5d-413e-abe6-6d724140dd8f div.sk-text-repr-fallback {display: none;}</style><div id=\"sk-6d0b0377-0a5d-413e-abe6-6d724140dd8f\" class=\"sk-top-container\"><div class=\"sk-text-repr-fallback\"><pre>Pipeline(steps=[(&#x27;preprocessor&#x27;,\n",
       "                 ColumnTransformer(remainder=&#x27;passthrough&#x27;,\n",
       "                                   transformers=[(&#x27;encoding&#x27;,\n",
       "                                                  OneHotEncoder(handle_unknown=&#x27;ignore&#x27;,\n",
       "                                                                sparse=False),\n",
       "                                                  [&#x27;room_type&#x27;,\n",
       "                                                   &#x27;neighbourhood_cleansed&#x27;]),\n",
       "                                                 (&#x27;imputer&#x27;, KNNImputer(),\n",
       "                                                  [&#x27;bedrooms&#x27;, &#x27;beds&#x27;])])),\n",
       "                (&#x27;scaler&#x27;, StandardScaler()), (&#x27;model&#x27;, LinearRegression())])</pre><b>Please rerun this cell to show the HTML repr or trust the notebook.</b></div><div class=\"sk-container\" hidden><div class=\"sk-item sk-dashed-wrapped\"><div class=\"sk-label-container\"><div class=\"sk-label sk-toggleable\"><input class=\"sk-toggleable__control sk-hidden--visually\" id=\"07c03356-1c19-4e83-859f-d852e252f42e\" type=\"checkbox\" ><label for=\"07c03356-1c19-4e83-859f-d852e252f42e\" class=\"sk-toggleable__label sk-toggleable__label-arrow\">Pipeline</label><div class=\"sk-toggleable__content\"><pre>Pipeline(steps=[(&#x27;preprocessor&#x27;,\n",
       "                 ColumnTransformer(remainder=&#x27;passthrough&#x27;,\n",
       "                                   transformers=[(&#x27;encoding&#x27;,\n",
       "                                                  OneHotEncoder(handle_unknown=&#x27;ignore&#x27;,\n",
       "                                                                sparse=False),\n",
       "                                                  [&#x27;room_type&#x27;,\n",
       "                                                   &#x27;neighbourhood_cleansed&#x27;]),\n",
       "                                                 (&#x27;imputer&#x27;, KNNImputer(),\n",
       "                                                  [&#x27;bedrooms&#x27;, &#x27;beds&#x27;])])),\n",
       "                (&#x27;scaler&#x27;, StandardScaler()), (&#x27;model&#x27;, LinearRegression())])</pre></div></div></div><div class=\"sk-serial\"><div class=\"sk-item sk-dashed-wrapped\"><div class=\"sk-label-container\"><div class=\"sk-label sk-toggleable\"><input class=\"sk-toggleable__control sk-hidden--visually\" id=\"9075d5d6-bbce-43f6-b45b-2ea972c3df1d\" type=\"checkbox\" ><label for=\"9075d5d6-bbce-43f6-b45b-2ea972c3df1d\" class=\"sk-toggleable__label sk-toggleable__label-arrow\">preprocessor: ColumnTransformer</label><div class=\"sk-toggleable__content\"><pre>ColumnTransformer(remainder=&#x27;passthrough&#x27;,\n",
       "                  transformers=[(&#x27;encoding&#x27;,\n",
       "                                 OneHotEncoder(handle_unknown=&#x27;ignore&#x27;,\n",
       "                                               sparse=False),\n",
       "                                 [&#x27;room_type&#x27;, &#x27;neighbourhood_cleansed&#x27;]),\n",
       "                                (&#x27;imputer&#x27;, KNNImputer(),\n",
       "                                 [&#x27;bedrooms&#x27;, &#x27;beds&#x27;])])</pre></div></div></div><div class=\"sk-parallel\"><div class=\"sk-parallel-item\"><div class=\"sk-item\"><div class=\"sk-label-container\"><div class=\"sk-label sk-toggleable\"><input class=\"sk-toggleable__control sk-hidden--visually\" id=\"6bf8e303-2e3a-4d70-b289-f55059dcc5b0\" type=\"checkbox\" ><label for=\"6bf8e303-2e3a-4d70-b289-f55059dcc5b0\" class=\"sk-toggleable__label sk-toggleable__label-arrow\">encoding</label><div class=\"sk-toggleable__content\"><pre>[&#x27;room_type&#x27;, &#x27;neighbourhood_cleansed&#x27;]</pre></div></div></div><div class=\"sk-serial\"><div class=\"sk-item\"><div class=\"sk-estimator sk-toggleable\"><input class=\"sk-toggleable__control sk-hidden--visually\" id=\"b29f6744-bd9b-4c79-aa4a-63b4dd4ed35c\" type=\"checkbox\" ><label for=\"b29f6744-bd9b-4c79-aa4a-63b4dd4ed35c\" class=\"sk-toggleable__label sk-toggleable__label-arrow\">OneHotEncoder</label><div class=\"sk-toggleable__content\"><pre>OneHotEncoder(handle_unknown=&#x27;ignore&#x27;, sparse=False)</pre></div></div></div></div></div></div><div class=\"sk-parallel-item\"><div class=\"sk-item\"><div class=\"sk-label-container\"><div class=\"sk-label sk-toggleable\"><input class=\"sk-toggleable__control sk-hidden--visually\" id=\"e245ebab-07b9-4fa7-933d-d1aa2ff22c3f\" type=\"checkbox\" ><label for=\"e245ebab-07b9-4fa7-933d-d1aa2ff22c3f\" class=\"sk-toggleable__label sk-toggleable__label-arrow\">imputer</label><div class=\"sk-toggleable__content\"><pre>[&#x27;bedrooms&#x27;, &#x27;beds&#x27;]</pre></div></div></div><div class=\"sk-serial\"><div class=\"sk-item\"><div class=\"sk-estimator sk-toggleable\"><input class=\"sk-toggleable__control sk-hidden--visually\" id=\"770a7479-0d70-463e-b8b0-0e27e3849f67\" type=\"checkbox\" ><label for=\"770a7479-0d70-463e-b8b0-0e27e3849f67\" class=\"sk-toggleable__label sk-toggleable__label-arrow\">KNNImputer</label><div class=\"sk-toggleable__content\"><pre>KNNImputer()</pre></div></div></div></div></div></div><div class=\"sk-parallel-item\"><div class=\"sk-item\"><div class=\"sk-label-container\"><div class=\"sk-label sk-toggleable\"><input class=\"sk-toggleable__control sk-hidden--visually\" id=\"6b527867-1178-407b-8183-d2b41aed66a1\" type=\"checkbox\" ><label for=\"6b527867-1178-407b-8183-d2b41aed66a1\" class=\"sk-toggleable__label sk-toggleable__label-arrow\">remainder</label><div class=\"sk-toggleable__content\"><pre></pre></div></div></div><div class=\"sk-serial\"><div class=\"sk-item\"><div class=\"sk-estimator sk-toggleable\"><input class=\"sk-toggleable__control sk-hidden--visually\" id=\"2cce2971-367d-429f-9281-cbcc184219ce\" type=\"checkbox\" ><label for=\"2cce2971-367d-429f-9281-cbcc184219ce\" class=\"sk-toggleable__label sk-toggleable__label-arrow\">passthrough</label><div class=\"sk-toggleable__content\"><pre>passthrough</pre></div></div></div></div></div></div></div></div><div class=\"sk-item\"><div class=\"sk-estimator sk-toggleable\"><input class=\"sk-toggleable__control sk-hidden--visually\" id=\"83d58d8e-8a9b-4574-b016-78fdd88c3bb2\" type=\"checkbox\" ><label for=\"83d58d8e-8a9b-4574-b016-78fdd88c3bb2\" class=\"sk-toggleable__label sk-toggleable__label-arrow\">StandardScaler</label><div class=\"sk-toggleable__content\"><pre>StandardScaler()</pre></div></div></div><div class=\"sk-item\"><div class=\"sk-estimator sk-toggleable\"><input class=\"sk-toggleable__control sk-hidden--visually\" id=\"c762e3cd-551d-4ee3-b911-adb840c514a1\" type=\"checkbox\" ><label for=\"c762e3cd-551d-4ee3-b911-adb840c514a1\" class=\"sk-toggleable__label sk-toggleable__label-arrow\">LinearRegression</label><div class=\"sk-toggleable__content\"><pre>LinearRegression()</pre></div></div></div></div></div></div></div>"
      ],
      "text/plain": [
       "Pipeline(steps=[('preprocessor',\n",
       "                 ColumnTransformer(remainder='passthrough',\n",
       "                                   transformers=[('encoding',\n",
       "                                                  OneHotEncoder(handle_unknown='ignore',\n",
       "                                                                sparse=False),\n",
       "                                                  ['room_type',\n",
       "                                                   'neighbourhood_cleansed']),\n",
       "                                                 ('imputer', KNNImputer(),\n",
       "                                                  ['bedrooms', 'beds'])])),\n",
       "                ('scaler', StandardScaler()), ('model', LinearRegression())])"
      ]
     },
     "execution_count": 7,
     "metadata": {},
     "output_type": "execute_result"
    }
   ],
   "source": [
    "cat_transformer = OneHotEncoder(handle_unknown='ignore', sparse=False)\n",
    "\n",
    "preprocessor = ColumnTransformer([\n",
    "    ('encoding', cat_transformer, ['room_type','neighbourhood_cleansed']),\n",
    "    ('imputer', KNNImputer(missing_values=np.nan),['bedrooms','beds'])],\n",
    "    remainder='passthrough')\n",
    "\n",
    "pipe = Pipeline([\n",
    "    ('preprocessor', preprocessor),\n",
    "    ('scaler', StandardScaler()),\n",
    "    ('model',LinearRegression())\n",
    "])\n",
    "\n",
    "pipe"
   ]
  },
  {
   "cell_type": "markdown",
   "metadata": {},
   "source": [
    "### Basic Model Scoring"
   ]
  },
  {
   "cell_type": "code",
   "execution_count": 8,
   "metadata": {
    "ExecuteTime": {
     "end_time": "2022-02-19T17:16:48.564367Z",
     "start_time": "2022-02-19T17:15:44.634487Z"
    }
   },
   "outputs": [
    {
     "name": "stdout",
     "output_type": "stream",
     "text": [
      "Scoring with Train data\n",
      "R2 Score: 0.07874037369689924\n",
      "RMSE: 315.107607763427\n",
      "MAE: 88.77831432236017\n"
     ]
    }
   ],
   "source": [
    "pipe.fit(X_train,y_train)\n",
    "y_pred = pipe.predict(X_train)\n",
    "\n",
    "print('Scoring with Train data')\n",
    "print(f'R2 Score: {pipe.score(X_train,y_train)}')\n",
    "print(f'RMSE: {mean_squared_error(y_train, y_pred,squared=False)}')\n",
    "print(f'MAE: {mean_absolute_error(y_train, y_pred)}')"
   ]
  },
  {
   "cell_type": "code",
   "execution_count": 9,
   "metadata": {
    "ExecuteTime": {
     "end_time": "2022-02-19T17:17:05.882996Z",
     "start_time": "2022-02-19T17:16:48.567431Z"
    }
   },
   "outputs": [
    {
     "name": "stdout",
     "output_type": "stream",
     "text": [
      "Scoring with Test data\n",
      "R2 Score: 0.056744042530647354\n",
      "RMSE: 384.7592592874731\n",
      "MAE: 93.96510950454409\n"
     ]
    }
   ],
   "source": [
    "y_pred = pipe.predict(X_test)\n",
    "print('Scoring with Test data')\n",
    "\n",
    "print(f'R2 Score: {pipe.score(X_test,y_test)}')\n",
    "print(f'RMSE: {mean_squared_error(y_test, y_pred,squared=False)}')\n",
    "print(f'MAE: {mean_absolute_error(y_test, y_pred)}')"
   ]
  },
  {
   "cell_type": "markdown",
   "metadata": {
    "heading_collapsed": true
   },
   "source": [
    "### Basic Model pickle file"
   ]
  },
  {
   "cell_type": "code",
   "execution_count": 10,
   "metadata": {
    "ExecuteTime": {
     "end_time": "2022-02-19T17:17:05.894317Z",
     "start_time": "2022-02-19T17:17:05.888704Z"
    },
    "hidden": true
   },
   "outputs": [],
   "source": [
    "import pickle\n",
    "\n",
    "# Export pipeline as pickle file\n",
    "with open(\"pipeline.pkl\", \"wb\") as file:\n",
    "    pickle.dump(pipe, file )"
   ]
  },
  {
   "cell_type": "markdown",
   "metadata": {},
   "source": [
    "## Model Tuning Exploration "
   ]
  },
  {
   "cell_type": "markdown",
   "metadata": {},
   "source": [
    "### Correlations with Price"
   ]
  },
  {
   "cell_type": "code",
   "execution_count": 11,
   "metadata": {
    "ExecuteTime": {
     "end_time": "2022-02-19T17:17:06.463813Z",
     "start_time": "2022-02-19T17:17:05.896848Z"
    }
   },
   "outputs": [
    {
     "data": {
      "image/png": "[encoded data removed]",
      "text/plain": [
       "<Figure size 1080x720 with 1 Axes>"
      ]
     },
     "metadata": {
      "needs_background": "light"
     },
     "output_type": "display_data"
    }
   ],
   "source": [
    "or_corr = pd.DataFrame(df.corrwith(df['price']).sort_values(ascending=False)).reset_index()\n",
    "or_corr.columns = ['feature', 'correlation'] # rename columns\n",
    "or_corr.drop(or_corr[or_corr['feature']=='price'].index,inplace=True)\n",
    "\n",
    "plt.figure(figsize=(15,10))\n",
    "sns.barplot(data=or_corr,x='correlation',y='feature')\n",
    "plt.title('Feature Correlations with Occupancy Rate', size=12)\n",
    "plt.yticks(size=12)\n",
    "plt.grid(color='lightblue')\n",
    "plt.tight_layout()\n",
    "plt.show()"
   ]
  },
  {
   "cell_type": "markdown",
   "metadata": {
    "ExecuteTime": {
     "end_time": "2022-02-19T12:30:36.332855Z",
     "start_time": "2022-02-19T12:30:36.328959Z"
    }
   },
   "source": [
    "### Model with Feature encoding"
   ]
  },
  {
   "cell_type": "code",
   "execution_count": 12,
   "metadata": {
    "ExecuteTime": {
     "end_time": "2022-02-19T17:17:38.512279Z",
     "start_time": "2022-02-19T17:17:06.466327Z"
    }
   },
   "outputs": [
    {
     "data": {
      "text/html": [
       "<div>\n",
       "<style scoped>\n",
       "    .dataframe tbody tr th:only-of-type {\n",
       "        vertical-align: middle;\n",
       "    }\n",
       "\n",
       "    .dataframe tbody tr th {\n",
       "        vertical-align: top;\n",
       "    }\n",
       "\n",
       "    .dataframe thead th {\n",
       "        text-align: right;\n",
       "    }\n",
       "</style>\n",
       "<table border=\"1\" class=\"dataframe\">\n",
       "  <thead>\n",
       "    <tr style=\"text-align: right;\">\n",
       "      <th></th>\n",
       "      <th>latitude</th>\n",
       "      <th>longitude</th>\n",
       "      <th>accommodates</th>\n",
       "      <th>bedrooms</th>\n",
       "      <th>beds</th>\n",
       "      <th>minimum_nights</th>\n",
       "      <th>price</th>\n",
       "      <th>Entire_home_apt</th>\n",
       "      <th>Hotel_room</th>\n",
       "      <th>Private_room</th>\n",
       "      <th>Shared_room</th>\n",
       "      <th>Barking_and_Dagenham</th>\n",
       "      <th>Barnet</th>\n",
       "      <th>Bexley</th>\n",
       "      <th>Brent</th>\n",
       "      <th>Bromley</th>\n",
       "      <th>Camden</th>\n",
       "      <th>City_of_London</th>\n",
       "      <th>Croydon</th>\n",
       "      <th>Ealing</th>\n",
       "      <th>Enfield</th>\n",
       "      <th>Greenwich</th>\n",
       "      <th>Hackney</th>\n",
       "      <th>Hammersmith_and_Fulham</th>\n",
       "      <th>Haringey</th>\n",
       "      <th>Harrow</th>\n",
       "      <th>Havering</th>\n",
       "      <th>Hillingdon</th>\n",
       "      <th>Hounslow</th>\n",
       "      <th>Islington</th>\n",
       "      <th>Kensington_and_Chelsea</th>\n",
       "      <th>Kingston_upon_Thames</th>\n",
       "      <th>Lambeth</th>\n",
       "      <th>Lewisham</th>\n",
       "      <th>Merton</th>\n",
       "      <th>Newham</th>\n",
       "      <th>Redbridge</th>\n",
       "      <th>Richmond_upon_Thames</th>\n",
       "      <th>Southwark</th>\n",
       "      <th>Sutton</th>\n",
       "      <th>Tower_Hamlets</th>\n",
       "      <th>Waltham_Forest</th>\n",
       "      <th>Wandsworth</th>\n",
       "      <th>Westminster</th>\n",
       "    </tr>\n",
       "  </thead>\n",
       "  <tbody>\n",
       "    <tr>\n",
       "      <th>0</th>\n",
       "      <td>51.56861</td>\n",
       "      <td>-0.11270</td>\n",
       "      <td>2</td>\n",
       "      <td>1.0</td>\n",
       "      <td>1.758031</td>\n",
       "      <td>1</td>\n",
       "      <td>65.0</td>\n",
       "      <td>0.0</td>\n",
       "      <td>0.0</td>\n",
       "      <td>1.0</td>\n",
       "      <td>0.0</td>\n",
       "      <td>0.0</td>\n",
       "      <td>0.0</td>\n",
       "      <td>0.0</td>\n",
       "      <td>0.0</td>\n",
       "      <td>0.0</td>\n",
       "      <td>0.0</td>\n",
       "      <td>0.0</td>\n",
       "      <td>0.0</td>\n",
       "      <td>0.0</td>\n",
       "      <td>0.0</td>\n",
       "      <td>0.0</td>\n",
       "      <td>0.0</td>\n",
       "      <td>0.0</td>\n",
       "      <td>0.0</td>\n",
       "      <td>0.0</td>\n",
       "      <td>0.0</td>\n",
       "      <td>0.0</td>\n",
       "      <td>0.0</td>\n",
       "      <td>1.0</td>\n",
       "      <td>0.0</td>\n",
       "      <td>0.0</td>\n",
       "      <td>0.0</td>\n",
       "      <td>0.0</td>\n",
       "      <td>0.0</td>\n",
       "      <td>0.0</td>\n",
       "      <td>0.0</td>\n",
       "      <td>0.0</td>\n",
       "      <td>0.0</td>\n",
       "      <td>0.0</td>\n",
       "      <td>0.0</td>\n",
       "      <td>0.0</td>\n",
       "      <td>0.0</td>\n",
       "      <td>0.0</td>\n",
       "    </tr>\n",
       "    <tr>\n",
       "      <th>1</th>\n",
       "      <td>51.48780</td>\n",
       "      <td>-0.16813</td>\n",
       "      <td>2</td>\n",
       "      <td>1.0</td>\n",
       "      <td>1.000000</td>\n",
       "      <td>3</td>\n",
       "      <td>75.0</td>\n",
       "      <td>1.0</td>\n",
       "      <td>0.0</td>\n",
       "      <td>0.0</td>\n",
       "      <td>0.0</td>\n",
       "      <td>0.0</td>\n",
       "      <td>0.0</td>\n",
       "      <td>0.0</td>\n",
       "      <td>0.0</td>\n",
       "      <td>0.0</td>\n",
       "      <td>0.0</td>\n",
       "      <td>0.0</td>\n",
       "      <td>0.0</td>\n",
       "      <td>0.0</td>\n",
       "      <td>0.0</td>\n",
       "      <td>0.0</td>\n",
       "      <td>0.0</td>\n",
       "      <td>0.0</td>\n",
       "      <td>0.0</td>\n",
       "      <td>0.0</td>\n",
       "      <td>0.0</td>\n",
       "      <td>0.0</td>\n",
       "      <td>0.0</td>\n",
       "      <td>0.0</td>\n",
       "      <td>1.0</td>\n",
       "      <td>0.0</td>\n",
       "      <td>0.0</td>\n",
       "      <td>0.0</td>\n",
       "      <td>0.0</td>\n",
       "      <td>0.0</td>\n",
       "      <td>0.0</td>\n",
       "      <td>0.0</td>\n",
       "      <td>0.0</td>\n",
       "      <td>0.0</td>\n",
       "      <td>0.0</td>\n",
       "      <td>0.0</td>\n",
       "      <td>0.0</td>\n",
       "      <td>0.0</td>\n",
       "    </tr>\n",
       "    <tr>\n",
       "      <th>2</th>\n",
       "      <td>51.52195</td>\n",
       "      <td>-0.14094</td>\n",
       "      <td>6</td>\n",
       "      <td>3.0</td>\n",
       "      <td>3.000000</td>\n",
       "      <td>4</td>\n",
       "      <td>265.0</td>\n",
       "      <td>1.0</td>\n",
       "      <td>0.0</td>\n",
       "      <td>0.0</td>\n",
       "      <td>0.0</td>\n",
       "      <td>0.0</td>\n",
       "      <td>0.0</td>\n",
       "      <td>0.0</td>\n",
       "      <td>0.0</td>\n",
       "      <td>0.0</td>\n",
       "      <td>0.0</td>\n",
       "      <td>0.0</td>\n",
       "      <td>0.0</td>\n",
       "      <td>0.0</td>\n",
       "      <td>0.0</td>\n",
       "      <td>0.0</td>\n",
       "      <td>0.0</td>\n",
       "      <td>0.0</td>\n",
       "      <td>0.0</td>\n",
       "      <td>0.0</td>\n",
       "      <td>0.0</td>\n",
       "      <td>0.0</td>\n",
       "      <td>0.0</td>\n",
       "      <td>0.0</td>\n",
       "      <td>0.0</td>\n",
       "      <td>0.0</td>\n",
       "      <td>0.0</td>\n",
       "      <td>0.0</td>\n",
       "      <td>0.0</td>\n",
       "      <td>0.0</td>\n",
       "      <td>0.0</td>\n",
       "      <td>0.0</td>\n",
       "      <td>0.0</td>\n",
       "      <td>0.0</td>\n",
       "      <td>0.0</td>\n",
       "      <td>0.0</td>\n",
       "      <td>0.0</td>\n",
       "      <td>1.0</td>\n",
       "    </tr>\n",
       "    <tr>\n",
       "      <th>3</th>\n",
       "      <td>51.47935</td>\n",
       "      <td>-0.19743</td>\n",
       "      <td>2</td>\n",
       "      <td>1.0</td>\n",
       "      <td>1.000000</td>\n",
       "      <td>3</td>\n",
       "      <td>150.0</td>\n",
       "      <td>0.0</td>\n",
       "      <td>0.0</td>\n",
       "      <td>1.0</td>\n",
       "      <td>0.0</td>\n",
       "      <td>0.0</td>\n",
       "      <td>0.0</td>\n",
       "      <td>0.0</td>\n",
       "      <td>0.0</td>\n",
       "      <td>0.0</td>\n",
       "      <td>0.0</td>\n",
       "      <td>0.0</td>\n",
       "      <td>0.0</td>\n",
       "      <td>0.0</td>\n",
       "      <td>0.0</td>\n",
       "      <td>0.0</td>\n",
       "      <td>0.0</td>\n",
       "      <td>1.0</td>\n",
       "      <td>0.0</td>\n",
       "      <td>0.0</td>\n",
       "      <td>0.0</td>\n",
       "      <td>0.0</td>\n",
       "      <td>0.0</td>\n",
       "      <td>0.0</td>\n",
       "      <td>0.0</td>\n",
       "      <td>0.0</td>\n",
       "      <td>0.0</td>\n",
       "      <td>0.0</td>\n",
       "      <td>0.0</td>\n",
       "      <td>0.0</td>\n",
       "      <td>0.0</td>\n",
       "      <td>0.0</td>\n",
       "      <td>0.0</td>\n",
       "      <td>0.0</td>\n",
       "      <td>0.0</td>\n",
       "      <td>0.0</td>\n",
       "      <td>0.0</td>\n",
       "      <td>0.0</td>\n",
       "    </tr>\n",
       "    <tr>\n",
       "      <th>4</th>\n",
       "      <td>51.57438</td>\n",
       "      <td>-0.21081</td>\n",
       "      <td>2</td>\n",
       "      <td>1.0</td>\n",
       "      <td>1.758031</td>\n",
       "      <td>10</td>\n",
       "      <td>29.0</td>\n",
       "      <td>0.0</td>\n",
       "      <td>0.0</td>\n",
       "      <td>1.0</td>\n",
       "      <td>0.0</td>\n",
       "      <td>0.0</td>\n",
       "      <td>1.0</td>\n",
       "      <td>0.0</td>\n",
       "      <td>0.0</td>\n",
       "      <td>0.0</td>\n",
       "      <td>0.0</td>\n",
       "      <td>0.0</td>\n",
       "      <td>0.0</td>\n",
       "      <td>0.0</td>\n",
       "      <td>0.0</td>\n",
       "      <td>0.0</td>\n",
       "      <td>0.0</td>\n",
       "      <td>0.0</td>\n",
       "      <td>0.0</td>\n",
       "      <td>0.0</td>\n",
       "      <td>0.0</td>\n",
       "      <td>0.0</td>\n",
       "      <td>0.0</td>\n",
       "      <td>0.0</td>\n",
       "      <td>0.0</td>\n",
       "      <td>0.0</td>\n",
       "      <td>0.0</td>\n",
       "      <td>0.0</td>\n",
       "      <td>0.0</td>\n",
       "      <td>0.0</td>\n",
       "      <td>0.0</td>\n",
       "      <td>0.0</td>\n",
       "      <td>0.0</td>\n",
       "      <td>0.0</td>\n",
       "      <td>0.0</td>\n",
       "      <td>0.0</td>\n",
       "      <td>0.0</td>\n",
       "      <td>0.0</td>\n",
       "    </tr>\n",
       "  </tbody>\n",
       "</table>\n",
       "</div>"
      ],
      "text/plain": [
       "   latitude  longitude  accommodates  bedrooms      beds  minimum_nights  \\\n",
       "0  51.56861   -0.11270             2       1.0  1.758031               1   \n",
       "1  51.48780   -0.16813             2       1.0  1.000000               3   \n",
       "2  51.52195   -0.14094             6       3.0  3.000000               4   \n",
       "3  51.47935   -0.19743             2       1.0  1.000000               3   \n",
       "4  51.57438   -0.21081             2       1.0  1.758031              10   \n",
       "\n",
       "   price  Entire_home_apt  Hotel_room  Private_room  Shared_room  \\\n",
       "0   65.0              0.0         0.0           1.0          0.0   \n",
       "1   75.0              1.0         0.0           0.0          0.0   \n",
       "2  265.0              1.0         0.0           0.0          0.0   \n",
       "3  150.0              0.0         0.0           1.0          0.0   \n",
       "4   29.0              0.0         0.0           1.0          0.0   \n",
       "\n",
       "   Barking_and_Dagenham  Barnet  Bexley  Brent  Bromley  Camden  \\\n",
       "0                   0.0     0.0     0.0    0.0      0.0     0.0   \n",
       "1                   0.0     0.0     0.0    0.0      0.0     0.0   \n",
       "2                   0.0     0.0     0.0    0.0      0.0     0.0   \n",
       "3                   0.0     0.0     0.0    0.0      0.0     0.0   \n",
       "4                   0.0     1.0     0.0    0.0      0.0     0.0   \n",
       "\n",
       "   City_of_London  Croydon  Ealing  Enfield  Greenwich  Hackney  \\\n",
       "0             0.0      0.0     0.0      0.0        0.0      0.0   \n",
       "1             0.0      0.0     0.0      0.0        0.0      0.0   \n",
       "2             0.0      0.0     0.0      0.0        0.0      0.0   \n",
       "3             0.0      0.0     0.0      0.0        0.0      0.0   \n",
       "4             0.0      0.0     0.0      0.0        0.0      0.0   \n",
       "\n",
       "   Hammersmith_and_Fulham  Haringey  Harrow  Havering  Hillingdon  Hounslow  \\\n",
       "0                     0.0       0.0     0.0       0.0         0.0       0.0   \n",
       "1                     0.0       0.0     0.0       0.0         0.0       0.0   \n",
       "2                     0.0       0.0     0.0       0.0         0.0       0.0   \n",
       "3                     1.0       0.0     0.0       0.0         0.0       0.0   \n",
       "4                     0.0       0.0     0.0       0.0         0.0       0.0   \n",
       "\n",
       "   Islington  Kensington_and_Chelsea  Kingston_upon_Thames  Lambeth  Lewisham  \\\n",
       "0        1.0                     0.0                   0.0      0.0       0.0   \n",
       "1        0.0                     1.0                   0.0      0.0       0.0   \n",
       "2        0.0                     0.0                   0.0      0.0       0.0   \n",
       "3        0.0                     0.0                   0.0      0.0       0.0   \n",
       "4        0.0                     0.0                   0.0      0.0       0.0   \n",
       "\n",
       "   Merton  Newham  Redbridge  Richmond_upon_Thames  Southwark  Sutton  \\\n",
       "0     0.0     0.0        0.0                   0.0        0.0     0.0   \n",
       "1     0.0     0.0        0.0                   0.0        0.0     0.0   \n",
       "2     0.0     0.0        0.0                   0.0        0.0     0.0   \n",
       "3     0.0     0.0        0.0                   0.0        0.0     0.0   \n",
       "4     0.0     0.0        0.0                   0.0        0.0     0.0   \n",
       "\n",
       "   Tower_Hamlets  Waltham_Forest  Wandsworth  Westminster  \n",
       "0            0.0             0.0         0.0          0.0  \n",
       "1            0.0             0.0         0.0          0.0  \n",
       "2            0.0             0.0         0.0          1.0  \n",
       "3            0.0             0.0         0.0          0.0  \n",
       "4            0.0             0.0         0.0          0.0  "
      ]
     },
     "execution_count": 12,
     "metadata": {},
     "output_type": "execute_result"
    }
   ],
   "source": [
    "reg_columns = [\n",
    "    'latitude',\n",
    "    'longitude',\n",
    "    'room_type',\n",
    "    'accommodates',\n",
    "    'bedrooms',\n",
    "    'beds',\n",
    "    'minimum_nights',\n",
    "    'neighbourhood_cleansed',\n",
    "    'price'\n",
    "    \n",
    "]\n",
    "df_reg = df[reg_columns].copy()\n",
    "\n",
    "# Imputing Bedrooms and Beds\n",
    "imputer_bedroom = KNNImputer(missing_values=np.nan)\n",
    "imputer_bed = KNNImputer(missing_values=np.nan)\n",
    "\n",
    "df_reg['bedrooms'] = imputer_bedroom.fit_transform(df[['bedrooms']])\n",
    "df_reg['beds'] = imputer_bed.fit_transform(df[['beds']])\n",
    "\n",
    "# Feature Encoding\n",
    "# ------------------------------------------------------\n",
    "\n",
    "# Room Type\n",
    "encoder_room_type = OneHotEncoder(sparse=False)\n",
    "room_type_encoded = pd.DataFrame(encoder_room_type.fit_transform(df_reg[['room_type']]))\n",
    "room_type_encoded.columns=[x.replace(' ','_').replace('/','_') for x in encoder_room_type.categories_[0].tolist()]\n",
    "\n",
    "# Neighbourhood\n",
    "encoder_neighbourhood = OneHotEncoder(sparse=False)\n",
    "neighbourhood_encoded = pd.DataFrame(encoder_neighbourhood.fit_transform(df_reg[['neighbourhood_cleansed']]))\n",
    "neighbourhood_encoded.columns=[x.replace(' ','_') for x in encoder_neighbourhood.categories_[0].tolist()]\n",
    "\n",
    "# Concatenating encoded dataframes \n",
    "df_reg = pd.concat([df_reg, room_type_encoded, neighbourhood_encoded], axis=1)\n",
    "df_reg.drop(columns=['room_type','neighbourhood_cleansed'], inplace=True)\n",
    "\n",
    "df_reg.head(5)"
   ]
  },
  {
   "cell_type": "markdown",
   "metadata": {},
   "source": [
    "#### Correlations with Encoded Features"
   ]
  },
  {
   "cell_type": "code",
   "execution_count": 13,
   "metadata": {
    "ExecuteTime": {
     "end_time": "2022-02-19T17:17:39.198667Z",
     "start_time": "2022-02-19T17:17:38.515127Z"
    },
    "scrolled": false
   },
   "outputs": [
    {
     "data": {
      "image/png": "[encoded data removed]",
      "text/plain": [
       "<Figure size 1080x720 with 1 Axes>"
      ]
     },
     "metadata": {
      "needs_background": "light"
     },
     "output_type": "display_data"
    }
   ],
   "source": [
    "or_corr = pd.DataFrame(df_reg.corrwith(df_reg['price']).sort_values(ascending=False)).reset_index()\n",
    "or_corr.columns = ['feature', 'correlation'] # rename columns\n",
    "or_corr.drop(or_corr[or_corr['feature']=='price'].index,inplace=True)\n",
    "\n",
    "plt.figure(figsize=(15,10))\n",
    "sns.barplot(data=or_corr,x='correlation',y='feature')\n",
    "plt.title('Feature Correlations with Occupancy Rate', size=12)\n",
    "plt.yticks(size=12)\n",
    "plt.grid(color='lightblue')\n",
    "plt.tight_layout()\n",
    "plt.show()"
   ]
  },
  {
   "cell_type": "markdown",
   "metadata": {},
   "source": [
    "#### Linear Model OSL"
   ]
  },
  {
   "cell_type": "code",
   "execution_count": 14,
   "metadata": {
    "ExecuteTime": {
     "end_time": "2022-02-19T17:17:39.274947Z",
     "start_time": "2022-02-19T17:17:39.201373Z"
    }
   },
   "outputs": [],
   "source": [
    "scaler = StandardScaler()\n",
    "df_reg_scaled = pd.DataFrame(scaler.fit_transform(df_reg), columns=list(df_reg.columns))"
   ]
  },
  {
   "cell_type": "code",
   "execution_count": 15,
   "metadata": {
    "ExecuteTime": {
     "end_time": "2022-02-19T17:17:39.282487Z",
     "start_time": "2022-02-19T17:17:39.277872Z"
    }
   },
   "outputs": [],
   "source": [
    "def formula_from_cols(df, y):\n",
    "    return y + ' ~ ' + ' + '.join([col for col in df.columns if not col==y])"
   ]
  },
  {
   "cell_type": "code",
   "execution_count": 16,
   "metadata": {
    "ExecuteTime": {
     "end_time": "2022-02-19T17:17:39.946179Z",
     "start_time": "2022-02-19T17:17:39.285464Z"
    },
    "scrolled": true
   },
   "outputs": [
    {
     "data": {
      "text/html": [
       "<table class=\"simpletable\">\n",
       "<caption>OLS Regression Results</caption>\n",
       "<tr>\n",
       "  <th>Dep. Variable:</th>          <td>price</td>      <th>  R-squared:         </th>  <td>   0.072</td>  \n",
       "</tr>\n",
       "<tr>\n",
       "  <th>Model:</th>                   <td>OLS</td>       <th>  Adj. R-squared:    </th>  <td>   0.071</td>  \n",
       "</tr>\n",
       "<tr>\n",
       "  <th>Method:</th>             <td>Least Squares</td>  <th>  F-statistic:       </th>  <td>   125.9</td>  \n",
       "</tr>\n",
       "<tr>\n",
       "  <th>Date:</th>             <td>Sat, 19 Feb 2022</td> <th>  Prob (F-statistic):</th>   <td>  0.00</td>   \n",
       "</tr>\n",
       "<tr>\n",
       "  <th>Time:</th>                 <td>18:17:39</td>     <th>  Log-Likelihood:    </th> <td>-4.8203e+05</td>\n",
       "</tr>\n",
       "<tr>\n",
       "  <th>No. Observations:</th>      <td> 66582</td>      <th>  AIC:               </th>  <td>9.641e+05</td> \n",
       "</tr>\n",
       "<tr>\n",
       "  <th>Df Residuals:</th>          <td> 66540</td>      <th>  BIC:               </th>  <td>9.645e+05</td> \n",
       "</tr>\n",
       "<tr>\n",
       "  <th>Df Model:</th>              <td>    41</td>      <th>                     </th>      <td> </td>     \n",
       "</tr>\n",
       "<tr>\n",
       "  <th>Covariance Type:</th>      <td>nonrobust</td>    <th>                     </th>      <td> </td>     \n",
       "</tr>\n",
       "</table>\n",
       "<table class=\"simpletable\">\n",
       "<tr>\n",
       "             <td></td>               <th>coef</th>     <th>std err</th>      <th>t</th>      <th>P>|t|</th>  <th>[0.025</th>    <th>0.975]</th>  \n",
       "</tr>\n",
       "<tr>\n",
       "  <th>Intercept</th>              <td>-5245.7167</td> <td> 3527.603</td> <td>   -1.487</td> <td> 0.137</td> <td>-1.22e+04</td> <td> 1668.385</td>\n",
       "</tr>\n",
       "<tr>\n",
       "  <th>latitude</th>               <td>  130.3674</td> <td>   87.702</td> <td>    1.486</td> <td> 0.137</td> <td>  -41.529</td> <td>  302.264</td>\n",
       "</tr>\n",
       "<tr>\n",
       "  <th>longitude</th>              <td>   54.2520</td> <td>   54.087</td> <td>    1.003</td> <td> 0.316</td> <td>  -51.759</td> <td>  160.263</td>\n",
       "</tr>\n",
       "<tr>\n",
       "  <th>accommodates</th>           <td>   16.0523</td> <td>    1.408</td> <td>   11.403</td> <td> 0.000</td> <td>   13.293</td> <td>   18.811</td>\n",
       "</tr>\n",
       "<tr>\n",
       "  <th>bedrooms</th>               <td>   57.6022</td> <td>    2.754</td> <td>   20.912</td> <td> 0.000</td> <td>   52.203</td> <td>   63.001</td>\n",
       "</tr>\n",
       "<tr>\n",
       "  <th>beds</th>                   <td>   -4.4191</td> <td>    1.965</td> <td>   -2.249</td> <td> 0.024</td> <td>   -8.270</td> <td>   -0.568</td>\n",
       "</tr>\n",
       "<tr>\n",
       "  <th>minimum_nights</th>         <td>    0.1885</td> <td>    0.043</td> <td>    4.359</td> <td> 0.000</td> <td>    0.104</td> <td>    0.273</td>\n",
       "</tr>\n",
       "<tr>\n",
       "  <th>Entire_home_apt</th>        <td>-1300.3470</td> <td>  881.952</td> <td>   -1.474</td> <td> 0.140</td> <td>-3028.972</td> <td>  428.278</td>\n",
       "</tr>\n",
       "<tr>\n",
       "  <th>Hotel_room</th>             <td>-1282.9505</td> <td>  882.021</td> <td>   -1.455</td> <td> 0.146</td> <td>-3011.711</td> <td>  445.810</td>\n",
       "</tr>\n",
       "<tr>\n",
       "  <th>Private_room</th>           <td>-1317.1923</td> <td>  881.961</td> <td>   -1.493</td> <td> 0.135</td> <td>-3045.836</td> <td>  411.452</td>\n",
       "</tr>\n",
       "<tr>\n",
       "  <th>Shared_room</th>            <td>-1345.2267</td> <td>  881.961</td> <td>   -1.525</td> <td> 0.127</td> <td>-3073.870</td> <td>  383.417</td>\n",
       "</tr>\n",
       "<tr>\n",
       "  <th>Barking_and_Dagenham</th>   <td> -207.4881</td> <td>  113.535</td> <td>   -1.828</td> <td> 0.068</td> <td> -430.016</td> <td>   15.040</td>\n",
       "</tr>\n",
       "<tr>\n",
       "  <th>Barnet</th>                 <td> -153.8571</td> <td>  114.842</td> <td>   -1.340</td> <td> 0.180</td> <td> -378.947</td> <td>   71.233</td>\n",
       "</tr>\n",
       "<tr>\n",
       "  <th>Bexley</th>                 <td> -210.2472</td> <td>  108.119</td> <td>   -1.945</td> <td> 0.052</td> <td> -422.160</td> <td>    1.666</td>\n",
       "</tr>\n",
       "<tr>\n",
       "  <th>Brent</th>                  <td> -157.6568</td> <td>  110.336</td> <td>   -1.429</td> <td> 0.153</td> <td> -373.915</td> <td>   58.601</td>\n",
       "</tr>\n",
       "<tr>\n",
       "  <th>Bromley</th>                <td> -186.8002</td> <td>   99.634</td> <td>   -1.875</td> <td> 0.061</td> <td> -382.083</td> <td>    8.483</td>\n",
       "</tr>\n",
       "<tr>\n",
       "  <th>Camden</th>                 <td> -129.4055</td> <td>  109.689</td> <td>   -1.180</td> <td> 0.238</td> <td> -344.397</td> <td>   85.586</td>\n",
       "</tr>\n",
       "<tr>\n",
       "  <th>City_of_London</th>         <td>  -38.4456</td> <td>  109.211</td> <td>   -0.352</td> <td> 0.725</td> <td> -252.499</td> <td>  175.608</td>\n",
       "</tr>\n",
       "<tr>\n",
       "  <th>Croydon</th>                <td> -185.2682</td> <td>   96.915</td> <td>   -1.912</td> <td> 0.056</td> <td> -375.222</td> <td>    4.686</td>\n",
       "</tr>\n",
       "<tr>\n",
       "  <th>Ealing</th>                 <td> -169.7390</td> <td>  107.318</td> <td>   -1.582</td> <td> 0.114</td> <td> -380.082</td> <td>   40.604</td>\n",
       "</tr>\n",
       "<tr>\n",
       "  <th>Enfield</th>                <td> -212.1010</td> <td>  119.296</td> <td>   -1.778</td> <td> 0.075</td> <td> -445.922</td> <td>   21.720</td>\n",
       "</tr>\n",
       "<tr>\n",
       "  <th>Greenwich</th>              <td> -148.9486</td> <td>  106.611</td> <td>   -1.397</td> <td> 0.162</td> <td> -357.906</td> <td>   60.009</td>\n",
       "</tr>\n",
       "<tr>\n",
       "  <th>Hackney</th>                <td> -178.0184</td> <td>  110.955</td> <td>   -1.604</td> <td> 0.109</td> <td> -395.491</td> <td>   39.454</td>\n",
       "</tr>\n",
       "<tr>\n",
       "  <th>Hammersmith_and_Fulham</th> <td> -104.1655</td> <td>  105.305</td> <td>   -0.989</td> <td> 0.323</td> <td> -310.564</td> <td>  102.233</td>\n",
       "</tr>\n",
       "<tr>\n",
       "  <th>Haringey</th>               <td> -194.0861</td> <td>  114.436</td> <td>   -1.696</td> <td> 0.090</td> <td> -418.381</td> <td>   30.209</td>\n",
       "</tr>\n",
       "<tr>\n",
       "  <th>Harrow</th>                 <td> -185.1939</td> <td>  114.680</td> <td>   -1.615</td> <td> 0.106</td> <td> -409.967</td> <td>   39.579</td>\n",
       "</tr>\n",
       "<tr>\n",
       "  <th>Havering</th>               <td> -221.7982</td> <td>  117.741</td> <td>   -1.884</td> <td> 0.060</td> <td> -452.570</td> <td>    8.973</td>\n",
       "</tr>\n",
       "<tr>\n",
       "  <th>Hillingdon</th>             <td> -168.1272</td> <td>  108.852</td> <td>   -1.545</td> <td> 0.122</td> <td> -381.478</td> <td>   45.223</td>\n",
       "</tr>\n",
       "<tr>\n",
       "  <th>Hounslow</th>               <td> -162.6508</td> <td>  104.234</td> <td>   -1.560</td> <td> 0.119</td> <td> -366.949</td> <td>   41.648</td>\n",
       "</tr>\n",
       "<tr>\n",
       "  <th>Islington</th>              <td> -138.0118</td> <td>  110.574</td> <td>   -1.248</td> <td> 0.212</td> <td> -354.736</td> <td>   78.713</td>\n",
       "</tr>\n",
       "<tr>\n",
       "  <th>Kensington_and_Chelsea</th> <td>  -68.2243</td> <td>  106.141</td> <td>   -0.643</td> <td> 0.520</td> <td> -276.261</td> <td>  139.812</td>\n",
       "</tr>\n",
       "<tr>\n",
       "  <th>Kingston_upon_Thames</th>   <td> -159.9081</td> <td>   98.481</td> <td>   -1.624</td> <td> 0.104</td> <td> -352.931</td> <td>   33.115</td>\n",
       "</tr>\n",
       "<tr>\n",
       "  <th>Lambeth</th>                <td> -169.6889</td> <td>  103.388</td> <td>   -1.641</td> <td> 0.101</td> <td> -372.329</td> <td>   32.951</td>\n",
       "</tr>\n",
       "<tr>\n",
       "  <th>Lewisham</th>               <td> -177.3879</td> <td>  103.711</td> <td>   -1.710</td> <td> 0.087</td> <td> -380.661</td> <td>   25.885</td>\n",
       "</tr>\n",
       "<tr>\n",
       "  <th>Merton</th>                 <td> -147.5611</td> <td>   99.178</td> <td>   -1.488</td> <td> 0.137</td> <td> -341.951</td> <td>   46.828</td>\n",
       "</tr>\n",
       "<tr>\n",
       "  <th>Newham</th>                 <td> -186.3546</td> <td>  110.488</td> <td>   -1.687</td> <td> 0.092</td> <td> -402.911</td> <td>   30.202</td>\n",
       "</tr>\n",
       "<tr>\n",
       "  <th>Redbridge</th>              <td> -205.5606</td> <td>  115.635</td> <td>   -1.778</td> <td> 0.075</td> <td> -432.205</td> <td>   21.084</td>\n",
       "</tr>\n",
       "<tr>\n",
       "  <th>Richmond_upon_Thames</th>   <td> -145.2916</td> <td>  102.223</td> <td>   -1.421</td> <td> 0.155</td> <td> -345.648</td> <td>   55.065</td>\n",
       "</tr>\n",
       "<tr>\n",
       "  <th>Southwark</th>              <td>  -97.2505</td> <td>  105.646</td> <td>   -0.921</td> <td> 0.357</td> <td> -304.317</td> <td>  109.816</td>\n",
       "</tr>\n",
       "<tr>\n",
       "  <th>Sutton</th>                 <td> -171.9834</td> <td>   96.465</td> <td>   -1.783</td> <td> 0.075</td> <td> -361.054</td> <td>   17.087</td>\n",
       "</tr>\n",
       "<tr>\n",
       "  <th>Tower_Hamlets</th>          <td> -168.3275</td> <td>  108.673</td> <td>   -1.549</td> <td> 0.121</td> <td> -381.326</td> <td>   44.671</td>\n",
       "</tr>\n",
       "<tr>\n",
       "  <th>Waltham_Forest</th>         <td> -221.3417</td> <td>  114.491</td> <td>   -1.933</td> <td> 0.053</td> <td> -445.744</td> <td>    3.060</td>\n",
       "</tr>\n",
       "<tr>\n",
       "  <th>Wandsworth</th>             <td> -142.1783</td> <td>  102.406</td> <td>   -1.388</td> <td> 0.165</td> <td> -342.893</td> <td>   58.537</td>\n",
       "</tr>\n",
       "<tr>\n",
       "  <th>Westminster</th>            <td>  -32.6489</td> <td>  107.469</td> <td>   -0.304</td> <td> 0.761</td> <td> -243.289</td> <td>  177.991</td>\n",
       "</tr>\n",
       "</table>\n",
       "<table class=\"simpletable\">\n",
       "<tr>\n",
       "  <th>Omnibus:</th>       <td>159234.035</td> <th>  Durbin-Watson:     </th>    <td>   1.374</td>   \n",
       "</tr>\n",
       "<tr>\n",
       "  <th>Prob(Omnibus):</th>   <td> 0.000</td>   <th>  Jarque-Bera (JB):  </th> <td>2443064094.763</td>\n",
       "</tr>\n",
       "<tr>\n",
       "  <th>Skew:</th>            <td>24.547</td>   <th>  Prob(JB):          </th>    <td>    0.00</td>   \n",
       "</tr>\n",
       "<tr>\n",
       "  <th>Kurtosis:</th>        <td>940.129</td>  <th>  Cond. No.          </th>    <td>1.01e+16</td>   \n",
       "</tr>\n",
       "</table><br/><br/>Notes:<br/>[1] Standard Errors assume that the covariance matrix of the errors is correctly specified.<br/>[2] The smallest eigenvalue is 1.8e-24. This might indicate that there are<br/>strong multicollinearity problems or that the design matrix is singular."
      ],
      "text/plain": [
       "<class 'statsmodels.iolib.summary.Summary'>\n",
       "\"\"\"\n",
       "                            OLS Regression Results                            \n",
       "==============================================================================\n",
       "Dep. Variable:                  price   R-squared:                       0.072\n",
       "Model:                            OLS   Adj. R-squared:                  0.071\n",
       "Method:                 Least Squares   F-statistic:                     125.9\n",
       "Date:                Sat, 19 Feb 2022   Prob (F-statistic):               0.00\n",
       "Time:                        18:17:39   Log-Likelihood:            -4.8203e+05\n",
       "No. Observations:               66582   AIC:                         9.641e+05\n",
       "Df Residuals:                   66540   BIC:                         9.645e+05\n",
       "Df Model:                          41                                         \n",
       "Covariance Type:            nonrobust                                         \n",
       "==========================================================================================\n",
       "                             coef    std err          t      P>|t|      [0.025      0.975]\n",
       "------------------------------------------------------------------------------------------\n",
       "Intercept              -5245.7167   3527.603     -1.487      0.137   -1.22e+04    1668.385\n",
       "latitude                 130.3674     87.702      1.486      0.137     -41.529     302.264\n",
       "longitude                 54.2520     54.087      1.003      0.316     -51.759     160.263\n",
       "accommodates              16.0523      1.408     11.403      0.000      13.293      18.811\n",
       "bedrooms                  57.6022      2.754     20.912      0.000      52.203      63.001\n",
       "beds                      -4.4191      1.965     -2.249      0.024      -8.270      -0.568\n",
       "minimum_nights             0.1885      0.043      4.359      0.000       0.104       0.273\n",
       "Entire_home_apt        -1300.3470    881.952     -1.474      0.140   -3028.972     428.278\n",
       "Hotel_room             -1282.9505    882.021     -1.455      0.146   -3011.711     445.810\n",
       "Private_room           -1317.1923    881.961     -1.493      0.135   -3045.836     411.452\n",
       "Shared_room            -1345.2267    881.961     -1.525      0.127   -3073.870     383.417\n",
       "Barking_and_Dagenham    -207.4881    113.535     -1.828      0.068    -430.016      15.040\n",
       "Barnet                  -153.8571    114.842     -1.340      0.180    -378.947      71.233\n",
       "Bexley                  -210.2472    108.119     -1.945      0.052    -422.160       1.666\n",
       "Brent                   -157.6568    110.336     -1.429      0.153    -373.915      58.601\n",
       "Bromley                 -186.8002     99.634     -1.875      0.061    -382.083       8.483\n",
       "Camden                  -129.4055    109.689     -1.180      0.238    -344.397      85.586\n",
       "City_of_London           -38.4456    109.211     -0.352      0.725    -252.499     175.608\n",
       "Croydon                 -185.2682     96.915     -1.912      0.056    -375.222       4.686\n",
       "Ealing                  -169.7390    107.318     -1.582      0.114    -380.082      40.604\n",
       "Enfield                 -212.1010    119.296     -1.778      0.075    -445.922      21.720\n",
       "Greenwich               -148.9486    106.611     -1.397      0.162    -357.906      60.009\n",
       "Hackney                 -178.0184    110.955     -1.604      0.109    -395.491      39.454\n",
       "Hammersmith_and_Fulham  -104.1655    105.305     -0.989      0.323    -310.564     102.233\n",
       "Haringey                -194.0861    114.436     -1.696      0.090    -418.381      30.209\n",
       "Harrow                  -185.1939    114.680     -1.615      0.106    -409.967      39.579\n",
       "Havering                -221.7982    117.741     -1.884      0.060    -452.570       8.973\n",
       "Hillingdon              -168.1272    108.852     -1.545      0.122    -381.478      45.223\n",
       "Hounslow                -162.6508    104.234     -1.560      0.119    -366.949      41.648\n",
       "Islington               -138.0118    110.574     -1.248      0.212    -354.736      78.713\n",
       "Kensington_and_Chelsea   -68.2243    106.141     -0.643      0.520    -276.261     139.812\n",
       "Kingston_upon_Thames    -159.9081     98.481     -1.624      0.104    -352.931      33.115\n",
       "Lambeth                 -169.6889    103.388     -1.641      0.101    -372.329      32.951\n",
       "Lewisham                -177.3879    103.711     -1.710      0.087    -380.661      25.885\n",
       "Merton                  -147.5611     99.178     -1.488      0.137    -341.951      46.828\n",
       "Newham                  -186.3546    110.488     -1.687      0.092    -402.911      30.202\n",
       "Redbridge               -205.5606    115.635     -1.778      0.075    -432.205      21.084\n",
       "Richmond_upon_Thames    -145.2916    102.223     -1.421      0.155    -345.648      55.065\n",
       "Southwark                -97.2505    105.646     -0.921      0.357    -304.317     109.816\n",
       "Sutton                  -171.9834     96.465     -1.783      0.075    -361.054      17.087\n",
       "Tower_Hamlets           -168.3275    108.673     -1.549      0.121    -381.326      44.671\n",
       "Waltham_Forest          -221.3417    114.491     -1.933      0.053    -445.744       3.060\n",
       "Wandsworth              -142.1783    102.406     -1.388      0.165    -342.893      58.537\n",
       "Westminster              -32.6489    107.469     -0.304      0.761    -243.289     177.991\n",
       "==============================================================================\n",
       "Omnibus:                   159234.035   Durbin-Watson:                   1.374\n",
       "Prob(Omnibus):                  0.000   Jarque-Bera (JB):       2443064094.763\n",
       "Skew:                          24.547   Prob(JB):                         0.00\n",
       "Kurtosis:                     940.129   Cond. No.                     1.01e+16\n",
       "==============================================================================\n",
       "\n",
       "Notes:\n",
       "[1] Standard Errors assume that the covariance matrix of the errors is correctly specified.\n",
       "[2] The smallest eigenvalue is 1.8e-24. This might indicate that there are\n",
       "strong multicollinearity problems or that the design matrix is singular.\n",
       "\"\"\""
      ]
     },
     "execution_count": 16,
     "metadata": {},
     "output_type": "execute_result"
    }
   ],
   "source": [
    "model = smf.ols(formula = formula_from_cols(df_reg_scaled,'price'), data=df_reg).fit()\n",
    "model.summary()"
   ]
  },
  {
   "cell_type": "code",
   "execution_count": 17,
   "metadata": {
    "ExecuteTime": {
     "end_time": "2022-02-19T17:17:39.956075Z",
     "start_time": "2022-02-19T17:17:39.949056Z"
    },
    "scrolled": true
   },
   "outputs": [
    {
     "data": {
      "text/plain": [
       "accommodates              0.00000\n",
       "bedrooms                  0.00000\n",
       "minimum_nights            0.00001\n",
       "beds                      0.02450\n",
       "Bexley                    0.05183\n",
       "Waltham_Forest            0.05321\n",
       "Croydon                   0.05593\n",
       "Havering                  0.05960\n",
       "Bromley                   0.06082\n",
       "Barking_and_Dagenham      0.06762\n",
       "Sutton                    0.07461\n",
       "Enfield                   0.07542\n",
       "Redbridge                 0.07546\n",
       "Lewisham                  0.08719\n",
       "Haringey                  0.08989\n",
       "Newham                    0.09168\n",
       "Lambeth                   0.10074\n",
       "Kingston_upon_Thames      0.10444\n",
       "Harrow                    0.10634\n",
       "Hackney                   0.10863\n",
       "Ealing                    0.11374\n",
       "Hounslow                  0.11866\n",
       "Tower_Hamlets             0.12140\n",
       "Hillingdon                0.12246\n",
       "Shared_room               0.12720\n",
       "Private_room              0.13532\n",
       "Merton                    0.13680\n",
       "Intercept                 0.13701\n",
       "latitude                  0.13716\n",
       "Entire_home_apt           0.14038\n",
       "Hotel_room                0.14580\n",
       "Brent                     0.15304\n",
       "Richmond_upon_Thames      0.15523\n",
       "Greenwich                 0.16238\n",
       "Wandsworth                0.16503\n",
       "Barnet                    0.18034\n",
       "Islington                 0.21198\n",
       "Camden                    0.23811\n",
       "longitude                 0.31584\n",
       "Hammersmith_and_Fulham    0.32258\n",
       "Southwark                 0.35730\n",
       "Kensington_and_Chelsea    0.52037\n",
       "City_of_London            0.72482\n",
       "Westminster               0.76128\n",
       "dtype: float64"
      ]
     },
     "execution_count": 17,
     "metadata": {},
     "output_type": "execute_result"
    }
   ],
   "source": [
    "round(model.pvalues,5).sort_values()"
   ]
  },
  {
   "cell_type": "markdown",
   "metadata": {},
   "source": [
    "#### Testing Different Models"
   ]
  },
  {
   "cell_type": "code",
   "execution_count": 18,
   "metadata": {
    "ExecuteTime": {
     "end_time": "2022-02-19T17:17:39.961921Z",
     "start_time": "2022-02-19T17:17:39.958445Z"
    }
   },
   "outputs": [],
   "source": [
    "model_lg = LinearRegression()\n",
    "model_knn = KNeighborsRegressor()\n",
    "model_sgd = SGDRegressor()\n",
    "model_xg = XGBRegressor()\n",
    "model_rf = RandomForestRegressor()"
   ]
  },
  {
   "cell_type": "code",
   "execution_count": 25,
   "metadata": {
    "ExecuteTime": {
     "end_time": "2022-02-19T17:18:39.855361Z",
     "start_time": "2022-02-19T17:18:39.846235Z"
    }
   },
   "outputs": [],
   "source": [
    "# GridSearch Parameters\n",
    "# Initiaze the hyperparameters for each model\n",
    "param_lg = {}\n",
    "param_lg['scaler'] = [StandardScaler(),MinMaxScaler()]\n",
    "param_lg['model'] = [model_lg]\n",
    "\n",
    "param_knn = {}\n",
    "param_knn['scaler'] = [StandardScaler(),MinMaxScaler()]\n",
    "param_knn['model__n_neighbors'] = [1,3,5,7,10,15]\n",
    "param_knn['model'] = [model_knn]\n",
    "\n",
    "param_sgd = {}\n",
    "param_sgd['scaler'] = [StandardScaler(),MinMaxScaler()]\n",
    "param_sgd['model__loss'] = ['squared_error','huber']\n",
    "param_sgd['model__learning_rate'] = ['constant','optimal','invscaling']\n",
    "param_sgd['model'] = [model_sgd]\n",
    "\n",
    "param_xg={}\n",
    "param_xg['model__booster'] = ['gbtree','gblinear']\n",
    "param_xg['model__learning_rate'] = [0.3,0.1,0.001]\n",
    "param_xg['model__max_depth'] = [2,4,6]\n",
    "param_xg['model'] = [model_xg]\n",
    "\n",
    "param_rf={}\n",
    "param_rf['model__max_depth'] = [2,4,6]\n",
    "param_rf['model__n_estimators'] = [5,10,20,50,100]\n",
    "param_rf['model'] = [model_rf]\n",
    "\n",
    "\n",
    "params = [param_lg,param_knn,param_sgd,param_xg,param_rf]"
   ]
  },
  {
   "cell_type": "code",
   "execution_count": 26,
   "metadata": {
    "ExecuteTime": {
     "end_time": "2022-02-19T17:18:39.876120Z",
     "start_time": "2022-02-19T17:18:39.861223Z"
    }
   },
   "outputs": [
    {
     "data": {
      "text/html": [
       "<style>#sk-a99f743d-e0a7-42ae-bae8-5fa15a4626b0 {color: black;background-color: white;}#sk-a99f743d-e0a7-42ae-bae8-5fa15a4626b0 pre{padding: 0;}#sk-a99f743d-e0a7-42ae-bae8-5fa15a4626b0 div.sk-toggleable {background-color: white;}#sk-a99f743d-e0a7-42ae-bae8-5fa15a4626b0 label.sk-toggleable__label {cursor: pointer;display: block;width: 100%;margin-bottom: 0;padding: 0.3em;box-sizing: border-box;text-align: center;}#sk-a99f743d-e0a7-42ae-bae8-5fa15a4626b0 label.sk-toggleable__label-arrow:before {content: \"▸\";float: left;margin-right: 0.25em;color: #696969;}#sk-a99f743d-e0a7-42ae-bae8-5fa15a4626b0 label.sk-toggleable__label-arrow:hover:before {color: black;}#sk-a99f743d-e0a7-42ae-bae8-5fa15a4626b0 div.sk-estimator:hover label.sk-toggleable__label-arrow:before {color: black;}#sk-a99f743d-e0a7-42ae-bae8-5fa15a4626b0 div.sk-toggleable__content {max-height: 0;max-width: 0;overflow: hidden;text-align: left;background-color: #f0f8ff;}#sk-a99f743d-e0a7-42ae-bae8-5fa15a4626b0 div.sk-toggleable__content pre {margin: 0.2em;color: black;border-radius: 0.25em;background-color: #f0f8ff;}#sk-a99f743d-e0a7-42ae-bae8-5fa15a4626b0 input.sk-toggleable__control:checked~div.sk-toggleable__content {max-height: 200px;max-width: 100%;overflow: auto;}#sk-a99f743d-e0a7-42ae-bae8-5fa15a4626b0 input.sk-toggleable__control:checked~label.sk-toggleable__label-arrow:before {content: \"▾\";}#sk-a99f743d-e0a7-42ae-bae8-5fa15a4626b0 div.sk-estimator input.sk-toggleable__control:checked~label.sk-toggleable__label {background-color: #d4ebff;}#sk-a99f743d-e0a7-42ae-bae8-5fa15a4626b0 div.sk-label input.sk-toggleable__control:checked~label.sk-toggleable__label {background-color: #d4ebff;}#sk-a99f743d-e0a7-42ae-bae8-5fa15a4626b0 input.sk-hidden--visually {border: 0;clip: rect(1px 1px 1px 1px);clip: rect(1px, 1px, 1px, 1px);height: 1px;margin: -1px;overflow: hidden;padding: 0;position: absolute;width: 1px;}#sk-a99f743d-e0a7-42ae-bae8-5fa15a4626b0 div.sk-estimator {font-family: monospace;background-color: #f0f8ff;border: 1px dotted black;border-radius: 0.25em;box-sizing: border-box;margin-bottom: 0.5em;}#sk-a99f743d-e0a7-42ae-bae8-5fa15a4626b0 div.sk-estimator:hover {background-color: #d4ebff;}#sk-a99f743d-e0a7-42ae-bae8-5fa15a4626b0 div.sk-parallel-item::after {content: \"\";width: 100%;border-bottom: 1px solid gray;flex-grow: 1;}#sk-a99f743d-e0a7-42ae-bae8-5fa15a4626b0 div.sk-label:hover label.sk-toggleable__label {background-color: #d4ebff;}#sk-a99f743d-e0a7-42ae-bae8-5fa15a4626b0 div.sk-serial::before {content: \"\";position: absolute;border-left: 1px solid gray;box-sizing: border-box;top: 2em;bottom: 0;left: 50%;}#sk-a99f743d-e0a7-42ae-bae8-5fa15a4626b0 div.sk-serial {display: flex;flex-direction: column;align-items: center;background-color: white;padding-right: 0.2em;padding-left: 0.2em;}#sk-a99f743d-e0a7-42ae-bae8-5fa15a4626b0 div.sk-item {z-index: 1;}#sk-a99f743d-e0a7-42ae-bae8-5fa15a4626b0 div.sk-parallel {display: flex;align-items: stretch;justify-content: center;background-color: white;}#sk-a99f743d-e0a7-42ae-bae8-5fa15a4626b0 div.sk-parallel::before {content: \"\";position: absolute;border-left: 1px solid gray;box-sizing: border-box;top: 2em;bottom: 0;left: 50%;}#sk-a99f743d-e0a7-42ae-bae8-5fa15a4626b0 div.sk-parallel-item {display: flex;flex-direction: column;position: relative;background-color: white;}#sk-a99f743d-e0a7-42ae-bae8-5fa15a4626b0 div.sk-parallel-item:first-child::after {align-self: flex-end;width: 50%;}#sk-a99f743d-e0a7-42ae-bae8-5fa15a4626b0 div.sk-parallel-item:last-child::after {align-self: flex-start;width: 50%;}#sk-a99f743d-e0a7-42ae-bae8-5fa15a4626b0 div.sk-parallel-item:only-child::after {width: 0;}#sk-a99f743d-e0a7-42ae-bae8-5fa15a4626b0 div.sk-dashed-wrapped {border: 1px dashed gray;margin: 0 0.4em 0.5em 0.4em;box-sizing: border-box;padding-bottom: 0.4em;background-color: white;position: relative;}#sk-a99f743d-e0a7-42ae-bae8-5fa15a4626b0 div.sk-label label {font-family: monospace;font-weight: bold;background-color: white;display: inline-block;line-height: 1.2em;}#sk-a99f743d-e0a7-42ae-bae8-5fa15a4626b0 div.sk-label-container {position: relative;z-index: 2;text-align: center;}#sk-a99f743d-e0a7-42ae-bae8-5fa15a4626b0 div.sk-container {/* jupyter's `normalize.less` sets `[hidden] { display: none; }` but bootstrap.min.css set `[hidden] { display: none !important; }` so we also need the `!important` here to be able to override the default hidden behavior on the sphinx rendered scikit-learn.org. See: https://github.com/scikit-learn/scikit-learn/issues/21755 */display: inline-block !important;position: relative;}#sk-a99f743d-e0a7-42ae-bae8-5fa15a4626b0 div.sk-text-repr-fallback {display: none;}</style><div id=\"sk-a99f743d-e0a7-42ae-bae8-5fa15a4626b0\" class=\"sk-top-container\"><div class=\"sk-text-repr-fallback\"><pre>Pipeline(steps=[(&#x27;scaler&#x27;, StandardScaler()),\n",
       "                (&#x27;model&#x27;, RandomForestRegressor())])</pre><b>Please rerun this cell to show the HTML repr or trust the notebook.</b></div><div class=\"sk-container\" hidden><div class=\"sk-item sk-dashed-wrapped\"><div class=\"sk-label-container\"><div class=\"sk-label sk-toggleable\"><input class=\"sk-toggleable__control sk-hidden--visually\" id=\"4b2012a0-18ba-4c7c-9b69-03703229774d\" type=\"checkbox\" ><label for=\"4b2012a0-18ba-4c7c-9b69-03703229774d\" class=\"sk-toggleable__label sk-toggleable__label-arrow\">Pipeline</label><div class=\"sk-toggleable__content\"><pre>Pipeline(steps=[(&#x27;scaler&#x27;, StandardScaler()),\n",
       "                (&#x27;model&#x27;, RandomForestRegressor())])</pre></div></div></div><div class=\"sk-serial\"><div class=\"sk-item\"><div class=\"sk-estimator sk-toggleable\"><input class=\"sk-toggleable__control sk-hidden--visually\" id=\"7e8b04c8-a383-4f0f-8255-dd1547d5ab32\" type=\"checkbox\" ><label for=\"7e8b04c8-a383-4f0f-8255-dd1547d5ab32\" class=\"sk-toggleable__label sk-toggleable__label-arrow\">StandardScaler</label><div class=\"sk-toggleable__content\"><pre>StandardScaler()</pre></div></div></div><div class=\"sk-item\"><div class=\"sk-estimator sk-toggleable\"><input class=\"sk-toggleable__control sk-hidden--visually\" id=\"76bfb111-feba-4444-8d15-e7135c2a6423\" type=\"checkbox\" ><label for=\"76bfb111-feba-4444-8d15-e7135c2a6423\" class=\"sk-toggleable__label sk-toggleable__label-arrow\">RandomForestRegressor</label><div class=\"sk-toggleable__content\"><pre>RandomForestRegressor()</pre></div></div></div></div></div></div></div>"
      ],
      "text/plain": [
       "Pipeline(steps=[('scaler', StandardScaler()),\n",
       "                ('model', RandomForestRegressor())])"
      ]
     },
     "execution_count": 26,
     "metadata": {},
     "output_type": "execute_result"
    }
   ],
   "source": [
    "pipe = Pipeline([\n",
    "    ('scaler',StandardScaler()),\n",
    "    ('model',model_rf)\n",
    "])\n",
    "pipe"
   ]
  },
  {
   "cell_type": "code",
   "execution_count": 27,
   "metadata": {
    "ExecuteTime": {
     "end_time": "2022-02-19T17:18:39.969590Z",
     "start_time": "2022-02-19T17:18:39.879209Z"
    }
   },
   "outputs": [],
   "source": [
    "X = df_reg.drop(columns='price')\n",
    "y = df_reg['price']\n",
    "\n",
    "X_train, X_test, y_train, y_test = train_test_split(X, y, test_size=0.3, random_state=42)"
   ]
  },
  {
   "cell_type": "code",
   "execution_count": 28,
   "metadata": {
    "ExecuteTime": {
     "end_time": "2022-02-19T17:23:43.409683Z",
     "start_time": "2022-02-19T17:18:39.971601Z"
    }
   },
   "outputs": [
    {
     "name": "stdout",
     "output_type": "stream",
     "text": [
      "CPU times: user 1.08 s, sys: 1.18 s, total: 2.25 s\n",
      "Wall time: 5min 3s\n"
     ]
    },
    {
     "data": {
      "text/html": [
       "<style>#sk-041bc959-6504-44db-a1a6-f588d21ae104 {color: black;background-color: white;}#sk-041bc959-6504-44db-a1a6-f588d21ae104 pre{padding: 0;}#sk-041bc959-6504-44db-a1a6-f588d21ae104 div.sk-toggleable {background-color: white;}#sk-041bc959-6504-44db-a1a6-f588d21ae104 label.sk-toggleable__label {cursor: pointer;display: block;width: 100%;margin-bottom: 0;padding: 0.3em;box-sizing: border-box;text-align: center;}#sk-041bc959-6504-44db-a1a6-f588d21ae104 label.sk-toggleable__label-arrow:before {content: \"▸\";float: left;margin-right: 0.25em;color: #696969;}#sk-041bc959-6504-44db-a1a6-f588d21ae104 label.sk-toggleable__label-arrow:hover:before {color: black;}#sk-041bc959-6504-44db-a1a6-f588d21ae104 div.sk-estimator:hover label.sk-toggleable__label-arrow:before {color: black;}#sk-041bc959-6504-44db-a1a6-f588d21ae104 div.sk-toggleable__content {max-height: 0;max-width: 0;overflow: hidden;text-align: left;background-color: #f0f8ff;}#sk-041bc959-6504-44db-a1a6-f588d21ae104 div.sk-toggleable__content pre {margin: 0.2em;color: black;border-radius: 0.25em;background-color: #f0f8ff;}#sk-041bc959-6504-44db-a1a6-f588d21ae104 input.sk-toggleable__control:checked~div.sk-toggleable__content {max-height: 200px;max-width: 100%;overflow: auto;}#sk-041bc959-6504-44db-a1a6-f588d21ae104 input.sk-toggleable__control:checked~label.sk-toggleable__label-arrow:before {content: \"▾\";}#sk-041bc959-6504-44db-a1a6-f588d21ae104 div.sk-estimator input.sk-toggleable__control:checked~label.sk-toggleable__label {background-color: #d4ebff;}#sk-041bc959-6504-44db-a1a6-f588d21ae104 div.sk-label input.sk-toggleable__control:checked~label.sk-toggleable__label {background-color: #d4ebff;}#sk-041bc959-6504-44db-a1a6-f588d21ae104 input.sk-hidden--visually {border: 0;clip: rect(1px 1px 1px 1px);clip: rect(1px, 1px, 1px, 1px);height: 1px;margin: -1px;overflow: hidden;padding: 0;position: absolute;width: 1px;}#sk-041bc959-6504-44db-a1a6-f588d21ae104 div.sk-estimator {font-family: monospace;background-color: #f0f8ff;border: 1px dotted black;border-radius: 0.25em;box-sizing: border-box;margin-bottom: 0.5em;}#sk-041bc959-6504-44db-a1a6-f588d21ae104 div.sk-estimator:hover {background-color: #d4ebff;}#sk-041bc959-6504-44db-a1a6-f588d21ae104 div.sk-parallel-item::after {content: \"\";width: 100%;border-bottom: 1px solid gray;flex-grow: 1;}#sk-041bc959-6504-44db-a1a6-f588d21ae104 div.sk-label:hover label.sk-toggleable__label {background-color: #d4ebff;}#sk-041bc959-6504-44db-a1a6-f588d21ae104 div.sk-serial::before {content: \"\";position: absolute;border-left: 1px solid gray;box-sizing: border-box;top: 2em;bottom: 0;left: 50%;}#sk-041bc959-6504-44db-a1a6-f588d21ae104 div.sk-serial {display: flex;flex-direction: column;align-items: center;background-color: white;padding-right: 0.2em;padding-left: 0.2em;}#sk-041bc959-6504-44db-a1a6-f588d21ae104 div.sk-item {z-index: 1;}#sk-041bc959-6504-44db-a1a6-f588d21ae104 div.sk-parallel {display: flex;align-items: stretch;justify-content: center;background-color: white;}#sk-041bc959-6504-44db-a1a6-f588d21ae104 div.sk-parallel::before {content: \"\";position: absolute;border-left: 1px solid gray;box-sizing: border-box;top: 2em;bottom: 0;left: 50%;}#sk-041bc959-6504-44db-a1a6-f588d21ae104 div.sk-parallel-item {display: flex;flex-direction: column;position: relative;background-color: white;}#sk-041bc959-6504-44db-a1a6-f588d21ae104 div.sk-parallel-item:first-child::after {align-self: flex-end;width: 50%;}#sk-041bc959-6504-44db-a1a6-f588d21ae104 div.sk-parallel-item:last-child::after {align-self: flex-start;width: 50%;}#sk-041bc959-6504-44db-a1a6-f588d21ae104 div.sk-parallel-item:only-child::after {width: 0;}#sk-041bc959-6504-44db-a1a6-f588d21ae104 div.sk-dashed-wrapped {border: 1px dashed gray;margin: 0 0.4em 0.5em 0.4em;box-sizing: border-box;padding-bottom: 0.4em;background-color: white;position: relative;}#sk-041bc959-6504-44db-a1a6-f588d21ae104 div.sk-label label {font-family: monospace;font-weight: bold;background-color: white;display: inline-block;line-height: 1.2em;}#sk-041bc959-6504-44db-a1a6-f588d21ae104 div.sk-label-container {position: relative;z-index: 2;text-align: center;}#sk-041bc959-6504-44db-a1a6-f588d21ae104 div.sk-container {/* jupyter's `normalize.less` sets `[hidden] { display: none; }` but bootstrap.min.css set `[hidden] { display: none !important; }` so we also need the `!important` here to be able to override the default hidden behavior on the sphinx rendered scikit-learn.org. See: https://github.com/scikit-learn/scikit-learn/issues/21755 */display: inline-block !important;position: relative;}#sk-041bc959-6504-44db-a1a6-f588d21ae104 div.sk-text-repr-fallback {display: none;}</style><div id=\"sk-041bc959-6504-44db-a1a6-f588d21ae104\" class=\"sk-top-container\"><div class=\"sk-text-repr-fallback\"><pre>GridSearchCV(cv=3,\n",
       "             estimator=Pipeline(steps=[(&#x27;scaler&#x27;, StandardScaler()),\n",
       "                                       (&#x27;model&#x27;, RandomForestRegressor())]),\n",
       "             n_jobs=-1,\n",
       "             param_grid=[{&#x27;model&#x27;: [LinearRegression()],\n",
       "                          &#x27;scaler&#x27;: [StandardScaler(), MinMaxScaler()]},\n",
       "                         {&#x27;model&#x27;: [KNeighborsRegressor(n_neighbors=7)],\n",
       "                          &#x27;model__n_neighbors&#x27;: [1, 3, 5, 7, 10, 15],\n",
       "                          &#x27;scaler&#x27;: [StandardScaler(), MinMaxScaler()]},\n",
       "                         {&#x27;model&#x27;: [SGDRegres...\n",
       "                                                 random_state=None,\n",
       "                                                 reg_alpha=None,\n",
       "                                                 reg_lambda=None,\n",
       "                                                 scale_pos_weight=None,\n",
       "                                                 subsample=None,\n",
       "                                                 tree_method=None,\n",
       "                                                 validate_parameters=None,\n",
       "                                                 verbosity=None)],\n",
       "                          &#x27;model__booster&#x27;: [&#x27;gbtree&#x27;, &#x27;gblinear&#x27;],\n",
       "                          &#x27;model__learning_rate&#x27;: [0.3, 0.1, 0.001],\n",
       "                          &#x27;model__max_depth&#x27;: [2, 4, 6]},\n",
       "                         {&#x27;model&#x27;: [RandomForestRegressor()],\n",
       "                          &#x27;model__max_depth&#x27;: [2, 4, 6],\n",
       "                          &#x27;model__n_estimators&#x27;: [5, 10, 20, 50, 100]}],\n",
       "             scoring=&#x27;r2&#x27;)</pre><b>Please rerun this cell to show the HTML repr or trust the notebook.</b></div><div class=\"sk-container\" hidden><div class=\"sk-item sk-dashed-wrapped\"><div class=\"sk-label-container\"><div class=\"sk-label sk-toggleable\"><input class=\"sk-toggleable__control sk-hidden--visually\" id=\"f3d6e7ef-7bc7-4e6b-89eb-612768e2a391\" type=\"checkbox\" ><label for=\"f3d6e7ef-7bc7-4e6b-89eb-612768e2a391\" class=\"sk-toggleable__label sk-toggleable__label-arrow\">GridSearchCV</label><div class=\"sk-toggleable__content\"><pre>GridSearchCV(cv=3,\n",
       "             estimator=Pipeline(steps=[(&#x27;scaler&#x27;, StandardScaler()),\n",
       "                                       (&#x27;model&#x27;, RandomForestRegressor())]),\n",
       "             n_jobs=-1,\n",
       "             param_grid=[{&#x27;model&#x27;: [LinearRegression()],\n",
       "                          &#x27;scaler&#x27;: [StandardScaler(), MinMaxScaler()]},\n",
       "                         {&#x27;model&#x27;: [KNeighborsRegressor(n_neighbors=7)],\n",
       "                          &#x27;model__n_neighbors&#x27;: [1, 3, 5, 7, 10, 15],\n",
       "                          &#x27;scaler&#x27;: [StandardScaler(), MinMaxScaler()]},\n",
       "                         {&#x27;model&#x27;: [SGDRegres...\n",
       "                                                 random_state=None,\n",
       "                                                 reg_alpha=None,\n",
       "                                                 reg_lambda=None,\n",
       "                                                 scale_pos_weight=None,\n",
       "                                                 subsample=None,\n",
       "                                                 tree_method=None,\n",
       "                                                 validate_parameters=None,\n",
       "                                                 verbosity=None)],\n",
       "                          &#x27;model__booster&#x27;: [&#x27;gbtree&#x27;, &#x27;gblinear&#x27;],\n",
       "                          &#x27;model__learning_rate&#x27;: [0.3, 0.1, 0.001],\n",
       "                          &#x27;model__max_depth&#x27;: [2, 4, 6]},\n",
       "                         {&#x27;model&#x27;: [RandomForestRegressor()],\n",
       "                          &#x27;model__max_depth&#x27;: [2, 4, 6],\n",
       "                          &#x27;model__n_estimators&#x27;: [5, 10, 20, 50, 100]}],\n",
       "             scoring=&#x27;r2&#x27;)</pre></div></div></div><div class=\"sk-parallel\"><div class=\"sk-parallel-item\"><div class=\"sk-item\"><div class=\"sk-serial\"><div class=\"sk-item\"><div class=\"sk-serial\"><div class=\"sk-item\"><div class=\"sk-estimator sk-toggleable\"><input class=\"sk-toggleable__control sk-hidden--visually\" id=\"ce0fa3e8-0ec9-46b6-8376-cbddd176cc4d\" type=\"checkbox\" ><label for=\"ce0fa3e8-0ec9-46b6-8376-cbddd176cc4d\" class=\"sk-toggleable__label sk-toggleable__label-arrow\">StandardScaler</label><div class=\"sk-toggleable__content\"><pre>StandardScaler()</pre></div></div></div><div class=\"sk-item\"><div class=\"sk-estimator sk-toggleable\"><input class=\"sk-toggleable__control sk-hidden--visually\" id=\"1653b290-2141-437c-9209-f26aa9686cd8\" type=\"checkbox\" ><label for=\"1653b290-2141-437c-9209-f26aa9686cd8\" class=\"sk-toggleable__label sk-toggleable__label-arrow\">RandomForestRegressor</label><div class=\"sk-toggleable__content\"><pre>RandomForestRegressor()</pre></div></div></div></div></div></div></div></div></div></div></div></div>"
      ],
      "text/plain": [
       "GridSearchCV(cv=3,\n",
       "             estimator=Pipeline(steps=[('scaler', StandardScaler()),\n",
       "                                       ('model', RandomForestRegressor())]),\n",
       "             n_jobs=-1,\n",
       "             param_grid=[{'model': [LinearRegression()],\n",
       "                          'scaler': [StandardScaler(), MinMaxScaler()]},\n",
       "                         {'model': [KNeighborsRegressor(n_neighbors=7)],\n",
       "                          'model__n_neighbors': [1, 3, 5, 7, 10, 15],\n",
       "                          'scaler': [StandardScaler(), MinMaxScaler()]},\n",
       "                         {'model': [SGDRegres...\n",
       "                                                 random_state=None,\n",
       "                                                 reg_alpha=None,\n",
       "                                                 reg_lambda=None,\n",
       "                                                 scale_pos_weight=None,\n",
       "                                                 subsample=None,\n",
       "                                                 tree_method=None,\n",
       "                                                 validate_parameters=None,\n",
       "                                                 verbosity=None)],\n",
       "                          'model__booster': ['gbtree', 'gblinear'],\n",
       "                          'model__learning_rate': [0.3, 0.1, 0.001],\n",
       "                          'model__max_depth': [2, 4, 6]},\n",
       "                         {'model': [RandomForestRegressor()],\n",
       "                          'model__max_depth': [2, 4, 6],\n",
       "                          'model__n_estimators': [5, 10, 20, 50, 100]}],\n",
       "             scoring='r2')"
      ]
     },
     "execution_count": 28,
     "metadata": {},
     "output_type": "execute_result"
    }
   ],
   "source": [
    "%%time\n",
    "# Train the grid search model\n",
    "scoring=['neg_mean_absolute_error','r2']\n",
    "gs = GridSearchCV(pipe, params, cv=3, n_jobs=-1, scoring='r2')\n",
    "gs.fit(X_train, y_train)"
   ]
  },
  {
   "cell_type": "code",
   "execution_count": 29,
   "metadata": {
    "ExecuteTime": {
     "end_time": "2022-02-19T17:23:43.447061Z",
     "start_time": "2022-02-19T17:23:43.430940Z"
    }
   },
   "outputs": [
    {
     "data": {
      "text/plain": [
       "{'model': KNeighborsRegressor(n_neighbors=7),\n",
       " 'model__n_neighbors': 7,\n",
       " 'scaler': StandardScaler()}"
      ]
     },
     "execution_count": 29,
     "metadata": {},
     "output_type": "execute_result"
    }
   ],
   "source": [
    "gs.best_params_"
   ]
  },
  {
   "cell_type": "code",
   "execution_count": 30,
   "metadata": {
    "ExecuteTime": {
     "end_time": "2022-02-19T17:23:43.460740Z",
     "start_time": "2022-02-19T17:23:43.448958Z"
    }
   },
   "outputs": [
    {
     "data": {
      "text/plain": [
       "0.2530236032787124"
      ]
     },
     "execution_count": 30,
     "metadata": {},
     "output_type": "execute_result"
    }
   ],
   "source": [
    "gs.best_score_"
   ]
  },
  {
   "cell_type": "code",
   "execution_count": 31,
   "metadata": {
    "ExecuteTime": {
     "end_time": "2022-02-19T17:24:17.444596Z",
     "start_time": "2022-02-19T17:23:43.462568Z"
    }
   },
   "outputs": [
    {
     "data": {
      "text/plain": [
       "0.45687525633577175"
      ]
     },
     "execution_count": 31,
     "metadata": {},
     "output_type": "execute_result"
    }
   ],
   "source": [
    "gs.score(X_train, y_train)"
   ]
  },
  {
   "cell_type": "code",
   "execution_count": 32,
   "metadata": {
    "ExecuteTime": {
     "end_time": "2022-02-19T17:24:32.196764Z",
     "start_time": "2022-02-19T17:24:17.447077Z"
    }
   },
   "outputs": [
    {
     "data": {
      "text/plain": [
       "0.29653918643844457"
      ]
     },
     "execution_count": 32,
     "metadata": {},
     "output_type": "execute_result"
    }
   ],
   "source": [
    "gs.score(X_test, y_test)"
   ]
  },
  {
   "cell_type": "code",
   "execution_count": 33,
   "metadata": {
    "ExecuteTime": {
     "end_time": "2022-02-19T17:25:00.969284Z",
     "start_time": "2022-02-19T17:24:32.198731Z"
    }
   },
   "outputs": [
    {
     "name": "stdout",
     "output_type": "stream",
     "text": [
      "Scoring with Test data\n",
      "R2 Score: 0.29653918643844457\n",
      "RMSE: 332.272390963549\n",
      "MAE: 74.24485607008761\n"
     ]
    }
   ],
   "source": [
    "y_pred = gs.predict(X_test)\n",
    "print('Scoring with Test data')\n",
    "\n",
    "print(f'R2 Score: {gs.score(X_test,y_test)}')\n",
    "print(f'RMSE: {mean_squared_error(y_test, y_pred,squared=False)}')\n",
    "print(f'MAE: {mean_absolute_error(y_test, y_pred)}')"
   ]
  },
  {
   "cell_type": "code",
   "execution_count": null,
   "metadata": {},
   "outputs": [],
   "source": []
  }
 ],
 "metadata": {
  "hide_input": false,
  "interpreter": {
   "hash": "e0cc6048b5b98724b065a6f0e1645fe425c5f517ef157605734bfa533b61a06d"
  },
  "kernelspec": {
   "display_name": "Python 3 (ipykernel)",
   "language": "python",
   "name": "python3"
  },
  "language_info": {
   "codemirror_mode": {
    "name": "ipython",
    "version": 3
   },
   "file_extension": ".py",
   "mimetype": "text/x-python",
   "name": "python",
   "nbconvert_exporter": "python",
   "pygments_lexer": "ipython3",
   "version": "3.8.12"
  },
  "toc": {
   "base_numbering": 1,
   "nav_menu": {},
   "number_sections": true,
   "sideBar": true,
   "skip_h1_title": false,
   "title_cell": "Table of Contents",
   "title_sidebar": "Contents",
   "toc_cell": false,
   "toc_position": {},
   "toc_section_display": true,
   "toc_window_display": true
  }
 },
 "nbformat": 4,
 "nbformat_minor": 2
}
