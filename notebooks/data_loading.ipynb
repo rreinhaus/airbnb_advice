{
 "cells": [
  {
   "cell_type": "code",
   "execution_count": 1,
   "metadata": {
    "ExecuteTime": {
     "end_time": "2022-02-19T12:26:22.049214Z",
     "start_time": "2022-02-19T12:26:19.739359Z"
    }
   },
   "outputs": [],
   "source": [
    "import csv_to_sqlite \n",
    "import sqlite3\n",
    "import pandas as pd\n",
    "import numpy as np\n",
    "import ast\n",
    "import seaborn as sns\n",
    "import matplotlib.pyplot as plt\n",
    "\n",
    "pd.set_option('display.max_columns', None)"
   ]
  },
  {
   "cell_type": "markdown",
   "metadata": {},
   "source": [
    "## working listing file"
   ]
  },
  {
   "cell_type": "code",
   "execution_count": 2,
   "metadata": {
    "ExecuteTime": {
     "end_time": "2022-02-19T12:26:27.809248Z",
     "start_time": "2022-02-19T12:26:22.055044Z"
    },
    "scrolled": false
   },
   "outputs": [],
   "source": [
    "# Load data\n",
    "df = pd.read_csv('../raw_data/listings.csv')\n",
    "\n",
    "# No needed columns\n",
    "columns_todrop = ['id',\n",
    "                  'listing_url',\n",
    "                  'scrape_id',\n",
    "                  'name',\n",
    "                  'description',\n",
    "                  'neighborhood_overview',\n",
    "                  'picture_url',\n",
    "                  'host_id',\n",
    "                  'host_url',\n",
    "                  'host_name',\n",
    "                  'host_location',\n",
    "                  'host_about',\n",
    "                  'host_thumbnail_url',\n",
    "                  'host_picture_url',\n",
    "                  'host_verifications',\n",
    "                  'neighbourhood',\n",
    "                  'neighbourhood_group_cleansed',\n",
    "                  'calendar_last_scraped',\n",
    "                  'bathrooms',\n",
    "                  'calendar_updated',\n",
    "                  'license',\n",
    "                  'host_response_time',\n",
    "                  'host_response_rate',\n",
    "                  'host_acceptance_rate',\n",
    "                  'bathrooms_text',\n",
    "                  'host_neighbourhood',\n",
    "                  'last_review'\n",
    "                 ]\n",
    "df = df.drop(columns=columns_todrop)\n",
    "\n",
    "# Converting Amenities from str to list\n",
    "df['amenities'] = df['amenities'].apply(lambda x: ast.literal_eval(x))\n",
    "df['total_amenities'] = df['amenities'].apply(lambda x: len(x))\n",
    "\n",
    "# Droping null - subset: host since \n",
    "df.dropna(subset=['host_since'],inplace=True)\n",
    "\n",
    "# Formating to datetime\n",
    "df[['host_since','first_review','last_scraped']] = df[['host_since','first_review','last_scraped']].apply(pd.to_datetime)\n",
    "\n",
    "# Calculating Host Tenure\n",
    "df['host_tenure'] = (df['last_scraped'] - df['host_since']).dt.days\n",
    "\n",
    "# Formating Price\n",
    "df['price'] = df['price'].apply(lambda x: x.replace('$', '').replace(',', '')\n",
    "                                if isinstance(x, str) else x).astype(float)\n",
    "\n",
    "# Reseting Index\n",
    "df.reset_index(drop=True,inplace=True)\n"
   ]
  },
  {
   "cell_type": "code",
   "execution_count": 3,
   "metadata": {
    "ExecuteTime": {
     "end_time": "2022-02-19T12:26:27.852432Z",
     "start_time": "2022-02-19T12:26:27.811377Z"
    }
   },
   "outputs": [
    {
     "data": {
      "text/html": [
       "<div>\n",
       "<style scoped>\n",
       "    .dataframe tbody tr th:only-of-type {\n",
       "        vertical-align: middle;\n",
       "    }\n",
       "\n",
       "    .dataframe tbody tr th {\n",
       "        vertical-align: top;\n",
       "    }\n",
       "\n",
       "    .dataframe thead th {\n",
       "        text-align: right;\n",
       "    }\n",
       "</style>\n",
       "<table border=\"1\" class=\"dataframe\">\n",
       "  <thead>\n",
       "    <tr style=\"text-align: right;\">\n",
       "      <th></th>\n",
       "      <th>latitude</th>\n",
       "      <th>longitude</th>\n",
       "      <th>room_type</th>\n",
       "      <th>accommodates</th>\n",
       "      <th>bedrooms</th>\n",
       "      <th>beds</th>\n",
       "      <th>minimum_nights</th>\n",
       "      <th>neighbourhood_cleansed</th>\n",
       "      <th>price</th>\n",
       "    </tr>\n",
       "  </thead>\n",
       "  <tbody>\n",
       "    <tr>\n",
       "      <th>0</th>\n",
       "      <td>51.56861</td>\n",
       "      <td>-0.11270</td>\n",
       "      <td>Private room</td>\n",
       "      <td>2</td>\n",
       "      <td>1.0</td>\n",
       "      <td>NaN</td>\n",
       "      <td>1</td>\n",
       "      <td>Islington</td>\n",
       "      <td>65.0</td>\n",
       "    </tr>\n",
       "    <tr>\n",
       "      <th>1</th>\n",
       "      <td>51.48780</td>\n",
       "      <td>-0.16813</td>\n",
       "      <td>Entire home/apt</td>\n",
       "      <td>2</td>\n",
       "      <td>1.0</td>\n",
       "      <td>1.0</td>\n",
       "      <td>3</td>\n",
       "      <td>Kensington and Chelsea</td>\n",
       "      <td>75.0</td>\n",
       "    </tr>\n",
       "    <tr>\n",
       "      <th>2</th>\n",
       "      <td>51.52195</td>\n",
       "      <td>-0.14094</td>\n",
       "      <td>Entire home/apt</td>\n",
       "      <td>6</td>\n",
       "      <td>3.0</td>\n",
       "      <td>3.0</td>\n",
       "      <td>4</td>\n",
       "      <td>Westminster</td>\n",
       "      <td>265.0</td>\n",
       "    </tr>\n",
       "    <tr>\n",
       "      <th>3</th>\n",
       "      <td>51.47935</td>\n",
       "      <td>-0.19743</td>\n",
       "      <td>Private room</td>\n",
       "      <td>2</td>\n",
       "      <td>1.0</td>\n",
       "      <td>1.0</td>\n",
       "      <td>3</td>\n",
       "      <td>Hammersmith and Fulham</td>\n",
       "      <td>150.0</td>\n",
       "    </tr>\n",
       "    <tr>\n",
       "      <th>4</th>\n",
       "      <td>51.57438</td>\n",
       "      <td>-0.21081</td>\n",
       "      <td>Private room</td>\n",
       "      <td>2</td>\n",
       "      <td>1.0</td>\n",
       "      <td>NaN</td>\n",
       "      <td>10</td>\n",
       "      <td>Barnet</td>\n",
       "      <td>29.0</td>\n",
       "    </tr>\n",
       "    <tr>\n",
       "      <th>5</th>\n",
       "      <td>51.46416</td>\n",
       "      <td>-0.32554</td>\n",
       "      <td>Private room</td>\n",
       "      <td>2</td>\n",
       "      <td>1.0</td>\n",
       "      <td>1.0</td>\n",
       "      <td>2</td>\n",
       "      <td>Hounslow</td>\n",
       "      <td>65.0</td>\n",
       "    </tr>\n",
       "    <tr>\n",
       "      <th>6</th>\n",
       "      <td>51.48085</td>\n",
       "      <td>-0.28086</td>\n",
       "      <td>Entire home/apt</td>\n",
       "      <td>5</td>\n",
       "      <td>3.0</td>\n",
       "      <td>3.0</td>\n",
       "      <td>3</td>\n",
       "      <td>Richmond upon Thames</td>\n",
       "      <td>195.0</td>\n",
       "    </tr>\n",
       "    <tr>\n",
       "      <th>7</th>\n",
       "      <td>51.58478</td>\n",
       "      <td>-0.16057</td>\n",
       "      <td>Private room</td>\n",
       "      <td>2</td>\n",
       "      <td>1.0</td>\n",
       "      <td>NaN</td>\n",
       "      <td>2</td>\n",
       "      <td>Haringey</td>\n",
       "      <td>72.0</td>\n",
       "    </tr>\n",
       "    <tr>\n",
       "      <th>8</th>\n",
       "      <td>51.41844</td>\n",
       "      <td>-0.08729</td>\n",
       "      <td>Private room</td>\n",
       "      <td>2</td>\n",
       "      <td>1.0</td>\n",
       "      <td>NaN</td>\n",
       "      <td>1</td>\n",
       "      <td>Croydon</td>\n",
       "      <td>65.0</td>\n",
       "    </tr>\n",
       "    <tr>\n",
       "      <th>9</th>\n",
       "      <td>51.50701</td>\n",
       "      <td>-0.23362</td>\n",
       "      <td>Entire home/apt</td>\n",
       "      <td>8</td>\n",
       "      <td>4.0</td>\n",
       "      <td>4.0</td>\n",
       "      <td>30</td>\n",
       "      <td>Hammersmith and Fulham</td>\n",
       "      <td>190.0</td>\n",
       "    </tr>\n",
       "  </tbody>\n",
       "</table>\n",
       "</div>"
      ],
      "text/plain": [
       "   latitude  longitude        room_type  accommodates  bedrooms  beds  \\\n",
       "0  51.56861   -0.11270     Private room             2       1.0   NaN   \n",
       "1  51.48780   -0.16813  Entire home/apt             2       1.0   1.0   \n",
       "2  51.52195   -0.14094  Entire home/apt             6       3.0   3.0   \n",
       "3  51.47935   -0.19743     Private room             2       1.0   1.0   \n",
       "4  51.57438   -0.21081     Private room             2       1.0   NaN   \n",
       "5  51.46416   -0.32554     Private room             2       1.0   1.0   \n",
       "6  51.48085   -0.28086  Entire home/apt             5       3.0   3.0   \n",
       "7  51.58478   -0.16057     Private room             2       1.0   NaN   \n",
       "8  51.41844   -0.08729     Private room             2       1.0   NaN   \n",
       "9  51.50701   -0.23362  Entire home/apt             8       4.0   4.0   \n",
       "\n",
       "   minimum_nights  neighbourhood_cleansed  price  \n",
       "0               1               Islington   65.0  \n",
       "1               3  Kensington and Chelsea   75.0  \n",
       "2               4             Westminster  265.0  \n",
       "3               3  Hammersmith and Fulham  150.0  \n",
       "4              10                  Barnet   29.0  \n",
       "5               2                Hounslow   65.0  \n",
       "6               3    Richmond upon Thames  195.0  \n",
       "7               2                Haringey   72.0  \n",
       "8               1                 Croydon   65.0  \n",
       "9              30  Hammersmith and Fulham  190.0  "
      ]
     },
     "execution_count": 3,
     "metadata": {},
     "output_type": "execute_result"
    }
   ],
   "source": [
    "reg_columns = [\n",
    "    'latitude',\n",
    "    'longitude',\n",
    "    'room_type',\n",
    "    'accommodates',\n",
    "    'bedrooms',\n",
    "    'beds',\n",
    "    'minimum_nights',\n",
    "    'neighbourhood_cleansed',\n",
    "    'price'\n",
    "    \n",
    "]\n",
    "df_reg = df[reg_columns]\n",
    "df_reg.head(10)"
   ]
  },
  {
   "cell_type": "code",
   "execution_count": 4,
   "metadata": {
    "ExecuteTime": {
     "end_time": "2022-02-19T12:26:27.881876Z",
     "start_time": "2022-02-19T12:26:27.856182Z"
    }
   },
   "outputs": [
    {
     "data": {
      "text/plain": [
       "latitude                  0.000000\n",
       "longitude                 0.000000\n",
       "room_type                 0.000000\n",
       "accommodates              0.000000\n",
       "bedrooms                  6.024151\n",
       "beds                      5.466943\n",
       "minimum_nights            0.000000\n",
       "neighbourhood_cleansed    0.000000\n",
       "price                     0.000000\n",
       "dtype: float64"
      ]
     },
     "execution_count": 4,
     "metadata": {},
     "output_type": "execute_result"
    }
   ],
   "source": [
    "df_reg.isnull().sum()/len(df_reg)*100"
   ]
  },
  {
   "cell_type": "code",
   "execution_count": 105,
   "metadata": {
    "ExecuteTime": {
     "end_time": "2022-02-19T12:49:06.825895Z",
     "start_time": "2022-02-19T12:49:06.820266Z"
    }
   },
   "outputs": [],
   "source": [
    "from sklearn.model_selection import train_test_split\n",
    "from sklearn.pipeline import Pipeline\n",
    "from sklearn.preprocessing import OneHotEncoder\n",
    "from sklearn.compose import ColumnTransformer\n",
    "from sklearn.pipeline import make_pipeline\n",
    "from sklearn.impute import KNNImputer\n",
    "from sklearn.preprocessing import StandardScaler, MinMaxScaler, RobustScaler\n",
    "from sklearn.linear_model import LinearRegression\n",
    "from sklearn.metrics import mean_squared_error\n",
    " # visualizing pipelines in HTML\n",
    "from sklearn import set_config; set_config(display='diagram')"
   ]
  },
  {
   "cell_type": "code",
   "execution_count": 6,
   "metadata": {
    "ExecuteTime": {
     "end_time": "2022-02-19T12:26:28.165914Z",
     "start_time": "2022-02-19T12:26:28.158979Z"
    }
   },
   "outputs": [],
   "source": [
    "X = df_reg.drop(columns='price')\n",
    "y = df_reg['price']"
   ]
  },
  {
   "cell_type": "code",
   "execution_count": 7,
   "metadata": {
    "ExecuteTime": {
     "end_time": "2022-02-19T12:26:28.184791Z",
     "start_time": "2022-02-19T12:26:28.168537Z"
    }
   },
   "outputs": [],
   "source": [
    "X_train, X_test, y_train, y_test = train_test_split(X, y, test_size=0.3, random_state=42)"
   ]
  },
  {
   "cell_type": "code",
   "execution_count": 8,
   "metadata": {
    "ExecuteTime": {
     "end_time": "2022-02-19T12:26:28.190985Z",
     "start_time": "2022-02-19T12:26:28.186807Z"
    }
   },
   "outputs": [],
   "source": [
    "cat_transformer = OneHotEncoder(handle_unknown='ignore', sparse=False)\n",
    "\n",
    "preprocessor = ColumnTransformer([\n",
    "    ('encoding', cat_transformer, ['room_type','neighbourhood_cleansed']),\n",
    "    ('imputer', KNNImputer(missing_values=np.nan),['bedrooms','beds'])],\n",
    "    remainder='passthrough')"
   ]
  },
  {
   "cell_type": "code",
   "execution_count": 9,
   "metadata": {
    "ExecuteTime": {
     "end_time": "2022-02-19T12:26:28.204062Z",
     "start_time": "2022-02-19T12:26:28.193530Z"
    }
   },
   "outputs": [
    {
     "data": {
      "text/html": [
       "<style>#sk-bceba7ae-8848-401a-bfb3-7ebe6c79f88b {color: black;background-color: white;}#sk-bceba7ae-8848-401a-bfb3-7ebe6c79f88b pre{padding: 0;}#sk-bceba7ae-8848-401a-bfb3-7ebe6c79f88b div.sk-toggleable {background-color: white;}#sk-bceba7ae-8848-401a-bfb3-7ebe6c79f88b label.sk-toggleable__label {cursor: pointer;display: block;width: 100%;margin-bottom: 0;padding: 0.3em;box-sizing: border-box;text-align: center;}#sk-bceba7ae-8848-401a-bfb3-7ebe6c79f88b label.sk-toggleable__label-arrow:before {content: \"▸\";float: left;margin-right: 0.25em;color: #696969;}#sk-bceba7ae-8848-401a-bfb3-7ebe6c79f88b label.sk-toggleable__label-arrow:hover:before {color: black;}#sk-bceba7ae-8848-401a-bfb3-7ebe6c79f88b div.sk-estimator:hover label.sk-toggleable__label-arrow:before {color: black;}#sk-bceba7ae-8848-401a-bfb3-7ebe6c79f88b div.sk-toggleable__content {max-height: 0;max-width: 0;overflow: hidden;text-align: left;background-color: #f0f8ff;}#sk-bceba7ae-8848-401a-bfb3-7ebe6c79f88b div.sk-toggleable__content pre {margin: 0.2em;color: black;border-radius: 0.25em;background-color: #f0f8ff;}#sk-bceba7ae-8848-401a-bfb3-7ebe6c79f88b input.sk-toggleable__control:checked~div.sk-toggleable__content {max-height: 200px;max-width: 100%;overflow: auto;}#sk-bceba7ae-8848-401a-bfb3-7ebe6c79f88b input.sk-toggleable__control:checked~label.sk-toggleable__label-arrow:before {content: \"▾\";}#sk-bceba7ae-8848-401a-bfb3-7ebe6c79f88b div.sk-estimator input.sk-toggleable__control:checked~label.sk-toggleable__label {background-color: #d4ebff;}#sk-bceba7ae-8848-401a-bfb3-7ebe6c79f88b div.sk-label input.sk-toggleable__control:checked~label.sk-toggleable__label {background-color: #d4ebff;}#sk-bceba7ae-8848-401a-bfb3-7ebe6c79f88b input.sk-hidden--visually {border: 0;clip: rect(1px 1px 1px 1px);clip: rect(1px, 1px, 1px, 1px);height: 1px;margin: -1px;overflow: hidden;padding: 0;position: absolute;width: 1px;}#sk-bceba7ae-8848-401a-bfb3-7ebe6c79f88b div.sk-estimator {font-family: monospace;background-color: #f0f8ff;border: 1px dotted black;border-radius: 0.25em;box-sizing: border-box;margin-bottom: 0.5em;}#sk-bceba7ae-8848-401a-bfb3-7ebe6c79f88b div.sk-estimator:hover {background-color: #d4ebff;}#sk-bceba7ae-8848-401a-bfb3-7ebe6c79f88b div.sk-parallel-item::after {content: \"\";width: 100%;border-bottom: 1px solid gray;flex-grow: 1;}#sk-bceba7ae-8848-401a-bfb3-7ebe6c79f88b div.sk-label:hover label.sk-toggleable__label {background-color: #d4ebff;}#sk-bceba7ae-8848-401a-bfb3-7ebe6c79f88b div.sk-serial::before {content: \"\";position: absolute;border-left: 1px solid gray;box-sizing: border-box;top: 2em;bottom: 0;left: 50%;}#sk-bceba7ae-8848-401a-bfb3-7ebe6c79f88b div.sk-serial {display: flex;flex-direction: column;align-items: center;background-color: white;padding-right: 0.2em;padding-left: 0.2em;}#sk-bceba7ae-8848-401a-bfb3-7ebe6c79f88b div.sk-item {z-index: 1;}#sk-bceba7ae-8848-401a-bfb3-7ebe6c79f88b div.sk-parallel {display: flex;align-items: stretch;justify-content: center;background-color: white;}#sk-bceba7ae-8848-401a-bfb3-7ebe6c79f88b div.sk-parallel::before {content: \"\";position: absolute;border-left: 1px solid gray;box-sizing: border-box;top: 2em;bottom: 0;left: 50%;}#sk-bceba7ae-8848-401a-bfb3-7ebe6c79f88b div.sk-parallel-item {display: flex;flex-direction: column;position: relative;background-color: white;}#sk-bceba7ae-8848-401a-bfb3-7ebe6c79f88b div.sk-parallel-item:first-child::after {align-self: flex-end;width: 50%;}#sk-bceba7ae-8848-401a-bfb3-7ebe6c79f88b div.sk-parallel-item:last-child::after {align-self: flex-start;width: 50%;}#sk-bceba7ae-8848-401a-bfb3-7ebe6c79f88b div.sk-parallel-item:only-child::after {width: 0;}#sk-bceba7ae-8848-401a-bfb3-7ebe6c79f88b div.sk-dashed-wrapped {border: 1px dashed gray;margin: 0 0.4em 0.5em 0.4em;box-sizing: border-box;padding-bottom: 0.4em;background-color: white;position: relative;}#sk-bceba7ae-8848-401a-bfb3-7ebe6c79f88b div.sk-label label {font-family: monospace;font-weight: bold;background-color: white;display: inline-block;line-height: 1.2em;}#sk-bceba7ae-8848-401a-bfb3-7ebe6c79f88b div.sk-label-container {position: relative;z-index: 2;text-align: center;}#sk-bceba7ae-8848-401a-bfb3-7ebe6c79f88b div.sk-container {/* jupyter's `normalize.less` sets `[hidden] { display: none; }` but bootstrap.min.css set `[hidden] { display: none !important; }` so we also need the `!important` here to be able to override the default hidden behavior on the sphinx rendered scikit-learn.org. See: https://github.com/scikit-learn/scikit-learn/issues/21755 */display: inline-block !important;position: relative;}#sk-bceba7ae-8848-401a-bfb3-7ebe6c79f88b div.sk-text-repr-fallback {display: none;}</style><div id=\"sk-bceba7ae-8848-401a-bfb3-7ebe6c79f88b\" class=\"sk-top-container\"><div class=\"sk-text-repr-fallback\"><pre>ColumnTransformer(remainder=&#x27;passthrough&#x27;,\n",
       "                  transformers=[(&#x27;encoding&#x27;,\n",
       "                                 OneHotEncoder(handle_unknown=&#x27;ignore&#x27;,\n",
       "                                               sparse=False),\n",
       "                                 [&#x27;room_type&#x27;, &#x27;neighbourhood_cleansed&#x27;]),\n",
       "                                (&#x27;imputer&#x27;, KNNImputer(),\n",
       "                                 [&#x27;bedrooms&#x27;, &#x27;beds&#x27;])])</pre><b>Please rerun this cell to show the HTML repr or trust the notebook.</b></div><div class=\"sk-container\" hidden><div class=\"sk-item sk-dashed-wrapped\"><div class=\"sk-label-container\"><div class=\"sk-label sk-toggleable\"><input class=\"sk-toggleable__control sk-hidden--visually\" id=\"b2c9ea16-048d-4dc1-afc3-20e30c1b0fdc\" type=\"checkbox\" ><label for=\"b2c9ea16-048d-4dc1-afc3-20e30c1b0fdc\" class=\"sk-toggleable__label sk-toggleable__label-arrow\">ColumnTransformer</label><div class=\"sk-toggleable__content\"><pre>ColumnTransformer(remainder=&#x27;passthrough&#x27;,\n",
       "                  transformers=[(&#x27;encoding&#x27;,\n",
       "                                 OneHotEncoder(handle_unknown=&#x27;ignore&#x27;,\n",
       "                                               sparse=False),\n",
       "                                 [&#x27;room_type&#x27;, &#x27;neighbourhood_cleansed&#x27;]),\n",
       "                                (&#x27;imputer&#x27;, KNNImputer(),\n",
       "                                 [&#x27;bedrooms&#x27;, &#x27;beds&#x27;])])</pre></div></div></div><div class=\"sk-parallel\"><div class=\"sk-parallel-item\"><div class=\"sk-item\"><div class=\"sk-label-container\"><div class=\"sk-label sk-toggleable\"><input class=\"sk-toggleable__control sk-hidden--visually\" id=\"24afd298-44c6-4124-966e-68dd1a9e11a9\" type=\"checkbox\" ><label for=\"24afd298-44c6-4124-966e-68dd1a9e11a9\" class=\"sk-toggleable__label sk-toggleable__label-arrow\">encoding</label><div class=\"sk-toggleable__content\"><pre>[&#x27;room_type&#x27;, &#x27;neighbourhood_cleansed&#x27;]</pre></div></div></div><div class=\"sk-serial\"><div class=\"sk-item\"><div class=\"sk-estimator sk-toggleable\"><input class=\"sk-toggleable__control sk-hidden--visually\" id=\"058f4c2a-f1d7-44bd-8911-2b4c97ae6d15\" type=\"checkbox\" ><label for=\"058f4c2a-f1d7-44bd-8911-2b4c97ae6d15\" class=\"sk-toggleable__label sk-toggleable__label-arrow\">OneHotEncoder</label><div class=\"sk-toggleable__content\"><pre>OneHotEncoder(handle_unknown=&#x27;ignore&#x27;, sparse=False)</pre></div></div></div></div></div></div><div class=\"sk-parallel-item\"><div class=\"sk-item\"><div class=\"sk-label-container\"><div class=\"sk-label sk-toggleable\"><input class=\"sk-toggleable__control sk-hidden--visually\" id=\"7fdd20be-4ff7-42f1-8783-13f8f207ce46\" type=\"checkbox\" ><label for=\"7fdd20be-4ff7-42f1-8783-13f8f207ce46\" class=\"sk-toggleable__label sk-toggleable__label-arrow\">imputer</label><div class=\"sk-toggleable__content\"><pre>[&#x27;bedrooms&#x27;, &#x27;beds&#x27;]</pre></div></div></div><div class=\"sk-serial\"><div class=\"sk-item\"><div class=\"sk-estimator sk-toggleable\"><input class=\"sk-toggleable__control sk-hidden--visually\" id=\"a5c9dad5-05a3-4050-b162-115f6b973d21\" type=\"checkbox\" ><label for=\"a5c9dad5-05a3-4050-b162-115f6b973d21\" class=\"sk-toggleable__label sk-toggleable__label-arrow\">KNNImputer</label><div class=\"sk-toggleable__content\"><pre>KNNImputer()</pre></div></div></div></div></div></div><div class=\"sk-parallel-item\"><div class=\"sk-item\"><div class=\"sk-label-container\"><div class=\"sk-label sk-toggleable\"><input class=\"sk-toggleable__control sk-hidden--visually\" id=\"fe74c8c7-4381-4825-83fb-6aeefa361668\" type=\"checkbox\" ><label for=\"fe74c8c7-4381-4825-83fb-6aeefa361668\" class=\"sk-toggleable__label sk-toggleable__label-arrow\">remainder</label><div class=\"sk-toggleable__content\"><pre></pre></div></div></div><div class=\"sk-serial\"><div class=\"sk-item\"><div class=\"sk-estimator sk-toggleable\"><input class=\"sk-toggleable__control sk-hidden--visually\" id=\"50d1a9e1-0b09-4f1a-a491-8fefe9f3a9fc\" type=\"checkbox\" ><label for=\"50d1a9e1-0b09-4f1a-a491-8fefe9f3a9fc\" class=\"sk-toggleable__label sk-toggleable__label-arrow\">passthrough</label><div class=\"sk-toggleable__content\"><pre>passthrough</pre></div></div></div></div></div></div></div></div></div></div>"
      ],
      "text/plain": [
       "ColumnTransformer(remainder='passthrough',\n",
       "                  transformers=[('encoding',\n",
       "                                 OneHotEncoder(handle_unknown='ignore',\n",
       "                                               sparse=False),\n",
       "                                 ['room_type', 'neighbourhood_cleansed']),\n",
       "                                ('imputer', KNNImputer(),\n",
       "                                 ['bedrooms', 'beds'])])"
      ]
     },
     "execution_count": 9,
     "metadata": {},
     "output_type": "execute_result"
    }
   ],
   "source": [
    "preprocessor"
   ]
  },
  {
   "cell_type": "code",
   "execution_count": 10,
   "metadata": {
    "ExecuteTime": {
     "end_time": "2022-02-19T12:26:28.231293Z",
     "start_time": "2022-02-19T12:26:28.206316Z"
    }
   },
   "outputs": [
    {
     "data": {
      "text/html": [
       "<style>#sk-9abdeef1-3e05-45a6-96fe-7f2bb45bd94b {color: black;background-color: white;}#sk-9abdeef1-3e05-45a6-96fe-7f2bb45bd94b pre{padding: 0;}#sk-9abdeef1-3e05-45a6-96fe-7f2bb45bd94b div.sk-toggleable {background-color: white;}#sk-9abdeef1-3e05-45a6-96fe-7f2bb45bd94b label.sk-toggleable__label {cursor: pointer;display: block;width: 100%;margin-bottom: 0;padding: 0.3em;box-sizing: border-box;text-align: center;}#sk-9abdeef1-3e05-45a6-96fe-7f2bb45bd94b label.sk-toggleable__label-arrow:before {content: \"▸\";float: left;margin-right: 0.25em;color: #696969;}#sk-9abdeef1-3e05-45a6-96fe-7f2bb45bd94b label.sk-toggleable__label-arrow:hover:before {color: black;}#sk-9abdeef1-3e05-45a6-96fe-7f2bb45bd94b div.sk-estimator:hover label.sk-toggleable__label-arrow:before {color: black;}#sk-9abdeef1-3e05-45a6-96fe-7f2bb45bd94b div.sk-toggleable__content {max-height: 0;max-width: 0;overflow: hidden;text-align: left;background-color: #f0f8ff;}#sk-9abdeef1-3e05-45a6-96fe-7f2bb45bd94b div.sk-toggleable__content pre {margin: 0.2em;color: black;border-radius: 0.25em;background-color: #f0f8ff;}#sk-9abdeef1-3e05-45a6-96fe-7f2bb45bd94b input.sk-toggleable__control:checked~div.sk-toggleable__content {max-height: 200px;max-width: 100%;overflow: auto;}#sk-9abdeef1-3e05-45a6-96fe-7f2bb45bd94b input.sk-toggleable__control:checked~label.sk-toggleable__label-arrow:before {content: \"▾\";}#sk-9abdeef1-3e05-45a6-96fe-7f2bb45bd94b div.sk-estimator input.sk-toggleable__control:checked~label.sk-toggleable__label {background-color: #d4ebff;}#sk-9abdeef1-3e05-45a6-96fe-7f2bb45bd94b div.sk-label input.sk-toggleable__control:checked~label.sk-toggleable__label {background-color: #d4ebff;}#sk-9abdeef1-3e05-45a6-96fe-7f2bb45bd94b input.sk-hidden--visually {border: 0;clip: rect(1px 1px 1px 1px);clip: rect(1px, 1px, 1px, 1px);height: 1px;margin: -1px;overflow: hidden;padding: 0;position: absolute;width: 1px;}#sk-9abdeef1-3e05-45a6-96fe-7f2bb45bd94b div.sk-estimator {font-family: monospace;background-color: #f0f8ff;border: 1px dotted black;border-radius: 0.25em;box-sizing: border-box;margin-bottom: 0.5em;}#sk-9abdeef1-3e05-45a6-96fe-7f2bb45bd94b div.sk-estimator:hover {background-color: #d4ebff;}#sk-9abdeef1-3e05-45a6-96fe-7f2bb45bd94b div.sk-parallel-item::after {content: \"\";width: 100%;border-bottom: 1px solid gray;flex-grow: 1;}#sk-9abdeef1-3e05-45a6-96fe-7f2bb45bd94b div.sk-label:hover label.sk-toggleable__label {background-color: #d4ebff;}#sk-9abdeef1-3e05-45a6-96fe-7f2bb45bd94b div.sk-serial::before {content: \"\";position: absolute;border-left: 1px solid gray;box-sizing: border-box;top: 2em;bottom: 0;left: 50%;}#sk-9abdeef1-3e05-45a6-96fe-7f2bb45bd94b div.sk-serial {display: flex;flex-direction: column;align-items: center;background-color: white;padding-right: 0.2em;padding-left: 0.2em;}#sk-9abdeef1-3e05-45a6-96fe-7f2bb45bd94b div.sk-item {z-index: 1;}#sk-9abdeef1-3e05-45a6-96fe-7f2bb45bd94b div.sk-parallel {display: flex;align-items: stretch;justify-content: center;background-color: white;}#sk-9abdeef1-3e05-45a6-96fe-7f2bb45bd94b div.sk-parallel::before {content: \"\";position: absolute;border-left: 1px solid gray;box-sizing: border-box;top: 2em;bottom: 0;left: 50%;}#sk-9abdeef1-3e05-45a6-96fe-7f2bb45bd94b div.sk-parallel-item {display: flex;flex-direction: column;position: relative;background-color: white;}#sk-9abdeef1-3e05-45a6-96fe-7f2bb45bd94b div.sk-parallel-item:first-child::after {align-self: flex-end;width: 50%;}#sk-9abdeef1-3e05-45a6-96fe-7f2bb45bd94b div.sk-parallel-item:last-child::after {align-self: flex-start;width: 50%;}#sk-9abdeef1-3e05-45a6-96fe-7f2bb45bd94b div.sk-parallel-item:only-child::after {width: 0;}#sk-9abdeef1-3e05-45a6-96fe-7f2bb45bd94b div.sk-dashed-wrapped {border: 1px dashed gray;margin: 0 0.4em 0.5em 0.4em;box-sizing: border-box;padding-bottom: 0.4em;background-color: white;position: relative;}#sk-9abdeef1-3e05-45a6-96fe-7f2bb45bd94b div.sk-label label {font-family: monospace;font-weight: bold;background-color: white;display: inline-block;line-height: 1.2em;}#sk-9abdeef1-3e05-45a6-96fe-7f2bb45bd94b div.sk-label-container {position: relative;z-index: 2;text-align: center;}#sk-9abdeef1-3e05-45a6-96fe-7f2bb45bd94b div.sk-container {/* jupyter's `normalize.less` sets `[hidden] { display: none; }` but bootstrap.min.css set `[hidden] { display: none !important; }` so we also need the `!important` here to be able to override the default hidden behavior on the sphinx rendered scikit-learn.org. See: https://github.com/scikit-learn/scikit-learn/issues/21755 */display: inline-block !important;position: relative;}#sk-9abdeef1-3e05-45a6-96fe-7f2bb45bd94b div.sk-text-repr-fallback {display: none;}</style><div id=\"sk-9abdeef1-3e05-45a6-96fe-7f2bb45bd94b\" class=\"sk-top-container\"><div class=\"sk-text-repr-fallback\"><pre>Pipeline(steps=[(&#x27;preprocessor&#x27;,\n",
       "                 ColumnTransformer(remainder=&#x27;passthrough&#x27;,\n",
       "                                   transformers=[(&#x27;encoding&#x27;,\n",
       "                                                  OneHotEncoder(handle_unknown=&#x27;ignore&#x27;,\n",
       "                                                                sparse=False),\n",
       "                                                  [&#x27;room_type&#x27;,\n",
       "                                                   &#x27;neighbourhood_cleansed&#x27;]),\n",
       "                                                 (&#x27;imputer&#x27;, KNNImputer(),\n",
       "                                                  [&#x27;bedrooms&#x27;, &#x27;beds&#x27;])])),\n",
       "                (&#x27;scaler&#x27;, StandardScaler()), (&#x27;model&#x27;, LinearRegression())])</pre><b>Please rerun this cell to show the HTML repr or trust the notebook.</b></div><div class=\"sk-container\" hidden><div class=\"sk-item sk-dashed-wrapped\"><div class=\"sk-label-container\"><div class=\"sk-label sk-toggleable\"><input class=\"sk-toggleable__control sk-hidden--visually\" id=\"4d7b877e-cdbf-4d41-af67-d4e738d305d6\" type=\"checkbox\" ><label for=\"4d7b877e-cdbf-4d41-af67-d4e738d305d6\" class=\"sk-toggleable__label sk-toggleable__label-arrow\">Pipeline</label><div class=\"sk-toggleable__content\"><pre>Pipeline(steps=[(&#x27;preprocessor&#x27;,\n",
       "                 ColumnTransformer(remainder=&#x27;passthrough&#x27;,\n",
       "                                   transformers=[(&#x27;encoding&#x27;,\n",
       "                                                  OneHotEncoder(handle_unknown=&#x27;ignore&#x27;,\n",
       "                                                                sparse=False),\n",
       "                                                  [&#x27;room_type&#x27;,\n",
       "                                                   &#x27;neighbourhood_cleansed&#x27;]),\n",
       "                                                 (&#x27;imputer&#x27;, KNNImputer(),\n",
       "                                                  [&#x27;bedrooms&#x27;, &#x27;beds&#x27;])])),\n",
       "                (&#x27;scaler&#x27;, StandardScaler()), (&#x27;model&#x27;, LinearRegression())])</pre></div></div></div><div class=\"sk-serial\"><div class=\"sk-item sk-dashed-wrapped\"><div class=\"sk-label-container\"><div class=\"sk-label sk-toggleable\"><input class=\"sk-toggleable__control sk-hidden--visually\" id=\"690d738f-cd8a-45fc-9266-73336703f57f\" type=\"checkbox\" ><label for=\"690d738f-cd8a-45fc-9266-73336703f57f\" class=\"sk-toggleable__label sk-toggleable__label-arrow\">preprocessor: ColumnTransformer</label><div class=\"sk-toggleable__content\"><pre>ColumnTransformer(remainder=&#x27;passthrough&#x27;,\n",
       "                  transformers=[(&#x27;encoding&#x27;,\n",
       "                                 OneHotEncoder(handle_unknown=&#x27;ignore&#x27;,\n",
       "                                               sparse=False),\n",
       "                                 [&#x27;room_type&#x27;, &#x27;neighbourhood_cleansed&#x27;]),\n",
       "                                (&#x27;imputer&#x27;, KNNImputer(),\n",
       "                                 [&#x27;bedrooms&#x27;, &#x27;beds&#x27;])])</pre></div></div></div><div class=\"sk-parallel\"><div class=\"sk-parallel-item\"><div class=\"sk-item\"><div class=\"sk-label-container\"><div class=\"sk-label sk-toggleable\"><input class=\"sk-toggleable__control sk-hidden--visually\" id=\"6dd2d7a8-bd5d-4874-8ac8-8ebda594e968\" type=\"checkbox\" ><label for=\"6dd2d7a8-bd5d-4874-8ac8-8ebda594e968\" class=\"sk-toggleable__label sk-toggleable__label-arrow\">encoding</label><div class=\"sk-toggleable__content\"><pre>[&#x27;room_type&#x27;, &#x27;neighbourhood_cleansed&#x27;]</pre></div></div></div><div class=\"sk-serial\"><div class=\"sk-item\"><div class=\"sk-estimator sk-toggleable\"><input class=\"sk-toggleable__control sk-hidden--visually\" id=\"18c6f6c9-9b69-40cb-b955-3d5996d40f56\" type=\"checkbox\" ><label for=\"18c6f6c9-9b69-40cb-b955-3d5996d40f56\" class=\"sk-toggleable__label sk-toggleable__label-arrow\">OneHotEncoder</label><div class=\"sk-toggleable__content\"><pre>OneHotEncoder(handle_unknown=&#x27;ignore&#x27;, sparse=False)</pre></div></div></div></div></div></div><div class=\"sk-parallel-item\"><div class=\"sk-item\"><div class=\"sk-label-container\"><div class=\"sk-label sk-toggleable\"><input class=\"sk-toggleable__control sk-hidden--visually\" id=\"1dc6e39e-c5ea-4438-8fa4-4adda060c01f\" type=\"checkbox\" ><label for=\"1dc6e39e-c5ea-4438-8fa4-4adda060c01f\" class=\"sk-toggleable__label sk-toggleable__label-arrow\">imputer</label><div class=\"sk-toggleable__content\"><pre>[&#x27;bedrooms&#x27;, &#x27;beds&#x27;]</pre></div></div></div><div class=\"sk-serial\"><div class=\"sk-item\"><div class=\"sk-estimator sk-toggleable\"><input class=\"sk-toggleable__control sk-hidden--visually\" id=\"051fcb6b-11dc-4765-a9a5-e5e9887d90cf\" type=\"checkbox\" ><label for=\"051fcb6b-11dc-4765-a9a5-e5e9887d90cf\" class=\"sk-toggleable__label sk-toggleable__label-arrow\">KNNImputer</label><div class=\"sk-toggleable__content\"><pre>KNNImputer()</pre></div></div></div></div></div></div><div class=\"sk-parallel-item\"><div class=\"sk-item\"><div class=\"sk-label-container\"><div class=\"sk-label sk-toggleable\"><input class=\"sk-toggleable__control sk-hidden--visually\" id=\"aee32921-aa69-409c-ba89-54a5fe66838c\" type=\"checkbox\" ><label for=\"aee32921-aa69-409c-ba89-54a5fe66838c\" class=\"sk-toggleable__label sk-toggleable__label-arrow\">remainder</label><div class=\"sk-toggleable__content\"><pre></pre></div></div></div><div class=\"sk-serial\"><div class=\"sk-item\"><div class=\"sk-estimator sk-toggleable\"><input class=\"sk-toggleable__control sk-hidden--visually\" id=\"fd763403-a4f6-42b4-b62a-207e663a55b3\" type=\"checkbox\" ><label for=\"fd763403-a4f6-42b4-b62a-207e663a55b3\" class=\"sk-toggleable__label sk-toggleable__label-arrow\">passthrough</label><div class=\"sk-toggleable__content\"><pre>passthrough</pre></div></div></div></div></div></div></div></div><div class=\"sk-item\"><div class=\"sk-estimator sk-toggleable\"><input class=\"sk-toggleable__control sk-hidden--visually\" id=\"0bd60b8b-3b06-4cc3-9538-dbb557c607a9\" type=\"checkbox\" ><label for=\"0bd60b8b-3b06-4cc3-9538-dbb557c607a9\" class=\"sk-toggleable__label sk-toggleable__label-arrow\">StandardScaler</label><div class=\"sk-toggleable__content\"><pre>StandardScaler()</pre></div></div></div><div class=\"sk-item\"><div class=\"sk-estimator sk-toggleable\"><input class=\"sk-toggleable__control sk-hidden--visually\" id=\"fe1f4a83-355d-4a44-a5ce-cdccf2d64a4b\" type=\"checkbox\" ><label for=\"fe1f4a83-355d-4a44-a5ce-cdccf2d64a4b\" class=\"sk-toggleable__label sk-toggleable__label-arrow\">LinearRegression</label><div class=\"sk-toggleable__content\"><pre>LinearRegression()</pre></div></div></div></div></div></div></div>"
      ],
      "text/plain": [
       "Pipeline(steps=[('preprocessor',\n",
       "                 ColumnTransformer(remainder='passthrough',\n",
       "                                   transformers=[('encoding',\n",
       "                                                  OneHotEncoder(handle_unknown='ignore',\n",
       "                                                                sparse=False),\n",
       "                                                  ['room_type',\n",
       "                                                   'neighbourhood_cleansed']),\n",
       "                                                 ('imputer', KNNImputer(),\n",
       "                                                  ['bedrooms', 'beds'])])),\n",
       "                ('scaler', StandardScaler()), ('model', LinearRegression())])"
      ]
     },
     "execution_count": 10,
     "metadata": {},
     "output_type": "execute_result"
    }
   ],
   "source": [
    "pipe = Pipeline([\n",
    "    ('preprocessor', preprocessor),\n",
    "    ('scaler', StandardScaler()),\n",
    "    ('model',LinearRegression())\n",
    "])\n",
    "\n",
    "pipe"
   ]
  },
  {
   "cell_type": "code",
   "execution_count": 11,
   "metadata": {
    "ExecuteTime": {
     "end_time": "2022-02-19T12:27:11.010840Z",
     "start_time": "2022-02-19T12:26:28.233109Z"
    }
   },
   "outputs": [
    {
     "data": {
      "text/plain": [
       "0.07874037369689924"
      ]
     },
     "execution_count": 11,
     "metadata": {},
     "output_type": "execute_result"
    }
   ],
   "source": [
    "pipe.fit(X_train,y_train)\n",
    "pipe.score(X_train,y_train)"
   ]
  },
  {
   "cell_type": "code",
   "execution_count": 12,
   "metadata": {
    "ExecuteTime": {
     "end_time": "2022-02-19T12:27:33.861779Z",
     "start_time": "2022-02-19T12:27:11.019339Z"
    }
   },
   "outputs": [
    {
     "data": {
      "text/plain": [
       "315.107607763427"
      ]
     },
     "execution_count": 12,
     "metadata": {},
     "output_type": "execute_result"
    }
   ],
   "source": [
    "y_pred = pipe.predict(X_train)\n",
    "mean_squared_error(y_train, y_pred,squared=False)"
   ]
  },
  {
   "cell_type": "code",
   "execution_count": 13,
   "metadata": {
    "ExecuteTime": {
     "end_time": "2022-02-19T12:27:44.007318Z",
     "start_time": "2022-02-19T12:27:33.865045Z"
    }
   },
   "outputs": [
    {
     "data": {
      "text/plain": [
       "0.056744042530647354"
      ]
     },
     "execution_count": 13,
     "metadata": {},
     "output_type": "execute_result"
    }
   ],
   "source": [
    "pipe.score(X_test,y_test)"
   ]
  },
  {
   "cell_type": "code",
   "execution_count": 14,
   "metadata": {
    "ExecuteTime": {
     "end_time": "2022-02-19T12:27:53.268271Z",
     "start_time": "2022-02-19T12:27:44.010290Z"
    }
   },
   "outputs": [
    {
     "data": {
      "text/plain": [
       "384.7592592874731"
      ]
     },
     "execution_count": 14,
     "metadata": {},
     "output_type": "execute_result"
    }
   ],
   "source": [
    "y_pred = pipe.predict(X_test)\n",
    "mean_squared_error(y_test, y_pred,squared=False)"
   ]
  },
  {
   "cell_type": "code",
   "execution_count": 15,
   "metadata": {
    "ExecuteTime": {
     "end_time": "2022-02-19T12:27:53.284748Z",
     "start_time": "2022-02-19T12:27:53.271577Z"
    }
   },
   "outputs": [],
   "source": [
    "import pickle\n",
    "\n",
    "# Export pipeline as pickle file\n",
    "with open(\"pipeline.pkl\", \"wb\") as file:\n",
    "    pickle.dump(pipe, file )"
   ]
  },
  {
   "cell_type": "markdown",
   "metadata": {},
   "source": [
    "## Model exploration "
   ]
  },
  {
   "cell_type": "markdown",
   "metadata": {},
   "source": [
    "### Correlations"
   ]
  },
  {
   "cell_type": "code",
   "execution_count": 16,
   "metadata": {
    "ExecuteTime": {
     "end_time": "2022-02-19T12:27:53.940619Z",
     "start_time": "2022-02-19T12:27:53.287102Z"
    }
   },
   "outputs": [
    {
     "data": {
      "image/png": "[encoded data removed]",
      "text/plain": [
       "<Figure size 1080x720 with 1 Axes>"
      ]
     },
     "metadata": {
      "needs_background": "light"
     },
     "output_type": "display_data"
    }
   ],
   "source": [
    "or_corr = pd.DataFrame(df.corrwith(df['price']).sort_values(ascending=False)).reset_index()\n",
    "or_corr.columns = ['feature', 'correlation'] # rename columns\n",
    "or_corr.drop(or_corr[or_corr['feature']=='price'].index,inplace=True)\n",
    "\n",
    "plt.figure(figsize=(15,10))\n",
    "sns.barplot(data=or_corr,x='correlation',y='feature')\n",
    "plt.title('Feature Correlations with Occupancy Rate', size=12)\n",
    "plt.yticks(size=12)\n",
    "plt.grid(color='lightblue')\n",
    "plt.tight_layout()\n",
    "plt.show()"
   ]
  },
  {
   "cell_type": "code",
   "execution_count": 17,
   "metadata": {
    "ExecuteTime": {
     "end_time": "2022-02-19T12:27:54.340818Z",
     "start_time": "2022-02-19T12:27:53.943493Z"
    }
   },
   "outputs": [],
   "source": [
    "import statsmodels.formula.api as smf"
   ]
  },
  {
   "cell_type": "code",
   "execution_count": 26,
   "metadata": {
    "ExecuteTime": {
     "end_time": "2022-02-19T12:30:36.332855Z",
     "start_time": "2022-02-19T12:30:36.328959Z"
    }
   },
   "outputs": [],
   "source": [
    "def formula_from_cols(df, y):\n",
    "    return y + ' ~ ' + ' + '.join([col for col in df.columns if not col==y])"
   ]
  },
  {
   "cell_type": "code",
   "execution_count": 93,
   "metadata": {
    "ExecuteTime": {
     "end_time": "2022-02-19T12:47:02.953821Z",
     "start_time": "2022-02-19T12:47:02.934171Z"
    }
   },
   "outputs": [
    {
     "data": {
      "text/html": [
       "<div>\n",
       "<style scoped>\n",
       "    .dataframe tbody tr th:only-of-type {\n",
       "        vertical-align: middle;\n",
       "    }\n",
       "\n",
       "    .dataframe tbody tr th {\n",
       "        vertical-align: top;\n",
       "    }\n",
       "\n",
       "    .dataframe thead th {\n",
       "        text-align: right;\n",
       "    }\n",
       "</style>\n",
       "<table border=\"1\" class=\"dataframe\">\n",
       "  <thead>\n",
       "    <tr style=\"text-align: right;\">\n",
       "      <th></th>\n",
       "      <th>latitude</th>\n",
       "      <th>longitude</th>\n",
       "      <th>room_type</th>\n",
       "      <th>accommodates</th>\n",
       "      <th>bedrooms</th>\n",
       "      <th>beds</th>\n",
       "      <th>minimum_nights</th>\n",
       "      <th>neighbourhood_cleansed</th>\n",
       "      <th>price</th>\n",
       "    </tr>\n",
       "  </thead>\n",
       "  <tbody>\n",
       "    <tr>\n",
       "      <th>0</th>\n",
       "      <td>51.56861</td>\n",
       "      <td>-0.11270</td>\n",
       "      <td>Private room</td>\n",
       "      <td>2</td>\n",
       "      <td>1.0</td>\n",
       "      <td>NaN</td>\n",
       "      <td>1</td>\n",
       "      <td>Islington</td>\n",
       "      <td>65.0</td>\n",
       "    </tr>\n",
       "    <tr>\n",
       "      <th>1</th>\n",
       "      <td>51.48780</td>\n",
       "      <td>-0.16813</td>\n",
       "      <td>Entire home/apt</td>\n",
       "      <td>2</td>\n",
       "      <td>1.0</td>\n",
       "      <td>1.0</td>\n",
       "      <td>3</td>\n",
       "      <td>Kensington and Chelsea</td>\n",
       "      <td>75.0</td>\n",
       "    </tr>\n",
       "    <tr>\n",
       "      <th>2</th>\n",
       "      <td>51.52195</td>\n",
       "      <td>-0.14094</td>\n",
       "      <td>Entire home/apt</td>\n",
       "      <td>6</td>\n",
       "      <td>3.0</td>\n",
       "      <td>3.0</td>\n",
       "      <td>4</td>\n",
       "      <td>Westminster</td>\n",
       "      <td>265.0</td>\n",
       "    </tr>\n",
       "    <tr>\n",
       "      <th>3</th>\n",
       "      <td>51.47935</td>\n",
       "      <td>-0.19743</td>\n",
       "      <td>Private room</td>\n",
       "      <td>2</td>\n",
       "      <td>1.0</td>\n",
       "      <td>1.0</td>\n",
       "      <td>3</td>\n",
       "      <td>Hammersmith and Fulham</td>\n",
       "      <td>150.0</td>\n",
       "    </tr>\n",
       "    <tr>\n",
       "      <th>4</th>\n",
       "      <td>51.57438</td>\n",
       "      <td>-0.21081</td>\n",
       "      <td>Private room</td>\n",
       "      <td>2</td>\n",
       "      <td>1.0</td>\n",
       "      <td>NaN</td>\n",
       "      <td>10</td>\n",
       "      <td>Barnet</td>\n",
       "      <td>29.0</td>\n",
       "    </tr>\n",
       "  </tbody>\n",
       "</table>\n",
       "</div>"
      ],
      "text/plain": [
       "   latitude  longitude        room_type  accommodates  bedrooms  beds  \\\n",
       "0  51.56861   -0.11270     Private room             2       1.0   NaN   \n",
       "1  51.48780   -0.16813  Entire home/apt             2       1.0   1.0   \n",
       "2  51.52195   -0.14094  Entire home/apt             6       3.0   3.0   \n",
       "3  51.47935   -0.19743     Private room             2       1.0   1.0   \n",
       "4  51.57438   -0.21081     Private room             2       1.0   NaN   \n",
       "\n",
       "   minimum_nights  neighbourhood_cleansed  price  \n",
       "0               1               Islington   65.0  \n",
       "1               3  Kensington and Chelsea   75.0  \n",
       "2               4             Westminster  265.0  \n",
       "3               3  Hammersmith and Fulham  150.0  \n",
       "4              10                  Barnet   29.0  "
      ]
     },
     "execution_count": 93,
     "metadata": {},
     "output_type": "execute_result"
    }
   ],
   "source": [
    "reg_columns = [\n",
    "    'latitude',\n",
    "    'longitude',\n",
    "    'room_type',\n",
    "    'accommodates',\n",
    "    'bedrooms',\n",
    "    'beds',\n",
    "    'minimum_nights',\n",
    "    'neighbourhood_cleansed',\n",
    "    'price'\n",
    "    \n",
    "]\n",
    "df_reg = df[reg_columns].copy()\n",
    "df_reg.head(5)"
   ]
  },
  {
   "cell_type": "code",
   "execution_count": 94,
   "metadata": {
    "ExecuteTime": {
     "end_time": "2022-02-19T12:47:34.073320Z",
     "start_time": "2022-02-19T12:47:03.361537Z"
    }
   },
   "outputs": [],
   "source": [
    "# Imputing Bedrooms and Beds\n",
    "imputer_bedroom = KNNImputer(missing_values=np.nan)\n",
    "imputer_bed = KNNImputer(missing_values=np.nan)\n",
    "\n",
    "df_reg['bedrooms'] = imputer_bedroom.fit_transform(df[['bedrooms']])\n",
    "df_reg['beds'] = imputer_bed.fit_transform(df[['beds']])"
   ]
  },
  {
   "cell_type": "code",
   "execution_count": 95,
   "metadata": {
    "ExecuteTime": {
     "end_time": "2022-02-19T12:47:34.107569Z",
     "start_time": "2022-02-19T12:47:34.076498Z"
    },
    "scrolled": true
   },
   "outputs": [
    {
     "data": {
      "text/plain": [
       "latitude                  0.0\n",
       "longitude                 0.0\n",
       "room_type                 0.0\n",
       "accommodates              0.0\n",
       "bedrooms                  0.0\n",
       "beds                      0.0\n",
       "minimum_nights            0.0\n",
       "neighbourhood_cleansed    0.0\n",
       "price                     0.0\n",
       "dtype: float64"
      ]
     },
     "execution_count": 95,
     "metadata": {},
     "output_type": "execute_result"
    }
   ],
   "source": [
    "df_reg.isnull().sum()/len(df_reg)*100"
   ]
  },
  {
   "cell_type": "code",
   "execution_count": 96,
   "metadata": {
    "ExecuteTime": {
     "end_time": "2022-02-19T12:47:34.122263Z",
     "start_time": "2022-02-19T12:47:34.110547Z"
    }
   },
   "outputs": [
    {
     "data": {
      "text/plain": [
       "array(['Private room', 'Entire home/apt', 'Hotel room', 'Shared room'],\n",
       "      dtype=object)"
      ]
     },
     "execution_count": 96,
     "metadata": {},
     "output_type": "execute_result"
    }
   ],
   "source": [
    "df_reg.room_type.unique()"
   ]
  },
  {
   "cell_type": "code",
   "execution_count": 97,
   "metadata": {
    "ExecuteTime": {
     "end_time": "2022-02-19T12:47:34.194034Z",
     "start_time": "2022-02-19T12:47:34.129068Z"
    }
   },
   "outputs": [],
   "source": [
    "encoder_room_type = OneHotEncoder(sparse=False)\n",
    "room_type_encoded = pd.DataFrame(encoder_room_type.fit_transform(df_reg[['room_type']]))\n",
    "room_type_encoded.columns=[x.replace(' ','_').replace('/','_') for x in encoder_room_type.categories_[0].tolist()]"
   ]
  },
  {
   "cell_type": "code",
   "execution_count": 98,
   "metadata": {
    "ExecuteTime": {
     "end_time": "2022-02-19T12:47:34.250307Z",
     "start_time": "2022-02-19T12:47:34.200393Z"
    }
   },
   "outputs": [
    {
     "data": {
      "text/html": [
       "<div>\n",
       "<style scoped>\n",
       "    .dataframe tbody tr th:only-of-type {\n",
       "        vertical-align: middle;\n",
       "    }\n",
       "\n",
       "    .dataframe tbody tr th {\n",
       "        vertical-align: top;\n",
       "    }\n",
       "\n",
       "    .dataframe thead th {\n",
       "        text-align: right;\n",
       "    }\n",
       "</style>\n",
       "<table border=\"1\" class=\"dataframe\">\n",
       "  <thead>\n",
       "    <tr style=\"text-align: right;\">\n",
       "      <th></th>\n",
       "      <th>latitude</th>\n",
       "      <th>longitude</th>\n",
       "      <th>accommodates</th>\n",
       "      <th>bedrooms</th>\n",
       "      <th>beds</th>\n",
       "      <th>minimum_nights</th>\n",
       "      <th>price</th>\n",
       "      <th>Entire_home_apt</th>\n",
       "      <th>Hotel_room</th>\n",
       "      <th>Private_room</th>\n",
       "      <th>Shared_room</th>\n",
       "    </tr>\n",
       "  </thead>\n",
       "  <tbody>\n",
       "    <tr>\n",
       "      <th>0</th>\n",
       "      <td>51.56861</td>\n",
       "      <td>-0.11270</td>\n",
       "      <td>2</td>\n",
       "      <td>1.0</td>\n",
       "      <td>1.758031</td>\n",
       "      <td>1</td>\n",
       "      <td>65.0</td>\n",
       "      <td>0.0</td>\n",
       "      <td>0.0</td>\n",
       "      <td>1.0</td>\n",
       "      <td>0.0</td>\n",
       "    </tr>\n",
       "    <tr>\n",
       "      <th>1</th>\n",
       "      <td>51.48780</td>\n",
       "      <td>-0.16813</td>\n",
       "      <td>2</td>\n",
       "      <td>1.0</td>\n",
       "      <td>1.000000</td>\n",
       "      <td>3</td>\n",
       "      <td>75.0</td>\n",
       "      <td>1.0</td>\n",
       "      <td>0.0</td>\n",
       "      <td>0.0</td>\n",
       "      <td>0.0</td>\n",
       "    </tr>\n",
       "    <tr>\n",
       "      <th>2</th>\n",
       "      <td>51.52195</td>\n",
       "      <td>-0.14094</td>\n",
       "      <td>6</td>\n",
       "      <td>3.0</td>\n",
       "      <td>3.000000</td>\n",
       "      <td>4</td>\n",
       "      <td>265.0</td>\n",
       "      <td>1.0</td>\n",
       "      <td>0.0</td>\n",
       "      <td>0.0</td>\n",
       "      <td>0.0</td>\n",
       "    </tr>\n",
       "    <tr>\n",
       "      <th>3</th>\n",
       "      <td>51.47935</td>\n",
       "      <td>-0.19743</td>\n",
       "      <td>2</td>\n",
       "      <td>1.0</td>\n",
       "      <td>1.000000</td>\n",
       "      <td>3</td>\n",
       "      <td>150.0</td>\n",
       "      <td>0.0</td>\n",
       "      <td>0.0</td>\n",
       "      <td>1.0</td>\n",
       "      <td>0.0</td>\n",
       "    </tr>\n",
       "    <tr>\n",
       "      <th>4</th>\n",
       "      <td>51.57438</td>\n",
       "      <td>-0.21081</td>\n",
       "      <td>2</td>\n",
       "      <td>1.0</td>\n",
       "      <td>1.758031</td>\n",
       "      <td>10</td>\n",
       "      <td>29.0</td>\n",
       "      <td>0.0</td>\n",
       "      <td>0.0</td>\n",
       "      <td>1.0</td>\n",
       "      <td>0.0</td>\n",
       "    </tr>\n",
       "  </tbody>\n",
       "</table>\n",
       "</div>"
      ],
      "text/plain": [
       "   latitude  longitude  accommodates  bedrooms      beds  minimum_nights  \\\n",
       "0  51.56861   -0.11270             2       1.0  1.758031               1   \n",
       "1  51.48780   -0.16813             2       1.0  1.000000               3   \n",
       "2  51.52195   -0.14094             6       3.0  3.000000               4   \n",
       "3  51.47935   -0.19743             2       1.0  1.000000               3   \n",
       "4  51.57438   -0.21081             2       1.0  1.758031              10   \n",
       "\n",
       "   price  Entire_home_apt  Hotel_room  Private_room  Shared_room  \n",
       "0   65.0              0.0         0.0           1.0          0.0  \n",
       "1   75.0              1.0         0.0           0.0          0.0  \n",
       "2  265.0              1.0         0.0           0.0          0.0  \n",
       "3  150.0              0.0         0.0           1.0          0.0  \n",
       "4   29.0              0.0         0.0           1.0          0.0  "
      ]
     },
     "execution_count": 98,
     "metadata": {},
     "output_type": "execute_result"
    }
   ],
   "source": [
    "df_reg = pd.concat([df_reg, room_type_encoded], axis=1)\n",
    "df_reg.drop(columns=['room_type','neighbourhood_cleansed'], inplace=True)\n",
    "df_reg.head(5)"
   ]
  },
  {
   "cell_type": "code",
   "execution_count": null,
   "metadata": {},
   "outputs": [],
   "source": []
  },
  {
   "cell_type": "code",
   "execution_count": 57,
   "metadata": {
    "ExecuteTime": {
     "end_time": "2022-02-19T12:39:16.110056Z",
     "start_time": "2022-02-19T12:39:16.012617Z"
    }
   },
   "outputs": [],
   "source": [
    "encoder_neighbourhood = OneHotEncoder(sparse=False)\n",
    "neighbourhood_encoded = pd.DataFrame(encoder_neighbourhood.fit_transform(df_reg[['neighbourhood_cleansed']]))\n",
    "neighbourhood_encoded.columns=[x.replace(' ','_') for x in encoder_neighbourhood.categories_[0].tolist()]"
   ]
  },
  {
   "cell_type": "code",
   "execution_count": 80,
   "metadata": {
    "ExecuteTime": {
     "end_time": "2022-02-19T12:45:09.924399Z",
     "start_time": "2022-02-19T12:45:09.798749Z"
    }
   },
   "outputs": [
    {
     "data": {
      "text/html": [
       "<div>\n",
       "<style scoped>\n",
       "    .dataframe tbody tr th:only-of-type {\n",
       "        vertical-align: middle;\n",
       "    }\n",
       "\n",
       "    .dataframe tbody tr th {\n",
       "        vertical-align: top;\n",
       "    }\n",
       "\n",
       "    .dataframe thead th {\n",
       "        text-align: right;\n",
       "    }\n",
       "</style>\n",
       "<table border=\"1\" class=\"dataframe\">\n",
       "  <thead>\n",
       "    <tr style=\"text-align: right;\">\n",
       "      <th></th>\n",
       "      <th>latitude</th>\n",
       "      <th>longitude</th>\n",
       "      <th>accommodates</th>\n",
       "      <th>bedrooms</th>\n",
       "      <th>beds</th>\n",
       "      <th>minimum_nights</th>\n",
       "      <th>price</th>\n",
       "      <th>Barking_and_Dagenham</th>\n",
       "      <th>Barnet</th>\n",
       "      <th>Bexley</th>\n",
       "      <th>Brent</th>\n",
       "      <th>Bromley</th>\n",
       "      <th>Camden</th>\n",
       "      <th>City_of_London</th>\n",
       "      <th>Croydon</th>\n",
       "      <th>Ealing</th>\n",
       "      <th>Enfield</th>\n",
       "      <th>Greenwich</th>\n",
       "      <th>Hackney</th>\n",
       "      <th>Hammersmith_and_Fulham</th>\n",
       "      <th>Haringey</th>\n",
       "      <th>Harrow</th>\n",
       "      <th>Havering</th>\n",
       "      <th>Hillingdon</th>\n",
       "      <th>Hounslow</th>\n",
       "      <th>Islington</th>\n",
       "      <th>Kensington_and_Chelsea</th>\n",
       "      <th>Kingston_upon_Thames</th>\n",
       "      <th>Lambeth</th>\n",
       "      <th>Lewisham</th>\n",
       "      <th>Merton</th>\n",
       "      <th>Newham</th>\n",
       "      <th>Redbridge</th>\n",
       "      <th>Richmond_upon_Thames</th>\n",
       "      <th>Southwark</th>\n",
       "      <th>Sutton</th>\n",
       "      <th>Tower_Hamlets</th>\n",
       "      <th>Waltham_Forest</th>\n",
       "      <th>Wandsworth</th>\n",
       "      <th>Westminster</th>\n",
       "    </tr>\n",
       "  </thead>\n",
       "  <tbody>\n",
       "    <tr>\n",
       "      <th>0</th>\n",
       "      <td>51.56861</td>\n",
       "      <td>-0.11270</td>\n",
       "      <td>2</td>\n",
       "      <td>1.0</td>\n",
       "      <td>1.758031</td>\n",
       "      <td>1</td>\n",
       "      <td>65.0</td>\n",
       "      <td>0.0</td>\n",
       "      <td>0.0</td>\n",
       "      <td>0.0</td>\n",
       "      <td>0.0</td>\n",
       "      <td>0.0</td>\n",
       "      <td>0.0</td>\n",
       "      <td>0.0</td>\n",
       "      <td>0.0</td>\n",
       "      <td>0.0</td>\n",
       "      <td>0.0</td>\n",
       "      <td>0.0</td>\n",
       "      <td>0.0</td>\n",
       "      <td>0.0</td>\n",
       "      <td>0.0</td>\n",
       "      <td>0.0</td>\n",
       "      <td>0.0</td>\n",
       "      <td>0.0</td>\n",
       "      <td>0.0</td>\n",
       "      <td>1.0</td>\n",
       "      <td>0.0</td>\n",
       "      <td>0.0</td>\n",
       "      <td>0.0</td>\n",
       "      <td>0.0</td>\n",
       "      <td>0.0</td>\n",
       "      <td>0.0</td>\n",
       "      <td>0.0</td>\n",
       "      <td>0.0</td>\n",
       "      <td>0.0</td>\n",
       "      <td>0.0</td>\n",
       "      <td>0.0</td>\n",
       "      <td>0.0</td>\n",
       "      <td>0.0</td>\n",
       "      <td>0.0</td>\n",
       "    </tr>\n",
       "    <tr>\n",
       "      <th>1</th>\n",
       "      <td>51.48780</td>\n",
       "      <td>-0.16813</td>\n",
       "      <td>2</td>\n",
       "      <td>1.0</td>\n",
       "      <td>1.000000</td>\n",
       "      <td>3</td>\n",
       "      <td>75.0</td>\n",
       "      <td>0.0</td>\n",
       "      <td>0.0</td>\n",
       "      <td>0.0</td>\n",
       "      <td>0.0</td>\n",
       "      <td>0.0</td>\n",
       "      <td>0.0</td>\n",
       "      <td>0.0</td>\n",
       "      <td>0.0</td>\n",
       "      <td>0.0</td>\n",
       "      <td>0.0</td>\n",
       "      <td>0.0</td>\n",
       "      <td>0.0</td>\n",
       "      <td>0.0</td>\n",
       "      <td>0.0</td>\n",
       "      <td>0.0</td>\n",
       "      <td>0.0</td>\n",
       "      <td>0.0</td>\n",
       "      <td>0.0</td>\n",
       "      <td>0.0</td>\n",
       "      <td>1.0</td>\n",
       "      <td>0.0</td>\n",
       "      <td>0.0</td>\n",
       "      <td>0.0</td>\n",
       "      <td>0.0</td>\n",
       "      <td>0.0</td>\n",
       "      <td>0.0</td>\n",
       "      <td>0.0</td>\n",
       "      <td>0.0</td>\n",
       "      <td>0.0</td>\n",
       "      <td>0.0</td>\n",
       "      <td>0.0</td>\n",
       "      <td>0.0</td>\n",
       "      <td>0.0</td>\n",
       "    </tr>\n",
       "    <tr>\n",
       "      <th>2</th>\n",
       "      <td>51.52195</td>\n",
       "      <td>-0.14094</td>\n",
       "      <td>6</td>\n",
       "      <td>3.0</td>\n",
       "      <td>3.000000</td>\n",
       "      <td>4</td>\n",
       "      <td>265.0</td>\n",
       "      <td>0.0</td>\n",
       "      <td>0.0</td>\n",
       "      <td>0.0</td>\n",
       "      <td>0.0</td>\n",
       "      <td>0.0</td>\n",
       "      <td>0.0</td>\n",
       "      <td>0.0</td>\n",
       "      <td>0.0</td>\n",
       "      <td>0.0</td>\n",
       "      <td>0.0</td>\n",
       "      <td>0.0</td>\n",
       "      <td>0.0</td>\n",
       "      <td>0.0</td>\n",
       "      <td>0.0</td>\n",
       "      <td>0.0</td>\n",
       "      <td>0.0</td>\n",
       "      <td>0.0</td>\n",
       "      <td>0.0</td>\n",
       "      <td>0.0</td>\n",
       "      <td>0.0</td>\n",
       "      <td>0.0</td>\n",
       "      <td>0.0</td>\n",
       "      <td>0.0</td>\n",
       "      <td>0.0</td>\n",
       "      <td>0.0</td>\n",
       "      <td>0.0</td>\n",
       "      <td>0.0</td>\n",
       "      <td>0.0</td>\n",
       "      <td>0.0</td>\n",
       "      <td>0.0</td>\n",
       "      <td>0.0</td>\n",
       "      <td>0.0</td>\n",
       "      <td>1.0</td>\n",
       "    </tr>\n",
       "    <tr>\n",
       "      <th>3</th>\n",
       "      <td>51.47935</td>\n",
       "      <td>-0.19743</td>\n",
       "      <td>2</td>\n",
       "      <td>1.0</td>\n",
       "      <td>1.000000</td>\n",
       "      <td>3</td>\n",
       "      <td>150.0</td>\n",
       "      <td>0.0</td>\n",
       "      <td>0.0</td>\n",
       "      <td>0.0</td>\n",
       "      <td>0.0</td>\n",
       "      <td>0.0</td>\n",
       "      <td>0.0</td>\n",
       "      <td>0.0</td>\n",
       "      <td>0.0</td>\n",
       "      <td>0.0</td>\n",
       "      <td>0.0</td>\n",
       "      <td>0.0</td>\n",
       "      <td>0.0</td>\n",
       "      <td>1.0</td>\n",
       "      <td>0.0</td>\n",
       "      <td>0.0</td>\n",
       "      <td>0.0</td>\n",
       "      <td>0.0</td>\n",
       "      <td>0.0</td>\n",
       "      <td>0.0</td>\n",
       "      <td>0.0</td>\n",
       "      <td>0.0</td>\n",
       "      <td>0.0</td>\n",
       "      <td>0.0</td>\n",
       "      <td>0.0</td>\n",
       "      <td>0.0</td>\n",
       "      <td>0.0</td>\n",
       "      <td>0.0</td>\n",
       "      <td>0.0</td>\n",
       "      <td>0.0</td>\n",
       "      <td>0.0</td>\n",
       "      <td>0.0</td>\n",
       "      <td>0.0</td>\n",
       "      <td>0.0</td>\n",
       "    </tr>\n",
       "    <tr>\n",
       "      <th>4</th>\n",
       "      <td>51.57438</td>\n",
       "      <td>-0.21081</td>\n",
       "      <td>2</td>\n",
       "      <td>1.0</td>\n",
       "      <td>1.758031</td>\n",
       "      <td>10</td>\n",
       "      <td>29.0</td>\n",
       "      <td>0.0</td>\n",
       "      <td>1.0</td>\n",
       "      <td>0.0</td>\n",
       "      <td>0.0</td>\n",
       "      <td>0.0</td>\n",
       "      <td>0.0</td>\n",
       "      <td>0.0</td>\n",
       "      <td>0.0</td>\n",
       "      <td>0.0</td>\n",
       "      <td>0.0</td>\n",
       "      <td>0.0</td>\n",
       "      <td>0.0</td>\n",
       "      <td>0.0</td>\n",
       "      <td>0.0</td>\n",
       "      <td>0.0</td>\n",
       "      <td>0.0</td>\n",
       "      <td>0.0</td>\n",
       "      <td>0.0</td>\n",
       "      <td>0.0</td>\n",
       "      <td>0.0</td>\n",
       "      <td>0.0</td>\n",
       "      <td>0.0</td>\n",
       "      <td>0.0</td>\n",
       "      <td>0.0</td>\n",
       "      <td>0.0</td>\n",
       "      <td>0.0</td>\n",
       "      <td>0.0</td>\n",
       "      <td>0.0</td>\n",
       "      <td>0.0</td>\n",
       "      <td>0.0</td>\n",
       "      <td>0.0</td>\n",
       "      <td>0.0</td>\n",
       "      <td>0.0</td>\n",
       "    </tr>\n",
       "  </tbody>\n",
       "</table>\n",
       "</div>"
      ],
      "text/plain": [
       "   latitude  longitude  accommodates  bedrooms      beds  minimum_nights  \\\n",
       "0  51.56861   -0.11270             2       1.0  1.758031               1   \n",
       "1  51.48780   -0.16813             2       1.0  1.000000               3   \n",
       "2  51.52195   -0.14094             6       3.0  3.000000               4   \n",
       "3  51.47935   -0.19743             2       1.0  1.000000               3   \n",
       "4  51.57438   -0.21081             2       1.0  1.758031              10   \n",
       "\n",
       "   price  Barking_and_Dagenham  Barnet  Bexley  Brent  Bromley  Camden  \\\n",
       "0   65.0                   0.0     0.0     0.0    0.0      0.0     0.0   \n",
       "1   75.0                   0.0     0.0     0.0    0.0      0.0     0.0   \n",
       "2  265.0                   0.0     0.0     0.0    0.0      0.0     0.0   \n",
       "3  150.0                   0.0     0.0     0.0    0.0      0.0     0.0   \n",
       "4   29.0                   0.0     1.0     0.0    0.0      0.0     0.0   \n",
       "\n",
       "   City_of_London  Croydon  Ealing  Enfield  Greenwich  Hackney  \\\n",
       "0             0.0      0.0     0.0      0.0        0.0      0.0   \n",
       "1             0.0      0.0     0.0      0.0        0.0      0.0   \n",
       "2             0.0      0.0     0.0      0.0        0.0      0.0   \n",
       "3             0.0      0.0     0.0      0.0        0.0      0.0   \n",
       "4             0.0      0.0     0.0      0.0        0.0      0.0   \n",
       "\n",
       "   Hammersmith_and_Fulham  Haringey  Harrow  Havering  Hillingdon  Hounslow  \\\n",
       "0                     0.0       0.0     0.0       0.0         0.0       0.0   \n",
       "1                     0.0       0.0     0.0       0.0         0.0       0.0   \n",
       "2                     0.0       0.0     0.0       0.0         0.0       0.0   \n",
       "3                     1.0       0.0     0.0       0.0         0.0       0.0   \n",
       "4                     0.0       0.0     0.0       0.0         0.0       0.0   \n",
       "\n",
       "   Islington  Kensington_and_Chelsea  Kingston_upon_Thames  Lambeth  Lewisham  \\\n",
       "0        1.0                     0.0                   0.0      0.0       0.0   \n",
       "1        0.0                     1.0                   0.0      0.0       0.0   \n",
       "2        0.0                     0.0                   0.0      0.0       0.0   \n",
       "3        0.0                     0.0                   0.0      0.0       0.0   \n",
       "4        0.0                     0.0                   0.0      0.0       0.0   \n",
       "\n",
       "   Merton  Newham  Redbridge  Richmond_upon_Thames  Southwark  Sutton  \\\n",
       "0     0.0     0.0        0.0                   0.0        0.0     0.0   \n",
       "1     0.0     0.0        0.0                   0.0        0.0     0.0   \n",
       "2     0.0     0.0        0.0                   0.0        0.0     0.0   \n",
       "3     0.0     0.0        0.0                   0.0        0.0     0.0   \n",
       "4     0.0     0.0        0.0                   0.0        0.0     0.0   \n",
       "\n",
       "   Tower_Hamlets  Waltham_Forest  Wandsworth  Westminster  \n",
       "0            0.0             0.0         0.0          0.0  \n",
       "1            0.0             0.0         0.0          0.0  \n",
       "2            0.0             0.0         0.0          1.0  \n",
       "3            0.0             0.0         0.0          0.0  \n",
       "4            0.0             0.0         0.0          0.0  "
      ]
     },
     "execution_count": 80,
     "metadata": {},
     "output_type": "execute_result"
    }
   ],
   "source": [
    "df_reg = pd.concat([df_reg, neighbourhood_encoded], axis=1)\n",
    "df_reg.drop(columns=['room_type','neighbourhood_cleansed'], inplace=True)\n",
    "df_reg.head(5)"
   ]
  },
  {
   "cell_type": "code",
   "execution_count": 99,
   "metadata": {
    "ExecuteTime": {
     "end_time": "2022-02-19T12:47:39.994757Z",
     "start_time": "2022-02-19T12:47:39.685501Z"
    }
   },
   "outputs": [
    {
     "data": {
      "image/png": "[encoded data removed]",
      "text/plain": [
       "<Figure size 1080x720 with 1 Axes>"
      ]
     },
     "metadata": {
      "needs_background": "light"
     },
     "output_type": "display_data"
    }
   ],
   "source": [
    "or_corr = pd.DataFrame(df_reg.corrwith(df_reg['price']).sort_values(ascending=False)).reset_index()\n",
    "or_corr.columns = ['feature', 'correlation'] # rename columns\n",
    "or_corr.drop(or_corr[or_corr['feature']=='price'].index,inplace=True)\n",
    "\n",
    "plt.figure(figsize=(15,10))\n",
    "sns.barplot(data=or_corr,x='correlation',y='feature')\n",
    "plt.title('Feature Correlations with Occupancy Rate', size=12)\n",
    "plt.yticks(size=12)\n",
    "plt.grid(color='lightblue')\n",
    "plt.tight_layout()\n",
    "plt.show()"
   ]
  },
  {
   "cell_type": "code",
   "execution_count": 117,
   "metadata": {
    "ExecuteTime": {
     "end_time": "2022-02-19T12:51:59.793680Z",
     "start_time": "2022-02-19T12:51:59.773533Z"
    }
   },
   "outputs": [],
   "source": [
    "scaler = StandardScaler()\n",
    "df_reg_scaled = pd.DataFrame(scaler.fit_transform(df_reg), columns=list(df_reg.columns))"
   ]
  },
  {
   "cell_type": "code",
   "execution_count": 118,
   "metadata": {
    "ExecuteTime": {
     "end_time": "2022-02-19T12:52:00.146408Z",
     "start_time": "2022-02-19T12:52:00.015466Z"
    }
   },
   "outputs": [
    {
     "data": {
      "text/html": [
       "<table class=\"simpletable\">\n",
       "<caption>OLS Regression Results</caption>\n",
       "<tr>\n",
       "  <th>Dep. Variable:</th>          <td>price</td>      <th>  R-squared:         </th>  <td>   0.054</td>  \n",
       "</tr>\n",
       "<tr>\n",
       "  <th>Model:</th>                   <td>OLS</td>       <th>  Adj. R-squared:    </th>  <td>   0.054</td>  \n",
       "</tr>\n",
       "<tr>\n",
       "  <th>Method:</th>             <td>Least Squares</td>  <th>  F-statistic:       </th>  <td>   422.9</td>  \n",
       "</tr>\n",
       "<tr>\n",
       "  <th>Date:</th>             <td>Sat, 19 Feb 2022</td> <th>  Prob (F-statistic):</th>   <td>  0.00</td>   \n",
       "</tr>\n",
       "<tr>\n",
       "  <th>Time:</th>                 <td>13:52:00</td>     <th>  Log-Likelihood:    </th> <td>-4.8267e+05</td>\n",
       "</tr>\n",
       "<tr>\n",
       "  <th>No. Observations:</th>      <td> 66582</td>      <th>  AIC:               </th>  <td>9.654e+05</td> \n",
       "</tr>\n",
       "<tr>\n",
       "  <th>Df Residuals:</th>          <td> 66572</td>      <th>  BIC:               </th>  <td>9.654e+05</td> \n",
       "</tr>\n",
       "<tr>\n",
       "  <th>Df Model:</th>              <td>     9</td>      <th>                     </th>      <td> </td>     \n",
       "</tr>\n",
       "<tr>\n",
       "  <th>Covariance Type:</th>      <td>nonrobust</td>    <th>                     </th>      <td> </td>     \n",
       "</tr>\n",
       "</table>\n",
       "<table class=\"simpletable\">\n",
       "<tr>\n",
       "         <td></td>            <th>coef</th>     <th>std err</th>      <th>t</th>      <th>P>|t|</th>  <th>[0.025</th>    <th>0.975]</th>  \n",
       "</tr>\n",
       "<tr>\n",
       "  <th>Intercept</th>       <td>-1180.8374</td> <td> 1133.494</td> <td>   -1.042</td> <td> 0.298</td> <td>-3402.486</td> <td> 1040.811</td>\n",
       "</tr>\n",
       "<tr>\n",
       "  <th>latitude</th>        <td>   28.8839</td> <td>   27.500</td> <td>    1.050</td> <td> 0.294</td> <td>  -25.017</td> <td>   82.785</td>\n",
       "</tr>\n",
       "<tr>\n",
       "  <th>longitude</th>       <td> -108.4552</td> <td>   13.686</td> <td>   -7.925</td> <td> 0.000</td> <td> -135.279</td> <td>  -81.632</td>\n",
       "</tr>\n",
       "<tr>\n",
       "  <th>accommodates</th>    <td>   18.1846</td> <td>    1.417</td> <td>   12.835</td> <td> 0.000</td> <td>   15.408</td> <td>   20.961</td>\n",
       "</tr>\n",
       "<tr>\n",
       "  <th>bedrooms</th>        <td>   51.3359</td> <td>    2.769</td> <td>   18.541</td> <td> 0.000</td> <td>   45.909</td> <td>   56.763</td>\n",
       "</tr>\n",
       "<tr>\n",
       "  <th>beds</th>            <td>   -5.5539</td> <td>    1.978</td> <td>   -2.808</td> <td> 0.005</td> <td>   -9.431</td> <td>   -1.677</td>\n",
       "</tr>\n",
       "<tr>\n",
       "  <th>minimum_nights</th>  <td>    0.1892</td> <td>    0.044</td> <td>    4.348</td> <td> 0.000</td> <td>    0.104</td> <td>    0.275</td>\n",
       "</tr>\n",
       "<tr>\n",
       "  <th>Entire_home_apt</th> <td> -282.6201</td> <td>  283.359</td> <td>   -0.997</td> <td> 0.319</td> <td> -838.003</td> <td>  272.763</td>\n",
       "</tr>\n",
       "<tr>\n",
       "  <th>Hotel_room</th>      <td> -247.4508</td> <td>  284.129</td> <td>   -0.871</td> <td> 0.384</td> <td> -804.343</td> <td>  309.442</td>\n",
       "</tr>\n",
       "<tr>\n",
       "  <th>Private_room</th>    <td> -318.5466</td> <td>  283.340</td> <td>   -1.124</td> <td> 0.261</td> <td> -873.893</td> <td>  236.800</td>\n",
       "</tr>\n",
       "<tr>\n",
       "  <th>Shared_room</th>     <td> -332.2199</td> <td>  283.587</td> <td>   -1.171</td> <td> 0.241</td> <td> -888.049</td> <td>  223.610</td>\n",
       "</tr>\n",
       "</table>\n",
       "<table class=\"simpletable\">\n",
       "<tr>\n",
       "  <th>Omnibus:</th>       <td>158166.048</td> <th>  Durbin-Watson:     </th>    <td>   1.368</td>   \n",
       "</tr>\n",
       "<tr>\n",
       "  <th>Prob(Omnibus):</th>   <td> 0.000</td>   <th>  Jarque-Bera (JB):  </th> <td>2314253121.363</td>\n",
       "</tr>\n",
       "<tr>\n",
       "  <th>Skew:</th>            <td>24.150</td>   <th>  Prob(JB):          </th>    <td>    0.00</td>   \n",
       "</tr>\n",
       "<tr>\n",
       "  <th>Kurtosis:</th>        <td>915.062</td>  <th>  Cond. No.          </th>    <td>1.39e+17</td>   \n",
       "</tr>\n",
       "</table><br/><br/>Notes:<br/>[1] Standard Errors assume that the covariance matrix of the errors is correctly specified.<br/>[2] The smallest eigenvalue is 9.39e-27. This might indicate that there are<br/>strong multicollinearity problems or that the design matrix is singular."
      ],
      "text/plain": [
       "<class 'statsmodels.iolib.summary.Summary'>\n",
       "\"\"\"\n",
       "                            OLS Regression Results                            \n",
       "==============================================================================\n",
       "Dep. Variable:                  price   R-squared:                       0.054\n",
       "Model:                            OLS   Adj. R-squared:                  0.054\n",
       "Method:                 Least Squares   F-statistic:                     422.9\n",
       "Date:                Sat, 19 Feb 2022   Prob (F-statistic):               0.00\n",
       "Time:                        13:52:00   Log-Likelihood:            -4.8267e+05\n",
       "No. Observations:               66582   AIC:                         9.654e+05\n",
       "Df Residuals:                   66572   BIC:                         9.654e+05\n",
       "Df Model:                           9                                         \n",
       "Covariance Type:            nonrobust                                         \n",
       "===================================================================================\n",
       "                      coef    std err          t      P>|t|      [0.025      0.975]\n",
       "-----------------------------------------------------------------------------------\n",
       "Intercept       -1180.8374   1133.494     -1.042      0.298   -3402.486    1040.811\n",
       "latitude           28.8839     27.500      1.050      0.294     -25.017      82.785\n",
       "longitude        -108.4552     13.686     -7.925      0.000    -135.279     -81.632\n",
       "accommodates       18.1846      1.417     12.835      0.000      15.408      20.961\n",
       "bedrooms           51.3359      2.769     18.541      0.000      45.909      56.763\n",
       "beds               -5.5539      1.978     -2.808      0.005      -9.431      -1.677\n",
       "minimum_nights      0.1892      0.044      4.348      0.000       0.104       0.275\n",
       "Entire_home_apt  -282.6201    283.359     -0.997      0.319    -838.003     272.763\n",
       "Hotel_room       -247.4508    284.129     -0.871      0.384    -804.343     309.442\n",
       "Private_room     -318.5466    283.340     -1.124      0.261    -873.893     236.800\n",
       "Shared_room      -332.2199    283.587     -1.171      0.241    -888.049     223.610\n",
       "==============================================================================\n",
       "Omnibus:                   158166.048   Durbin-Watson:                   1.368\n",
       "Prob(Omnibus):                  0.000   Jarque-Bera (JB):       2314253121.363\n",
       "Skew:                          24.150   Prob(JB):                         0.00\n",
       "Kurtosis:                     915.062   Cond. No.                     1.39e+17\n",
       "==============================================================================\n",
       "\n",
       "Notes:\n",
       "[1] Standard Errors assume that the covariance matrix of the errors is correctly specified.\n",
       "[2] The smallest eigenvalue is 9.39e-27. This might indicate that there are\n",
       "strong multicollinearity problems or that the design matrix is singular.\n",
       "\"\"\""
      ]
     },
     "execution_count": 118,
     "metadata": {},
     "output_type": "execute_result"
    }
   ],
   "source": [
    "model = smf.ols(formula = formula_from_cols(df_reg_scaled,'price'), data=df_reg).fit()\n",
    "model.summary()"
   ]
  },
  {
   "cell_type": "code",
   "execution_count": null,
   "metadata": {},
   "outputs": [],
   "source": []
  },
  {
   "cell_type": "code",
   "execution_count": null,
   "metadata": {},
   "outputs": [],
   "source": []
  }
 ],
 "metadata": {
  "hide_input": false,
  "interpreter": {
   "hash": "e0cc6048b5b98724b065a6f0e1645fe425c5f517ef157605734bfa533b61a06d"
  },
  "kernelspec": {
   "display_name": "Python 3 (ipykernel)",
   "language": "python",
   "name": "python3"
  },
  "language_info": {
   "codemirror_mode": {
    "name": "ipython",
    "version": 3
   },
   "file_extension": ".py",
   "mimetype": "text/x-python",
   "name": "python",
   "nbconvert_exporter": "python",
   "pygments_lexer": "ipython3",
   "version": "3.8.12"
  },
  "toc": {
   "base_numbering": 1,
   "nav_menu": {},
   "number_sections": true,
   "sideBar": true,
   "skip_h1_title": false,
   "title_cell": "Table of Contents",
   "title_sidebar": "Contents",
   "toc_cell": false,
   "toc_position": {},
   "toc_section_display": true,
   "toc_window_display": false
  }
 },
 "nbformat": 4,
 "nbformat_minor": 2
}
