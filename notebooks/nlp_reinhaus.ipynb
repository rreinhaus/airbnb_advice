{
 "cells": [
  {
   "cell_type": "code",
   "execution_count": 26,
   "id": "076ea21c",
   "metadata": {},
   "outputs": [],
   "source": [
    "# Importing the required libaries\n",
    "import numpy as np\n",
    "import pandas as pd\n",
    "import seaborn as sns"
   ]
  },
  {
   "cell_type": "code",
   "execution_count": 27,
   "id": "bddc099b",
   "metadata": {},
   "outputs": [],
   "source": [
    "data = pd.read_csv('/home/rreinhaus/code/rreinhaus/reviews.csv')"
   ]
  },
  {
   "cell_type": "code",
   "execution_count": 28,
   "id": "ac436cd1",
   "metadata": {},
   "outputs": [],
   "source": [
    "small_data = data.sample(100000)"
   ]
  },
  {
   "cell_type": "code",
   "execution_count": 29,
   "id": "77b0a4f6",
   "metadata": {},
   "outputs": [
    {
     "data": {
      "text/plain": [
       "(100000, 6)"
      ]
     },
     "execution_count": 29,
     "metadata": {},
     "output_type": "execute_result"
    }
   ],
   "source": [
    "small_data.shape"
   ]
  },
  {
   "cell_type": "code",
   "execution_count": 30,
   "id": "c38c3cd9",
   "metadata": {},
   "outputs": [
    {
     "data": {
      "text/plain": [
       "Index(['listing_id', 'id', 'date', 'reviewer_id', 'reviewer_name', 'comments'], dtype='object')"
      ]
     },
     "execution_count": 30,
     "metadata": {},
     "output_type": "execute_result"
    }
   ],
   "source": [
    "small_data.columns"
   ]
  },
  {
   "cell_type": "code",
   "execution_count": 31,
   "id": "49bb24c4",
   "metadata": {},
   "outputs": [],
   "source": [
    "listings_data = pd.read_csv('/home/rreinhaus/code/rreinhaus/listings.csv')"
   ]
  },
  {
   "cell_type": "code",
   "execution_count": 32,
   "id": "51098061",
   "metadata": {},
   "outputs": [
    {
     "data": {
      "text/html": [
       "<div>\n",
       "<style scoped>\n",
       "    .dataframe tbody tr th:only-of-type {\n",
       "        vertical-align: middle;\n",
       "    }\n",
       "\n",
       "    .dataframe tbody tr th {\n",
       "        vertical-align: top;\n",
       "    }\n",
       "\n",
       "    .dataframe thead th {\n",
       "        text-align: right;\n",
       "    }\n",
       "</style>\n",
       "<table border=\"1\" class=\"dataframe\">\n",
       "  <thead>\n",
       "    <tr style=\"text-align: right;\">\n",
       "      <th></th>\n",
       "      <th>id</th>\n",
       "      <th>listing_url</th>\n",
       "      <th>scrape_id</th>\n",
       "      <th>last_scraped</th>\n",
       "      <th>name</th>\n",
       "      <th>description</th>\n",
       "      <th>neighborhood_overview</th>\n",
       "      <th>picture_url</th>\n",
       "      <th>host_id</th>\n",
       "      <th>host_url</th>\n",
       "      <th>...</th>\n",
       "      <th>review_scores_communication</th>\n",
       "      <th>review_scores_location</th>\n",
       "      <th>review_scores_value</th>\n",
       "      <th>license</th>\n",
       "      <th>instant_bookable</th>\n",
       "      <th>calculated_host_listings_count</th>\n",
       "      <th>calculated_host_listings_count_entire_homes</th>\n",
       "      <th>calculated_host_listings_count_private_rooms</th>\n",
       "      <th>calculated_host_listings_count_shared_rooms</th>\n",
       "      <th>reviews_per_month</th>\n",
       "    </tr>\n",
       "  </thead>\n",
       "  <tbody>\n",
       "    <tr>\n",
       "      <th>0</th>\n",
       "      <td>13913</td>\n",
       "      <td>https://www.airbnb.com/rooms/13913</td>\n",
       "      <td>20211207182339</td>\n",
       "      <td>2021-12-09</td>\n",
       "      <td>Holiday London DB Room Let-on going</td>\n",
       "      <td>My bright double bedroom with a large window h...</td>\n",
       "      <td>Finsbury Park is a friendly melting pot commun...</td>\n",
       "      <td>https://a0.muscache.com/pictures/miso/Hosting-...</td>\n",
       "      <td>54730</td>\n",
       "      <td>https://www.airbnb.com/users/show/54730</td>\n",
       "      <td>...</td>\n",
       "      <td>4.90</td>\n",
       "      <td>4.65</td>\n",
       "      <td>4.75</td>\n",
       "      <td>NaN</td>\n",
       "      <td>f</td>\n",
       "      <td>2</td>\n",
       "      <td>1</td>\n",
       "      <td>1</td>\n",
       "      <td>0</td>\n",
       "      <td>0.16</td>\n",
       "    </tr>\n",
       "    <tr>\n",
       "      <th>1</th>\n",
       "      <td>15400</td>\n",
       "      <td>https://www.airbnb.com/rooms/15400</td>\n",
       "      <td>20211207182339</td>\n",
       "      <td>2021-12-09</td>\n",
       "      <td>Bright Chelsea  Apartment. Chelsea!</td>\n",
       "      <td>Lots of windows and light.  St Luke's Gardens ...</td>\n",
       "      <td>It is Chelsea.</td>\n",
       "      <td>https://a0.muscache.com/pictures/428392/462d26...</td>\n",
       "      <td>60302</td>\n",
       "      <td>https://www.airbnb.com/users/show/60302</td>\n",
       "      <td>...</td>\n",
       "      <td>4.82</td>\n",
       "      <td>4.93</td>\n",
       "      <td>4.73</td>\n",
       "      <td>NaN</td>\n",
       "      <td>f</td>\n",
       "      <td>1</td>\n",
       "      <td>1</td>\n",
       "      <td>0</td>\n",
       "      <td>0</td>\n",
       "      <td>0.61</td>\n",
       "    </tr>\n",
       "    <tr>\n",
       "      <th>2</th>\n",
       "      <td>17402</td>\n",
       "      <td>https://www.airbnb.com/rooms/17402</td>\n",
       "      <td>20211207182339</td>\n",
       "      <td>2021-12-09</td>\n",
       "      <td>Superb 3-Bed/2 Bath &amp; Wifi: Trendy W1</td>\n",
       "      <td>You'll have a wonderful stay in this superb mo...</td>\n",
       "      <td>Location, location, location! You won't find b...</td>\n",
       "      <td>https://a0.muscache.com/pictures/39d5309d-fba7...</td>\n",
       "      <td>67564</td>\n",
       "      <td>https://www.airbnb.com/users/show/67564</td>\n",
       "      <td>...</td>\n",
       "      <td>4.66</td>\n",
       "      <td>4.85</td>\n",
       "      <td>4.59</td>\n",
       "      <td>NaN</td>\n",
       "      <td>f</td>\n",
       "      <td>1</td>\n",
       "      <td>1</td>\n",
       "      <td>0</td>\n",
       "      <td>0</td>\n",
       "      <td>0.33</td>\n",
       "    </tr>\n",
       "    <tr>\n",
       "      <th>3</th>\n",
       "      <td>17506</td>\n",
       "      <td>https://www.airbnb.com/rooms/17506</td>\n",
       "      <td>20211207182339</td>\n",
       "      <td>2021-12-09</td>\n",
       "      <td>Boutique Chelsea/Fulham Double bed 5-star ensuite</td>\n",
       "      <td>Enjoy a chic stay in this elegant but fully mo...</td>\n",
       "      <td>Fulham is 'villagey' and residential – a real ...</td>\n",
       "      <td>https://a0.muscache.com/pictures/11901327/e63d...</td>\n",
       "      <td>67915</td>\n",
       "      <td>https://www.airbnb.com/users/show/67915</td>\n",
       "      <td>...</td>\n",
       "      <td>NaN</td>\n",
       "      <td>NaN</td>\n",
       "      <td>NaN</td>\n",
       "      <td>NaN</td>\n",
       "      <td>f</td>\n",
       "      <td>2</td>\n",
       "      <td>0</td>\n",
       "      <td>2</td>\n",
       "      <td>0</td>\n",
       "      <td>NaN</td>\n",
       "    </tr>\n",
       "    <tr>\n",
       "      <th>4</th>\n",
       "      <td>25123</td>\n",
       "      <td>https://www.airbnb.com/rooms/25123</td>\n",
       "      <td>20211207182339</td>\n",
       "      <td>2021-12-09</td>\n",
       "      <td>Clean big Room in London (Room 1)</td>\n",
       "      <td>Big room with double bed/ clean sheets/ clean ...</td>\n",
       "      <td>Barnet is one of the largest boroughs in Londo...</td>\n",
       "      <td>https://a0.muscache.com/pictures/456905/a004b9...</td>\n",
       "      <td>103583</td>\n",
       "      <td>https://www.airbnb.com/users/show/103583</td>\n",
       "      <td>...</td>\n",
       "      <td>4.89</td>\n",
       "      <td>4.45</td>\n",
       "      <td>4.74</td>\n",
       "      <td>NaN</td>\n",
       "      <td>t</td>\n",
       "      <td>3</td>\n",
       "      <td>0</td>\n",
       "      <td>3</td>\n",
       "      <td>0</td>\n",
       "      <td>0.91</td>\n",
       "    </tr>\n",
       "  </tbody>\n",
       "</table>\n",
       "<p>5 rows × 74 columns</p>\n",
       "</div>"
      ],
      "text/plain": [
       "      id                         listing_url       scrape_id last_scraped  \\\n",
       "0  13913  https://www.airbnb.com/rooms/13913  20211207182339   2021-12-09   \n",
       "1  15400  https://www.airbnb.com/rooms/15400  20211207182339   2021-12-09   \n",
       "2  17402  https://www.airbnb.com/rooms/17402  20211207182339   2021-12-09   \n",
       "3  17506  https://www.airbnb.com/rooms/17506  20211207182339   2021-12-09   \n",
       "4  25123  https://www.airbnb.com/rooms/25123  20211207182339   2021-12-09   \n",
       "\n",
       "                                                name  \\\n",
       "0                Holiday London DB Room Let-on going   \n",
       "1                Bright Chelsea  Apartment. Chelsea!   \n",
       "2              Superb 3-Bed/2 Bath & Wifi: Trendy W1   \n",
       "3  Boutique Chelsea/Fulham Double bed 5-star ensuite   \n",
       "4                  Clean big Room in London (Room 1)   \n",
       "\n",
       "                                         description  \\\n",
       "0  My bright double bedroom with a large window h...   \n",
       "1  Lots of windows and light.  St Luke's Gardens ...   \n",
       "2  You'll have a wonderful stay in this superb mo...   \n",
       "3  Enjoy a chic stay in this elegant but fully mo...   \n",
       "4  Big room with double bed/ clean sheets/ clean ...   \n",
       "\n",
       "                               neighborhood_overview  \\\n",
       "0  Finsbury Park is a friendly melting pot commun...   \n",
       "1                                     It is Chelsea.   \n",
       "2  Location, location, location! You won't find b...   \n",
       "3  Fulham is 'villagey' and residential – a real ...   \n",
       "4  Barnet is one of the largest boroughs in Londo...   \n",
       "\n",
       "                                         picture_url  host_id  \\\n",
       "0  https://a0.muscache.com/pictures/miso/Hosting-...    54730   \n",
       "1  https://a0.muscache.com/pictures/428392/462d26...    60302   \n",
       "2  https://a0.muscache.com/pictures/39d5309d-fba7...    67564   \n",
       "3  https://a0.muscache.com/pictures/11901327/e63d...    67915   \n",
       "4  https://a0.muscache.com/pictures/456905/a004b9...   103583   \n",
       "\n",
       "                                   host_url  ... review_scores_communication  \\\n",
       "0   https://www.airbnb.com/users/show/54730  ...                        4.90   \n",
       "1   https://www.airbnb.com/users/show/60302  ...                        4.82   \n",
       "2   https://www.airbnb.com/users/show/67564  ...                        4.66   \n",
       "3   https://www.airbnb.com/users/show/67915  ...                         NaN   \n",
       "4  https://www.airbnb.com/users/show/103583  ...                        4.89   \n",
       "\n",
       "  review_scores_location review_scores_value license instant_bookable  \\\n",
       "0                   4.65                4.75     NaN                f   \n",
       "1                   4.93                4.73     NaN                f   \n",
       "2                   4.85                4.59     NaN                f   \n",
       "3                    NaN                 NaN     NaN                f   \n",
       "4                   4.45                4.74     NaN                t   \n",
       "\n",
       "  calculated_host_listings_count calculated_host_listings_count_entire_homes  \\\n",
       "0                              2                                           1   \n",
       "1                              1                                           1   \n",
       "2                              1                                           1   \n",
       "3                              2                                           0   \n",
       "4                              3                                           0   \n",
       "\n",
       "  calculated_host_listings_count_private_rooms  \\\n",
       "0                                            1   \n",
       "1                                            0   \n",
       "2                                            0   \n",
       "3                                            2   \n",
       "4                                            3   \n",
       "\n",
       "  calculated_host_listings_count_shared_rooms reviews_per_month  \n",
       "0                                           0              0.16  \n",
       "1                                           0              0.61  \n",
       "2                                           0              0.33  \n",
       "3                                           0               NaN  \n",
       "4                                           0              0.91  \n",
       "\n",
       "[5 rows x 74 columns]"
      ]
     },
     "execution_count": 32,
     "metadata": {},
     "output_type": "execute_result"
    }
   ],
   "source": [
    "listings_data.head()"
   ]
  },
  {
   "cell_type": "code",
   "execution_count": 8,
   "id": "1c10ab7e",
   "metadata": {},
   "outputs": [
    {
     "data": {
      "text/plain": [
       "Index(['id', 'listing_url', 'scrape_id', 'last_scraped', 'name', 'description',\n",
       "       'neighborhood_overview', 'picture_url', 'host_id', 'host_url',\n",
       "       'host_name', 'host_since', 'host_location', 'host_about',\n",
       "       'host_response_time', 'host_response_rate', 'host_acceptance_rate',\n",
       "       'host_is_superhost', 'host_thumbnail_url', 'host_picture_url',\n",
       "       'host_neighbourhood', 'host_listings_count',\n",
       "       'host_total_listings_count', 'host_verifications',\n",
       "       'host_has_profile_pic', 'host_identity_verified', 'neighbourhood',\n",
       "       'neighbourhood_cleansed', 'neighbourhood_group_cleansed', 'latitude',\n",
       "       'longitude', 'property_type', 'room_type', 'accommodates', 'bathrooms',\n",
       "       'bathrooms_text', 'bedrooms', 'beds', 'amenities', 'price',\n",
       "       'minimum_nights', 'maximum_nights', 'minimum_minimum_nights',\n",
       "       'maximum_minimum_nights', 'minimum_maximum_nights',\n",
       "       'maximum_maximum_nights', 'minimum_nights_avg_ntm',\n",
       "       'maximum_nights_avg_ntm', 'calendar_updated', 'has_availability',\n",
       "       'availability_30', 'availability_60', 'availability_90',\n",
       "       'availability_365', 'calendar_last_scraped', 'number_of_reviews',\n",
       "       'number_of_reviews_ltm', 'number_of_reviews_l30d', 'first_review',\n",
       "       'last_review', 'review_scores_rating', 'review_scores_accuracy',\n",
       "       'review_scores_cleanliness', 'review_scores_checkin',\n",
       "       'review_scores_communication', 'review_scores_location',\n",
       "       'review_scores_value', 'license', 'instant_bookable',\n",
       "       'calculated_host_listings_count',\n",
       "       'calculated_host_listings_count_entire_homes',\n",
       "       'calculated_host_listings_count_private_rooms',\n",
       "       'calculated_host_listings_count_shared_rooms', 'reviews_per_month'],\n",
       "      dtype='object')"
      ]
     },
     "execution_count": 8,
     "metadata": {},
     "output_type": "execute_result"
    }
   ],
   "source": [
    "listings_data.columns"
   ]
  },
  {
   "cell_type": "code",
   "execution_count": 33,
   "id": "f49b0e53",
   "metadata": {},
   "outputs": [],
   "source": [
    "smaller_list= listings_data[['id','host_id','host_is_superhost', 'review_scores_rating', 'number_of_reviews','review_scores_accuracy',\n",
    "       'review_scores_cleanliness', 'review_scores_checkin',\n",
    "       'review_scores_communication', 'review_scores_location','review_scores_value']].copy()"
   ]
  },
  {
   "cell_type": "code",
   "execution_count": 34,
   "id": "44bdce52",
   "metadata": {},
   "outputs": [
    {
     "data": {
      "text/plain": [
       "f    57146\n",
       "t     9436\n",
       "Name: host_is_superhost, dtype: int64"
      ]
     },
     "execution_count": 34,
     "metadata": {},
     "output_type": "execute_result"
    }
   ],
   "source": [
    "smaller_list['host_is_superhost'].value_counts()"
   ]
  },
  {
   "cell_type": "code",
   "execution_count": 35,
   "id": "7b2cafbe",
   "metadata": {},
   "outputs": [],
   "source": [
    "superhost_data = smaller_list[(smaller_list['number_of_reviews'] > 1) & (smaller_list['host_is_superhost'] == 't')].copy()"
   ]
  },
  {
   "cell_type": "code",
   "execution_count": 36,
   "id": "a2aabf72",
   "metadata": {},
   "outputs": [],
   "source": [
    "superhost_data = superhost_data[['id','review_scores_rating']][superhost_data['review_scores_rating'] > 4.5]"
   ]
  },
  {
   "cell_type": "code",
   "execution_count": 37,
   "id": "0df03bab",
   "metadata": {},
   "outputs": [],
   "source": [
    "superhost_data['listing_id'] = superhost_data['id']"
   ]
  },
  {
   "cell_type": "code",
   "execution_count": 38,
   "id": "5c204ea2",
   "metadata": {},
   "outputs": [],
   "source": [
    "superhost_data.drop(columns=['id'], inplace=True)"
   ]
  },
  {
   "cell_type": "code",
   "execution_count": 39,
   "id": "f3004061",
   "metadata": {},
   "outputs": [],
   "source": [
    "small_data = small_data[['listing_id', 'id','comments']]"
   ]
  },
  {
   "cell_type": "code",
   "execution_count": 40,
   "id": "d0b117ad",
   "metadata": {},
   "outputs": [],
   "source": [
    "superhost_reviews = superhost_data.merge(small_data, on='listing_id')"
   ]
  },
  {
   "cell_type": "code",
   "execution_count": 41,
   "id": "88587ae2",
   "metadata": {},
   "outputs": [
    {
     "data": {
      "text/html": [
       "<div>\n",
       "<style scoped>\n",
       "    .dataframe tbody tr th:only-of-type {\n",
       "        vertical-align: middle;\n",
       "    }\n",
       "\n",
       "    .dataframe tbody tr th {\n",
       "        vertical-align: top;\n",
       "    }\n",
       "\n",
       "    .dataframe thead th {\n",
       "        text-align: right;\n",
       "    }\n",
       "</style>\n",
       "<table border=\"1\" class=\"dataframe\">\n",
       "  <thead>\n",
       "    <tr style=\"text-align: right;\">\n",
       "      <th></th>\n",
       "      <th>review_scores_rating</th>\n",
       "      <th>listing_id</th>\n",
       "      <th>id</th>\n",
       "      <th>comments</th>\n",
       "    </tr>\n",
       "  </thead>\n",
       "  <tbody>\n",
       "    <tr>\n",
       "      <th>0</th>\n",
       "      <td>4.85</td>\n",
       "      <td>36660</td>\n",
       "      <td>214152</td>\n",
       "      <td>This room lives up to and surpasses its guaran...</td>\n",
       "    </tr>\n",
       "    <tr>\n",
       "      <th>1</th>\n",
       "      <td>4.85</td>\n",
       "      <td>36660</td>\n",
       "      <td>16397983</td>\n",
       "      <td>Roger and Agri have a lovely home and are char...</td>\n",
       "    </tr>\n",
       "    <tr>\n",
       "      <th>2</th>\n",
       "      <td>4.85</td>\n",
       "      <td>36660</td>\n",
       "      <td>459961193827320307</td>\n",
       "      <td>Agri and Rogers place is fantastic. We loved h...</td>\n",
       "    </tr>\n",
       "    <tr>\n",
       "      <th>3</th>\n",
       "      <td>4.85</td>\n",
       "      <td>36660</td>\n",
       "      <td>272252605</td>\n",
       "      <td>We had a very pleasant stay with Agri and Roge...</td>\n",
       "    </tr>\n",
       "    <tr>\n",
       "      <th>4</th>\n",
       "      <td>4.85</td>\n",
       "      <td>36660</td>\n",
       "      <td>43362500</td>\n",
       "      <td>Agri and Roger were both great! Not only was t...</td>\n",
       "    </tr>\n",
       "    <tr>\n",
       "      <th>...</th>\n",
       "      <td>...</td>\n",
       "      <td>...</td>\n",
       "      <td>...</td>\n",
       "      <td>...</td>\n",
       "    </tr>\n",
       "    <tr>\n",
       "      <th>36090</th>\n",
       "      <td>5.00</td>\n",
       "      <td>52758808</td>\n",
       "      <td>487532906938696354</td>\n",
       "      <td>Great value for money. Very secure and private...</td>\n",
       "    </tr>\n",
       "    <tr>\n",
       "      <th>36091</th>\n",
       "      <td>5.00</td>\n",
       "      <td>52870720</td>\n",
       "      <td>497681960214860573</td>\n",
       "      <td>Very spacious place and comfortable place and ...</td>\n",
       "    </tr>\n",
       "    <tr>\n",
       "      <th>36092</th>\n",
       "      <td>5.00</td>\n",
       "      <td>53019194</td>\n",
       "      <td>486832943098760571</td>\n",
       "      <td>Great location if you want to do some shopping...</td>\n",
       "    </tr>\n",
       "    <tr>\n",
       "      <th>36093</th>\n",
       "      <td>5.00</td>\n",
       "      <td>53370375</td>\n",
       "      <td>509232426315955188</td>\n",
       "      <td>Great location, great communication from host ...</td>\n",
       "    </tr>\n",
       "    <tr>\n",
       "      <th>36094</th>\n",
       "      <td>5.00</td>\n",
       "      <td>53473791</td>\n",
       "      <td>504217092140706688</td>\n",
       "      <td>My girlfriend likes this house very much. It i...</td>\n",
       "    </tr>\n",
       "  </tbody>\n",
       "</table>\n",
       "<p>36095 rows × 4 columns</p>\n",
       "</div>"
      ],
      "text/plain": [
       "       review_scores_rating  listing_id                  id  \\\n",
       "0                      4.85       36660              214152   \n",
       "1                      4.85       36660            16397983   \n",
       "2                      4.85       36660  459961193827320307   \n",
       "3                      4.85       36660           272252605   \n",
       "4                      4.85       36660            43362500   \n",
       "...                     ...         ...                 ...   \n",
       "36090                  5.00    52758808  487532906938696354   \n",
       "36091                  5.00    52870720  497681960214860573   \n",
       "36092                  5.00    53019194  486832943098760571   \n",
       "36093                  5.00    53370375  509232426315955188   \n",
       "36094                  5.00    53473791  504217092140706688   \n",
       "\n",
       "                                                comments  \n",
       "0      This room lives up to and surpasses its guaran...  \n",
       "1      Roger and Agri have a lovely home and are char...  \n",
       "2      Agri and Rogers place is fantastic. We loved h...  \n",
       "3      We had a very pleasant stay with Agri and Roge...  \n",
       "4      Agri and Roger were both great! Not only was t...  \n",
       "...                                                  ...  \n",
       "36090  Great value for money. Very secure and private...  \n",
       "36091  Very spacious place and comfortable place and ...  \n",
       "36092  Great location if you want to do some shopping...  \n",
       "36093  Great location, great communication from host ...  \n",
       "36094  My girlfriend likes this house very much. It i...  \n",
       "\n",
       "[36095 rows x 4 columns]"
      ]
     },
     "execution_count": 41,
     "metadata": {},
     "output_type": "execute_result"
    }
   ],
   "source": [
    "superhost_reviews"
   ]
  },
  {
   "cell_type": "code",
   "execution_count": 42,
   "id": "9407bb4f",
   "metadata": {},
   "outputs": [],
   "source": [
    "# NLP libraries\n",
    "\n",
    "from nltk.corpus import stopwords \n",
    "import string\n",
    "from nltk.stem.wordnet import WordNetLemmatizer\n",
    "from nltk import word_tokenize \n",
    "from sklearn.feature_extraction.text import TfidfVectorizer\n",
    "from sklearn.naive_bayes import MultinomialNB\n",
    "from sklearn.pipeline import make_pipeline\n"
   ]
  },
  {
   "cell_type": "code",
   "execution_count": 90,
   "id": "dd18d65c",
   "metadata": {},
   "outputs": [],
   "source": [
    "additional_words = ['great', 'stay',\n",
    "                    'would','london','br',\n",
    "                    'di', 'la','b',\n",
    "                   'molto','casa','il', \n",
    "                    'un','con','una',\n",
    "                   'de', 'et','br','la','très',\n",
    "                   'est','le','und', 'en',\n",
    "                   'lovely', 'place', 'really','recommend',\n",
    "                   'host', 'room','apartment','highly recommended',\n",
    "                   'everything perfect','everything','recommend','need', 'perfect', 'highly','thanks', 'thank you','next','time'\n",
    "                   ]"
   ]
  },
  {
   "cell_type": "code",
   "execution_count": 91,
   "id": "a95f06a6",
   "metadata": {},
   "outputs": [],
   "source": [
    " ultimate_stop = stopwords.words('english') + additional_words+ stopwords.words('french') + stopwords.words('german') + stopwords.words('italian') + stopwords.words('spanish')"
   ]
  },
  {
   "cell_type": "code",
   "execution_count": 92,
   "id": "0ccd6bf6",
   "metadata": {},
   "outputs": [],
   "source": [
    "def clean(text):\n",
    "    for punctuation in string.punctuation:\n",
    "        text = str(text)\n",
    "        text = text.replace(punctuation, ' ') # Remove Punctuation\n",
    "    lowercased = text.lower() # Lower Case\n",
    "    tokenized = word_tokenize(lowercased) # Tokenize\n",
    "    words_only = [word for word in tokenized if word.isalpha()] # Remove numbers\n",
    "    stop_words = set(ultimate_stop) # Make stopword list\n",
    "    without_stopwords = [word for word in words_only if not word in stop_words] # Remove Stop Words\n",
    "    lemma=WordNetLemmatizer() # Initiate Lemmatizer\n",
    "    lemmatized = [lemma.lemmatize(word) for word in without_stopwords] # Lemmatize\n",
    "    return lemmatized"
   ]
  },
  {
   "cell_type": "code",
   "execution_count": 93,
   "id": "7ac80b00",
   "metadata": {},
   "outputs": [],
   "source": [
    "superhost_reviews['clean_comments']= superhost_reviews['comments'].apply(clean)"
   ]
  },
  {
   "cell_type": "code",
   "execution_count": 94,
   "id": "592df8da",
   "metadata": {},
   "outputs": [],
   "source": [
    "superhost_reviews['clean_comments'] = superhost_reviews['clean_comments'].astype('str')"
   ]
  },
  {
   "cell_type": "code",
   "execution_count": 103,
   "id": "9c775901",
   "metadata": {},
   "outputs": [],
   "source": [
    "from sklearn.decomposition import LatentDirichletAllocation\n",
    "from sklearn.feature_extraction.text import CountVectorizer\n",
    "\n",
    "vectorizer = TfidfVectorizer(min_df=0.01, max_df=0.6,ngram_range = (2,2))\n",
    "\n",
    "data_vectorized = vectorizer.fit_transform(superhost_reviews['clean_comments'])\n",
    "\n",
    "lda_model = LatentDirichletAllocation(n_components=1)\n",
    "\n",
    "lda_vectors = lda_model.fit_transform(data_vectorized)"
   ]
  },
  {
   "cell_type": "code",
   "execution_count": 104,
   "id": "68b6a492",
   "metadata": {},
   "outputs": [
    {
     "name": "stdout",
     "output_type": "stream",
     "text": [
      "Topic 0:\n",
      "[('minute walk', 997.9212300778617), ('tube station', 905.9758726379293), ('clean comfortable', 724.0272826879032), ('walking distance', 715.3019341603982), ('good location', 629.8155995814707), ('made feel', 609.0793988512947), ('well equipped', 575.4948630171666), ('bed comfortable', 514.8665547662874), ('bus stop', 507.17369682123666), ('public transport', 499.06423943689515)]\n"
     ]
    }
   ],
   "source": [
    "def print_topics(model, vectorizer):\n",
    "    for idx, topic in enumerate(model.components_):\n",
    "        print(\"Topic %d:\" % (idx))\n",
    "        print([(vectorizer.get_feature_names()[i], topic[i])\n",
    "                        for i in topic.argsort()[:-10 - 1:-1]])\n",
    "        \n",
    "\n",
    "print_topics(lda_model, vectorizer)"
   ]
  },
  {
   "cell_type": "code",
   "execution_count": 146,
   "id": "a9b747aa",
   "metadata": {},
   "outputs": [],
   "source": [
    "keywords = {}\n",
    "for idx, topic in enumerate(lda_model.components_):\n",
    "    for i in topic.argsort()[:-10 - 1:-1]:\n",
    "        keywords[vectorizer.get_feature_names()[i]] = topic[i]"
   ]
  },
  {
   "cell_type": "code",
   "execution_count": 147,
   "id": "eef750b0",
   "metadata": {},
   "outputs": [
    {
     "data": {
      "text/plain": [
       "{'minute walk': 997.9212300778617,\n",
       " 'tube station': 905.9758726379293,\n",
       " 'clean comfortable': 724.0272826879032,\n",
       " 'walking distance': 715.3019341603982,\n",
       " 'good location': 629.8155995814707,\n",
       " 'made feel': 609.0793988512947,\n",
       " 'well equipped': 575.4948630171666,\n",
       " 'bed comfortable': 514.8665547662874,\n",
       " 'bus stop': 507.17369682123666,\n",
       " 'public transport': 499.06423943689515}"
      ]
     },
     "execution_count": 147,
     "metadata": {},
     "output_type": "execute_result"
    }
   ],
   "source": [
    "keywords"
   ]
  },
  {
   "cell_type": "code",
   "execution_count": 148,
   "id": "3c7ae251",
   "metadata": {},
   "outputs": [],
   "source": [
    "solution = []\n",
    "\n",
    "for key in keywords.keys():\n",
    "    solution.append(key)"
   ]
  },
  {
   "cell_type": "code",
   "execution_count": 149,
   "id": "7c7fbbe5",
   "metadata": {},
   "outputs": [],
   "source": [
    "keywords_final={}\n",
    "keywords_final['keywords'] = solution"
   ]
  },
  {
   "cell_type": "code",
   "execution_count": 152,
   "id": "c29e716c",
   "metadata": {},
   "outputs": [],
   "source": [
    "nlp_customers = pd.DataFrame(keywords_final) "
   ]
  },
  {
   "cell_type": "code",
   "execution_count": 156,
   "id": "2b1f54e9",
   "metadata": {},
   "outputs": [],
   "source": [
    "review_london = nlp_customers.to_csv('review_london.csv')"
   ]
  },
  {
   "cell_type": "code",
   "execution_count": 155,
   "id": "325ce8ff",
   "metadata": {},
   "outputs": [],
   "source": [
    "compression_opts = dict(method='zip',\n",
    "\n",
    "                        archive_name='review_london.csv')  \n",
    "\n",
    "df.to_csv('review_london.zip', index=False,\n",
    "\n",
    "          compression=compression_opts)  "
   ]
  },
  {
   "cell_type": "code",
   "execution_count": null,
   "id": "1f58901b",
   "metadata": {},
   "outputs": [],
   "source": []
  }
 ],
 "metadata": {
  "kernelspec": {
   "display_name": "Python 3 (ipykernel)",
   "language": "python",
   "name": "python3"
  },
  "language_info": {
   "codemirror_mode": {
    "name": "ipython",
    "version": 3
   },
   "file_extension": ".py",
   "mimetype": "text/x-python",
   "name": "python",
   "nbconvert_exporter": "python",
   "pygments_lexer": "ipython3",
   "version": "3.8.12"
  },
  "toc": {
   "base_numbering": 1,
   "nav_menu": {},
   "number_sections": true,
   "sideBar": true,
   "skip_h1_title": false,
   "title_cell": "Table of Contents",
   "title_sidebar": "Contents",
   "toc_cell": false,
   "toc_position": {},
   "toc_section_display": true,
   "toc_window_display": false
  }
 },
 "nbformat": 4,
 "nbformat_minor": 5
}
