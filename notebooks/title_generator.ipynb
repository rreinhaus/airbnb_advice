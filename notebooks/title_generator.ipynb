{
 "cells": [
  {
   "cell_type": "code",
   "execution_count": 58,
   "id": "3ee244f9",
   "metadata": {},
   "outputs": [],
   "source": [
    "# Importing the required libaries\n",
    "import numpy as np\n",
    "import pandas as pd\n",
    "from tensorflow.keras.preprocessing.sequence import pad_sequences\n",
    "from tensorflow.keras.layers import Embedding, LSTM, Dense, Dropout,Conv1D,Flatten \n",
    "from tensorflow.keras.preprocessing.text import Tokenizer\n",
    "from tensorflow.keras.callbacks import EarlyStopping\n",
    "from tensorflow.keras.models import Sequential\n",
    "from tensorflow.keras.utils import to_categorical\n",
    "import tensorflow as tf\n",
    "import string\n",
    "\n",
    "\n",
    "# Loading the listings data set\n",
    "\n",
    "listings_data = pd.read_csv('/home/rreinhaus/code/rreinhaus/listings.csv')"
   ]
  },
  {
   "cell_type": "code",
   "execution_count": 44,
   "id": "d6a08a10",
   "metadata": {},
   "outputs": [
    {
     "data": {
      "text/html": [
       "<div>\n",
       "<style scoped>\n",
       "    .dataframe tbody tr th:only-of-type {\n",
       "        vertical-align: middle;\n",
       "    }\n",
       "\n",
       "    .dataframe tbody tr th {\n",
       "        vertical-align: top;\n",
       "    }\n",
       "\n",
       "    .dataframe thead th {\n",
       "        text-align: right;\n",
       "    }\n",
       "</style>\n",
       "<table border=\"1\" class=\"dataframe\">\n",
       "  <thead>\n",
       "    <tr style=\"text-align: right;\">\n",
       "      <th></th>\n",
       "      <th>id</th>\n",
       "      <th>name</th>\n",
       "    </tr>\n",
       "  </thead>\n",
       "  <tbody>\n",
       "    <tr>\n",
       "      <th>0</th>\n",
       "      <td>13913</td>\n",
       "      <td>Holiday London DB Room Let-on going</td>\n",
       "    </tr>\n",
       "    <tr>\n",
       "      <th>1</th>\n",
       "      <td>15400</td>\n",
       "      <td>Bright Chelsea  Apartment. Chelsea!</td>\n",
       "    </tr>\n",
       "    <tr>\n",
       "      <th>2</th>\n",
       "      <td>17402</td>\n",
       "      <td>Superb 3-Bed/2 Bath &amp; Wifi: Trendy W1</td>\n",
       "    </tr>\n",
       "    <tr>\n",
       "      <th>4</th>\n",
       "      <td>25123</td>\n",
       "      <td>Clean big Room in London (Room 1)</td>\n",
       "    </tr>\n",
       "    <tr>\n",
       "      <th>5</th>\n",
       "      <td>33332</td>\n",
       "      <td>Beautiful Ensuite Richmond-upon-Thames borough</td>\n",
       "    </tr>\n",
       "    <tr>\n",
       "      <th>...</th>\n",
       "      <td>...</td>\n",
       "      <td>...</td>\n",
       "    </tr>\n",
       "    <tr>\n",
       "      <th>66399</th>\n",
       "      <td>53618204</td>\n",
       "      <td>Studio located at Goodge street.</td>\n",
       "    </tr>\n",
       "    <tr>\n",
       "      <th>66405</th>\n",
       "      <td>53618701</td>\n",
       "      <td>Lovely 1-bedroom in Acton</td>\n",
       "    </tr>\n",
       "    <tr>\n",
       "      <th>66423</th>\n",
       "      <td>53622933</td>\n",
       "      <td>Luxury, Modern &amp; Cosy 2 Bedroom London Apartment</td>\n",
       "    </tr>\n",
       "    <tr>\n",
       "      <th>66517</th>\n",
       "      <td>53657036</td>\n",
       "      <td>DreamyApartment-CloseToHydePar-KensingtonOlympia</td>\n",
       "    </tr>\n",
       "    <tr>\n",
       "      <th>66547</th>\n",
       "      <td>53673183</td>\n",
       "      <td>2 Minutes to Central London! A Victorian Vicarage</td>\n",
       "    </tr>\n",
       "  </tbody>\n",
       "</table>\n",
       "<p>42308 rows × 2 columns</p>\n",
       "</div>"
      ],
      "text/plain": [
       "             id                                               name\n",
       "0         13913                Holiday London DB Room Let-on going\n",
       "1         15400                Bright Chelsea  Apartment. Chelsea!\n",
       "2         17402              Superb 3-Bed/2 Bath & Wifi: Trendy W1\n",
       "4         25123                  Clean big Room in London (Room 1)\n",
       "5         33332     Beautiful Ensuite Richmond-upon-Thames borough\n",
       "...         ...                                                ...\n",
       "66399  53618204                   Studio located at Goodge street.\n",
       "66405  53618701                          Lovely 1-bedroom in Acton\n",
       "66423  53622933   Luxury, Modern & Cosy 2 Bedroom London Apartment\n",
       "66517  53657036   DreamyApartment-CloseToHydePar-KensingtonOlympia\n",
       "66547  53673183  2 Minutes to Central London! A Victorian Vicarage\n",
       "\n",
       "[42308 rows x 2 columns]"
      ]
     },
     "execution_count": 44,
     "metadata": {},
     "output_type": "execute_result"
    }
   ],
   "source": [
    "title_data = listings_data[['id', 'name']][listings_data['review_scores_rating'] > 4]\n",
    "title_data"
   ]
  },
  {
   "cell_type": "code",
   "execution_count": 45,
   "id": "b3ae3eba",
   "metadata": {},
   "outputs": [],
   "source": [
    "# return corpus\n",
    "def corpus(text):\n",
    "    text = ''.join(e for e in text if e not in string.punctuation).lower()\n",
    "    \n",
    "    text = text.encode('utf8').decode('ascii', 'ignore')\n",
    "    return text\n",
    "\n",
    "corpus = [corpus(str(e)) for e in title_data['name']]"
   ]
  },
  {
   "cell_type": "code",
   "execution_count": 46,
   "id": "dc2d0343",
   "metadata": {},
   "outputs": [],
   "source": [
    "data = \" \".join(corpus)"
   ]
  },
  {
   "cell_type": "code",
   "execution_count": 47,
   "id": "76027583",
   "metadata": {},
   "outputs": [],
   "source": [
    "def tokens(text):\n",
    "    tokens = text.split()\n",
    "    table = str.maketrans(\"\", \"\", string.punctuation)\n",
    "    tokens = [w.translate(table) for w in tokens]\n",
    "    tokens = [word for word in tokens if word.isalpha()]\n",
    "    tokens = [word.lower() for word in tokens]\n",
    "    return tokens\n",
    "\n",
    "tokens = tokens(data)"
   ]
  },
  {
   "cell_type": "code",
   "execution_count": 48,
   "id": "56167a5a",
   "metadata": {},
   "outputs": [
    {
     "data": {
      "text/plain": [
       "35"
      ]
     },
     "execution_count": 48,
     "metadata": {},
     "output_type": "execute_result"
    }
   ],
   "source": [
    "len(title_data['name'][0])"
   ]
  },
  {
   "cell_type": "code",
   "execution_count": 49,
   "id": "6c210635",
   "metadata": {},
   "outputs": [
    {
     "name": "stdout",
     "output_type": "stream",
     "text": [
      "253416\n"
     ]
    }
   ],
   "source": [
    "length = 5+1\n",
    "lines = []\n",
    "\n",
    "for i in range(length, len(tokens)):\n",
    "    seq = tokens[i-length:i]\n",
    "    line = \" \".join(seq)\n",
    "    lines.append(line)\n",
    "\n",
    "print(len(lines))"
   ]
  },
  {
   "cell_type": "code",
   "execution_count": 51,
   "id": "0efb330e",
   "metadata": {},
   "outputs": [],
   "source": [
    "tokenizer = Tokenizer()\n",
    "tokenizer.fit_on_texts(lines)\n",
    "sequences = tokenizer.texts_to_sequences(lines)\n",
    "sequences = np.array(sequences)"
   ]
  },
  {
   "cell_type": "code",
   "execution_count": 52,
   "id": "b1c4d5df",
   "metadata": {},
   "outputs": [
    {
     "data": {
      "text/plain": [
       "array([[ 377,    4,  841,    3, 7267, 2350],\n",
       "       [   4,  841,    3, 7267, 2350,   17],\n",
       "       [ 841,    3, 7267, 2350,   17,   72],\n",
       "       ...,\n",
       "       [   7, 7266,  125,   12,   10,    4],\n",
       "       [7266,  125,   12,   10,    4,   26],\n",
       "       [ 125,   12,   10,    4,   26,   47]])"
      ]
     },
     "execution_count": 52,
     "metadata": {},
     "output_type": "execute_result"
    }
   ],
   "source": [
    "sequences"
   ]
  },
  {
   "cell_type": "code",
   "execution_count": 53,
   "id": "09e4b434",
   "metadata": {},
   "outputs": [],
   "source": [
    "X, y = sequences[:, :-1], sequences[:,-1]"
   ]
  },
  {
   "cell_type": "code",
   "execution_count": 54,
   "id": "62c3974a",
   "metadata": {},
   "outputs": [],
   "source": [
    "len_ = int(0.8*len(X))\n",
    "\n",
    "X_train = X[:len_]\n",
    "X_test = X[len_:]\n",
    "\n",
    "y_train = y[:len_]\n",
    "y_test = y[len_:]"
   ]
  },
  {
   "cell_type": "code",
   "execution_count": 55,
   "id": "f101149b",
   "metadata": {},
   "outputs": [],
   "source": [
    "vocab_size = len(tokenizer.word_index) + 1"
   ]
  },
  {
   "cell_type": "code",
   "execution_count": 56,
   "id": "fd63db9e",
   "metadata": {},
   "outputs": [],
   "source": [
    "y_train = to_categorical(y_train, num_classes=vocab_size)\n",
    "y_test = to_categorical(y_test, num_classes=vocab_size)"
   ]
  },
  {
   "cell_type": "code",
   "execution_count": 57,
   "id": "41b5eab4",
   "metadata": {},
   "outputs": [],
   "source": [
    "import gensim.downloader as api\n",
    "from tensorflow.keras.preprocessing.sequence import pad_sequences\n",
    "import numpy as np\n",
    "\n",
    "# load a word2vec embedding\n",
    "word2vec_transfer = api.load(\"glove-wiki-gigaword-50\")\n",
    "\n",
    "# Function to convert a sentence (list of words) into a matrix representing the words in the embedding space\n",
    "def embed_sentence_with_TF(word2vec, sentence):\n",
    "    embedded_sentence = []\n",
    "    for word in sentence:\n",
    "        if word in word2vec:\n",
    "            embedded_sentence.append(word2vec[word])\n",
    "        \n",
    "    return np.array(embedded_sentence)\n",
    "\n",
    "# Function that converts a list of sentences into a list of matrices\n",
    "def embedding(word2vec, sentences):\n",
    "    embed = []\n",
    "    \n",
    "    for sentence in sentences:\n",
    "        embedded_sentence = embed_sentence_with_TF(word2vec, sentence)\n",
    "        embed.append(embedded_sentence)\n",
    "        \n",
    "    return embed\n",
    "\n",
    "# Embed the training and test sentences\n",
    "X_train_embed = embedding(word2vec_transfer, X_train)\n",
    "X_test_embed = embedding(word2vec_transfer, X_test)\n",
    "\n",
    "# Pad the training and test embedded sentences\n",
    "X_train_embed = pad_sequences(X_train_embed, dtype='float32', padding='pre')\n",
    "X_test_embed = pad_sequences(X_test_embed, dtype='float32', padding='pre')"
   ]
  },
  {
   "cell_type": "code",
   "execution_count": null,
   "id": "b5240606",
   "metadata": {},
   "outputs": [],
   "source": [
    "def init_cnn_model():\n",
    "    model = Sequential()\n",
    "    model.add(Conv1D(16, 3))\n",
    "    model.add(Flatten())\n",
    "    model.add(Dense(5,))\n",
    "    model.add(Dense(vocab_size, activation='softmax'))\n",
    "\n",
    "    model.compile(loss='categorical_crossentropy', optimizer='adam', metrics=['accuracy'])\n",
    "    return model\n",
    "\n",
    "model_cnn = init_cnn_model()\n",
    "\n",
    "\n",
    "es = EarlyStopping(patience=5, restore_best_weights=True)\n",
    "\n",
    "model_cnn.fit(X_train_embed, y_train, \n",
    "          epochs=20, \n",
    "          batch_size=32,\n",
    "          validation_split=0.2,\n",
    "          callbacks=[es]\n",
    "         )\n",
    "\n",
    "\n",
    "res = model_cnn.evaluate(X_test_embed, y_test, verbose=0)\n",
    "\n",
    "print(f'The accuracy evaluated on the test set is of {res[1]*100:.3f}%')"
   ]
  },
  {
   "cell_type": "code",
   "execution_count": null,
   "id": "ca8cc5f0",
   "metadata": {},
   "outputs": [],
   "source": []
  }
 ],
 "metadata": {
  "kernelspec": {
   "display_name": "Python 3 (ipykernel)",
   "language": "python",
   "name": "python3"
  },
  "language_info": {
   "codemirror_mode": {
    "name": "ipython",
    "version": 3
   },
   "file_extension": ".py",
   "mimetype": "text/x-python",
   "name": "python",
   "nbconvert_exporter": "python",
   "pygments_lexer": "ipython3",
   "version": "3.8.12"
  },
  "toc": {
   "base_numbering": 1,
   "nav_menu": {},
   "number_sections": true,
   "sideBar": true,
   "skip_h1_title": false,
   "title_cell": "Table of Contents",
   "title_sidebar": "Contents",
   "toc_cell": false,
   "toc_position": {},
   "toc_section_display": true,
   "toc_window_display": false
  }
 },
 "nbformat": 4,
 "nbformat_minor": 5
}
